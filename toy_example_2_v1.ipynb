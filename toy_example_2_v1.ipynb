{
 "cells": [
  {
   "cell_type": "code",
   "execution_count": 508,
   "metadata": {},
   "outputs": [],
   "source": [
    "import numpy as np\n",
    "import pandas as pd\n",
    "import ipdb\n",
    "import pickle\n",
    "import nnkcde\n",
    "from cdetools.cdf_coverage import cdf_coverage\n",
    "from cdetools.plot_utils import plot_with_uniform_band\n",
    "from scipy.stats import norm, gamma\n",
    "from scipy.integrate import simps\n",
    "import statsmodels.api as sm\n",
    "from sklearn.neural_network import MLPClassifier\n",
    "import statsmodels.api as sm\n",
    "from scipy.special import expit, logit\n",
    "from sklearn.mixture import GaussianMixture\n",
    "\n",
    "import matplotlib.pyplot as plt\n",
    "from mpl_toolkits.mplot3d import Axes3D\n",
    "\n",
    "from matplotlib.ticker import NullFormatter\n",
    "import seaborn as sns"
   ]
  },
  {
   "cell_type": "markdown",
   "metadata": {},
   "source": [
    "# i. GMM with different vars\n",
    "# $X \\sim 0.5N(0,1) + 0.5N(0,0.01)$"
   ]
  },
  {
   "cell_type": "code",
   "execution_count": 372,
   "metadata": {},
   "outputs": [],
   "source": [
    "def sample_GMM(size=10000, p=0.5, loc=0, scale1=1, scale2=0.1, seed=6):\n",
    "    np.random.seed(seed)\n",
    "    ind_mix1 = np.random.binomial(n=1, p=p, size=size)\n",
    "    mix1 = np.random.normal(loc=loc, scale=scale1, size=size)\n",
    "    mix2 = np.random.normal(loc=loc, scale=scale2, size=size)\n",
    "    x_sample = ind_mix1*mix1 + (1-ind_mix1)*mix2\n",
    "    return x_sample"
   ]
  },
  {
   "cell_type": "code",
   "execution_count": 373,
   "metadata": {},
   "outputs": [],
   "source": [
    "def calc_pdf_GMM(x, p=0.5, loc=0, scale1=1, scale2=0.1):\n",
    "    pdf = p*norm.pdf(x=x, loc=loc, scale=scale1) + (1-p)*norm.pdf(x=x, loc=loc, scale=scale2)\n",
    "    return pdf"
   ]
  },
  {
   "cell_type": "code",
   "execution_count": 374,
   "metadata": {},
   "outputs": [],
   "source": [
    "def calc_dist_badG(x_sample):\n",
    "    dist = norm(loc=x_sample.mean(), scale=np.sqrt(x_sample.var()))\n",
    "    return dist"
   ]
  },
  {
   "cell_type": "code",
   "execution_count": 375,
   "metadata": {},
   "outputs": [],
   "source": [
    "def calc_pdf_goodEM(x, gm):\n",
    "    p = gm.weights_[0]\n",
    "    loc1 = gm.means_[0]\n",
    "    loc2 = gm.means_[1]\n",
    "    scale1 = np.sqrt(gm.covariances_[0])\n",
    "    scale2 = np.sqrt(gm.covariances_[1])\n",
    "    pdf = p*norm.pdf(x=x, loc=loc1, scale=scale1) + (1-p)*norm.pdf(x=x, loc=loc2, scale=scale2)\n",
    "    return pdf"
   ]
  },
  {
   "cell_type": "code",
   "execution_count": 394,
   "metadata": {},
   "outputs": [
    {
     "data": {
      "image/png": "[encoded data removed]",
      "text/plain": [
       "<Figure size 432x432 with 1 Axes>"
      ]
     },
     "metadata": {
      "needs_background": "light"
     },
     "output_type": "display_data"
    }
   ],
   "source": [
    "fig = plt.figure(figsize=(6,6))\n",
    "\n",
    "loc=0\n",
    "p=0.5\n",
    "scale1=1\n",
    "scale2=0.1\n",
    "x_sample = sample_GMM(size=10000, loc=loc, p=p, scale1=scale1, scale2=scale2)\n",
    "\n",
    "# real density\n",
    "x_range = np.linspace(-6,6,150)\n",
    "pdf_true_vals = [calc_pdf_GMM(x, loc=loc, p=p, scale1=scale1, scale2=scale2) for x in x_range]\n",
    "\n",
    "# bad Gaussian approx\n",
    "dist_badG = calc_dist_badG(x_sample)\n",
    "pdf_badG_vals = [dist_badG.pdf(x) for x in x_range]\n",
    "\n",
    "# good EM algorithm\n",
    "gm = GaussianMixture(n_components=2, random_state=6, covariance_type='spherical').fit(x_sample.reshape(-1,1))\n",
    "pdf_goodEM_vals = [calc_pdf_goodEM(x, gm) for x in x_range]\n",
    "\n",
    "plt.plot(x_range, pdf_true_vals, label='true density')\n",
    "plt.plot(x_range, pdf_badG_vals, label='Gaussian approx')\n",
    "plt.plot(x_range, pdf_goodEM_vals, label='GMM EM approx')\n",
    "\n",
    "plt.xlabel('$x$', fontsize=16)\n",
    "plt.ylabel('$f(x)$', fontsize=16)\n",
    "plt.xticks(fontsize=14)\n",
    "plt.yticks(fontsize=14)\n",
    "\n",
    "plt.title('PDF of Gaussian Mixture Model', fontsize=20)\n",
    "plt.legend(fontsize=12, loc=(0.55,0.7))\n",
    "\n",
    "plt.show()"
   ]
  },
  {
   "cell_type": "code",
   "execution_count": 395,
   "metadata": {},
   "outputs": [
    {
     "data": {
      "text/plain": [
       "array([0.90908461, 0.09091539])"
      ]
     },
     "execution_count": 395,
     "metadata": {},
     "output_type": "execute_result"
    }
   ],
   "source": [
    "gm.weights_"
   ]
  },
  {
   "cell_type": "code",
   "execution_count": 396,
   "metadata": {},
   "outputs": [
    {
     "data": {
      "text/plain": [
       "array([[ 0.10017357],\n",
       "       [-1.13669604]])"
      ]
     },
     "execution_count": 396,
     "metadata": {},
     "output_type": "execute_result"
    }
   ],
   "source": [
    "gm.means_"
   ]
  },
  {
   "cell_type": "code",
   "execution_count": 397,
   "metadata": {},
   "outputs": [
    {
     "data": {
      "text/plain": [
       "array([0.3430132 , 0.67685146])"
      ]
     },
     "execution_count": 397,
     "metadata": {},
     "output_type": "execute_result"
    }
   ],
   "source": [
    "gm.covariances_"
   ]
  },
  {
   "cell_type": "markdown",
   "metadata": {},
   "source": [
    "### compute KL divergence"
   ]
  },
  {
   "cell_type": "code",
   "execution_count": 398,
   "metadata": {},
   "outputs": [],
   "source": [
    "n = 10000"
   ]
  },
  {
   "cell_type": "code",
   "execution_count": 399,
   "metadata": {},
   "outputs": [
    {
     "data": {
      "text/plain": [
       "1.0721696064230886"
      ]
     },
     "execution_count": 399,
     "metadata": {},
     "output_type": "execute_result"
    }
   ],
   "source": [
    "KL_badG = -1/n * np.sum(np.log(dist_badG.pdf(x_sample)))\n",
    "KL_badG"
   ]
  },
  {
   "cell_type": "code",
   "execution_count": 400,
   "metadata": {},
   "outputs": [
    {
     "data": {
      "text/plain": [
       "1.0469205244283175"
      ]
     },
     "execution_count": 400,
     "metadata": {},
     "output_type": "execute_result"
    }
   ],
   "source": [
    "KL_goodEM = -1/n * np.sum(np.log(calc_pdf_goodEM(x_sample, gm)))\n",
    "KL_goodEM"
   ]
  },
  {
   "cell_type": "code",
   "execution_count": null,
   "metadata": {},
   "outputs": [],
   "source": []
  },
  {
   "cell_type": "code",
   "execution_count": null,
   "metadata": {},
   "outputs": [],
   "source": []
  },
  {
   "cell_type": "code",
   "execution_count": null,
   "metadata": {},
   "outputs": [],
   "source": []
  },
  {
   "cell_type": "code",
   "execution_count": null,
   "metadata": {},
   "outputs": [],
   "source": []
  },
  {
   "cell_type": "markdown",
   "metadata": {},
   "source": [
    "# ii. GMM with 2 different means\n",
    "# $X \\sim 0.9N(0,1) + 0.1N(4,1)$"
   ]
  },
  {
   "cell_type": "code",
   "execution_count": 405,
   "metadata": {},
   "outputs": [],
   "source": [
    "def sample_GMM(size=10000, p=0.9, loc1=0, loc2=4, scale=1, seed=6):\n",
    "    np.random.seed(seed)\n",
    "    ind_mix1 = np.random.binomial(n=1, p=p, size=size)\n",
    "    mix1 = np.random.normal(loc=loc1, scale=scale, size=size)\n",
    "    mix2 = np.random.normal(loc=loc2, scale=scale, size=size)\n",
    "    x_sample = ind_mix1*mix1 + (1-ind_mix1)*mix2\n",
    "    return x_sample"
   ]
  },
  {
   "cell_type": "code",
   "execution_count": 406,
   "metadata": {},
   "outputs": [],
   "source": [
    "def calc_pdf_GMM(x, p=0.9, loc1=0, loc2=4, scale=1):\n",
    "    pdf = p*norm.pdf(x=x, loc=loc1, scale=scale) + (1-p)*norm.pdf(x=x, loc=loc2, scale=scale)\n",
    "    return pdf"
   ]
  },
  {
   "cell_type": "code",
   "execution_count": 407,
   "metadata": {},
   "outputs": [],
   "source": [
    "def calc_dist_badG(x_sample):\n",
    "    dist = norm(loc=x_sample.mean(), scale=np.sqrt(x_sample.var()))\n",
    "    return dist"
   ]
  },
  {
   "cell_type": "code",
   "execution_count": 408,
   "metadata": {},
   "outputs": [],
   "source": [
    "def calc_pdf_goodEM(x, gm):\n",
    "    p = gm.weights_[0]\n",
    "    loc1 = gm.means_[0]\n",
    "    loc2 = gm.means_[1]\n",
    "    scale1 = np.sqrt(gm.covariances_[0])\n",
    "    scale2 = np.sqrt(gm.covariances_[1])\n",
    "    pdf = p*norm.pdf(x=x, loc=loc1, scale=scale1) + (1-p)*norm.pdf(x=x, loc=loc2, scale=scale2)\n",
    "    return pdf"
   ]
  },
  {
   "cell_type": "code",
   "execution_count": 421,
   "metadata": {},
   "outputs": [
    {
     "data": {
      "image/png": "[encoded data removed]",
      "text/plain": [
       "<Figure size 432x432 with 1 Axes>"
      ]
     },
     "metadata": {
      "needs_background": "light"
     },
     "output_type": "display_data"
    }
   ],
   "source": [
    "fig = plt.figure(figsize=(6,6))\n",
    "\n",
    "loc1=0\n",
    "loc2=4\n",
    "p=0.9\n",
    "x_sample = sample_GMM(size=10000, p=0.9, loc1=0, loc2=4, scale=1)\n",
    "\n",
    "# real density\n",
    "x_range = np.linspace(-6,6,150)\n",
    "pdf_true_vals = [calc_pdf_GMM(x, p=0.9, loc1=0, loc2=4, scale=1) for x in x_range]\n",
    "\n",
    "# bad Gaussian approx\n",
    "dist_badG = calc_dist_badG(x_sample)\n",
    "pdf_badG_vals = [dist_badG.pdf(x) for x in x_range]\n",
    "\n",
    "# good EM algorithm\n",
    "gm = GaussianMixture(n_components=2, random_state=6, covariance_type='spherical').fit(x_sample.reshape(-1,1))\n",
    "pdf_goodEM_vals = [calc_pdf_goodEM(x, gm) for x in x_range]\n",
    "\n",
    "plt.plot(x_range, pdf_true_vals, label='true density')\n",
    "plt.plot(x_range, pdf_badG_vals, label='Gaussian approx')\n",
    "plt.plot(x_range, pdf_goodEM_vals, label='GMM EM approx')\n",
    "\n",
    "plt.xlabel('$x$', fontsize=16)\n",
    "plt.ylabel('$f(x)$', fontsize=16)\n",
    "plt.xticks(fontsize=14)\n",
    "plt.yticks(fontsize=14)\n",
    "\n",
    "plt.title('PDF of Gaussian Mixture Model', fontsize=20)\n",
    "plt.legend(fontsize=14)\n",
    "\n",
    "plt.show()"
   ]
  },
  {
   "cell_type": "code",
   "execution_count": 422,
   "metadata": {},
   "outputs": [
    {
     "data": {
      "text/plain": [
       "array([0.88052915, 0.11947085])"
      ]
     },
     "execution_count": 422,
     "metadata": {},
     "output_type": "execute_result"
    }
   ],
   "source": [
    "gm.weights_"
   ]
  },
  {
   "cell_type": "code",
   "execution_count": 423,
   "metadata": {},
   "outputs": [
    {
     "data": {
      "text/plain": [
       "array([[-0.06214433],\n",
       "       [ 3.62800293]])"
      ]
     },
     "execution_count": 423,
     "metadata": {},
     "output_type": "execute_result"
    }
   ],
   "source": [
    "gm.means_"
   ]
  },
  {
   "cell_type": "code",
   "execution_count": 424,
   "metadata": {},
   "outputs": [
    {
     "data": {
      "text/plain": [
       "array([0.9289504 , 1.63642766])"
      ]
     },
     "execution_count": 424,
     "metadata": {},
     "output_type": "execute_result"
    }
   ],
   "source": [
    "gm.covariances_"
   ]
  },
  {
   "cell_type": "markdown",
   "metadata": {},
   "source": [
    "### compute KL divergence"
   ]
  },
  {
   "cell_type": "code",
   "execution_count": 425,
   "metadata": {},
   "outputs": [],
   "source": [
    "n = 10000"
   ]
  },
  {
   "cell_type": "code",
   "execution_count": 426,
   "metadata": {},
   "outputs": [
    {
     "data": {
      "text/plain": [
       "1.8661588502313826"
      ]
     },
     "execution_count": 426,
     "metadata": {},
     "output_type": "execute_result"
    }
   ],
   "source": [
    "KL_badG = -1/n * np.sum(np.log(dist_badG.pdf(x_sample)))\n",
    "KL_badG"
   ]
  },
  {
   "cell_type": "code",
   "execution_count": 427,
   "metadata": {},
   "outputs": [
    {
     "data": {
      "text/plain": [
       "1.7098045424312998"
      ]
     },
     "execution_count": 427,
     "metadata": {},
     "output_type": "execute_result"
    }
   ],
   "source": [
    "KL_goodEM = -1/n * np.sum(np.log(calc_pdf_goodEM(x_sample, gm)))\n",
    "KL_goodEM"
   ]
  },
  {
   "cell_type": "code",
   "execution_count": null,
   "metadata": {},
   "outputs": [],
   "source": []
  },
  {
   "cell_type": "code",
   "execution_count": null,
   "metadata": {},
   "outputs": [],
   "source": []
  },
  {
   "cell_type": "code",
   "execution_count": null,
   "metadata": {},
   "outputs": [],
   "source": []
  },
  {
   "cell_type": "code",
   "execution_count": null,
   "metadata": {},
   "outputs": [],
   "source": []
  },
  {
   "cell_type": "markdown",
   "metadata": {},
   "source": [
    "# GMM with 3 different means\n",
    "# $X \\sim 0.8N(0,1) + 0.1N(3,1) + 0.1N(4,1)$"
   ]
  },
  {
   "cell_type": "code",
   "execution_count": 430,
   "metadata": {},
   "outputs": [],
   "source": [
    "def sample_GMM(size=10000, p1=0.8, p2=0.1, loc1=0, loc2=3, loc3=4, seed=6):\n",
    "    np.random.seed(seed)\n",
    "    ind_mix1 = np.random.binomial(n=1, p=p1, size=size)\n",
    "    ind_mix2 = np.random.binomial(n=1, p=p2, size=size) * (1 - ind_mix1)\n",
    "    ind_mix3 = 1 - ind_mix1 - ind_mix2\n",
    "    mix1 = np.random.normal(loc=loc1, scale=1, size=size)\n",
    "    mix2 = np.random.normal(loc=loc2, scale=1, size=size)\n",
    "    mix3 = np.random.normal(loc=loc3, scale=1, size=size)\n",
    "    x_sample = ind_mix1*mix1 + ind_mix2*mix2 + ind_mix3*mix3\n",
    "    return x_sample"
   ]
  },
  {
   "cell_type": "code",
   "execution_count": 445,
   "metadata": {},
   "outputs": [],
   "source": [
    "def calc_pdf_GMM(x, p1=0.8, p2=0.1, loc1=0, loc2=3, loc3=4):\n",
    "    pdf = p1*norm.pdf(x=x, loc=loc1, scale=1) + p2*norm.pdf(x=x, loc=loc2, scale=1) + \\\n",
    "        (1-p1-p2)*norm.pdf(x=x, loc=loc3, scale=1)\n",
    "    return pdf"
   ]
  },
  {
   "cell_type": "code",
   "execution_count": 503,
   "metadata": {},
   "outputs": [],
   "source": [
    "def calc_pdf_tricky(x, loc=1.8, scale=2.2):\n",
    "    pdf = norm.pdf(x=x, loc=loc, scale=scale)\n",
    "    return pdf"
   ]
  },
  {
   "cell_type": "code",
   "execution_count": 447,
   "metadata": {},
   "outputs": [],
   "source": [
    "def calc_dist_badG(x_sample):\n",
    "    dist = norm(loc=x_sample.mean(), scale=np.sqrt(x_sample.var()))\n",
    "    return dist"
   ]
  },
  {
   "cell_type": "code",
   "execution_count": 527,
   "metadata": {},
   "outputs": [],
   "source": [
    "def calc_pdf_goodEM(x, gm):\n",
    "    p1 = gm.weights_[0]\n",
    "    p2 = gm.weights_[1]\n",
    "    loc1 = gm.means_[0]\n",
    "    loc2 = gm.means_[1]\n",
    "    loc3 = gm.means_[2]\n",
    "    scale1 = np.sqrt(gm.covariances_[0])\n",
    "    scale2 = np.sqrt(gm.covariances_[1])\n",
    "    scale3 = np.sqrt(gm.covariances_[2])\n",
    "    pdf = p1*norm.pdf(x=x, loc=loc1, scale=scale1) + p2*norm.pdf(x=x, loc=loc2, scale=scale2) + \\\n",
    "        (1-p1-p2)*norm.pdf(x=x, loc=loc3, scale=scale3)\n",
    "    return pdf"
   ]
  },
  {
   "cell_type": "code",
   "execution_count": 528,
   "metadata": {
    "scrolled": false
   },
   "outputs": [
    {
     "data": {
      "image/png": "[encoded data removed]",
      "text/plain": [
       "<Figure size 432x432 with 1 Axes>"
      ]
     },
     "metadata": {
      "needs_background": "light"
     },
     "output_type": "display_data"
    }
   ],
   "source": [
    "fig = plt.figure(figsize=(6,6))\n",
    "\n",
    "loc1=0\n",
    "loc2=3\n",
    "loc3=5\n",
    "p1=0.7\n",
    "p2=0.2\n",
    "x_sample = sample_GMM(size=10000, loc1=loc1, loc2=loc2, loc3=loc3, p1=p1, p2=p2)\n",
    "\n",
    "# real density\n",
    "x_range = np.linspace(-5,15,150)\n",
    "pdf_true_vals = [calc_pdf_GMM(x, loc1=loc1, loc2=loc2, loc3=loc3, p1=p1, p2=p2) for x in x_range]\n",
    "\n",
    "# bad Gaussian approx\n",
    "dist_badG = calc_dist_badG(x_sample)\n",
    "pdf_badG_vals = [dist_badG.pdf(x) for x in x_range]\n",
    "\n",
    "# bad Gamma approx\n",
    "fit_a, fit_loc, fit_scale = gamma.fit(x_sample)\n",
    "pdf_gamma_vals = [gamma.pdf(x=x, a=fit_a, loc=fit_loc, scale=fit_scale) for x in x_range]\n",
    "\n",
    "# good EM algorithm\n",
    "gm = GaussianMixture(n_components=3, random_state=6, covariance_type='spherical').fit(x_sample.reshape(-1,1))\n",
    "pdf_goodEM_vals = [calc_pdf_goodEM(x, gm) for x in x_range]\n",
    "\n",
    "plt.plot(x_range, pdf_true_vals, label='true density')\n",
    "plt.plot(x_range, pdf_badG_vals, label='Gaussian approx')\n",
    "plt.plot(x_range, pdf_gamma_vals, label='Gamma approx')\n",
    "plt.plot(x_range, pdf_goodEM_vals, label='GMM EM approx')\n",
    "\n",
    "plt.xlabel('$x$', fontsize=16)\n",
    "plt.ylabel('$f(x)$', fontsize=16)\n",
    "plt.xticks(fontsize=14)\n",
    "plt.yticks(fontsize=14)\n",
    "\n",
    "plt.title('PDF of Gaussian Mixture Model', fontsize=20)\n",
    "plt.legend(fontsize=14)\n",
    "\n",
    "plt.show()"
   ]
  },
  {
   "cell_type": "code",
   "execution_count": 529,
   "metadata": {},
   "outputs": [
    {
     "data": {
      "text/plain": [
       "array([0.31678946, 0.29741383, 0.38579671])"
      ]
     },
     "execution_count": 529,
     "metadata": {},
     "output_type": "execute_result"
    }
   ],
   "source": [
    "gm.weights_"
   ]
  },
  {
   "cell_type": "code",
   "execution_count": 530,
   "metadata": {},
   "outputs": [
    {
     "data": {
      "text/plain": [
       "array([[ 0.73111692],\n",
       "       [ 4.7173727 ],\n",
       "       [-0.52895449]])"
      ]
     },
     "execution_count": 530,
     "metadata": {},
     "output_type": "execute_result"
    }
   ],
   "source": [
    "gm.means_"
   ]
  },
  {
   "cell_type": "code",
   "execution_count": 531,
   "metadata": {},
   "outputs": [
    {
     "data": {
      "text/plain": [
       "array([0.62687536, 1.27190982, 0.65457319])"
      ]
     },
     "execution_count": 531,
     "metadata": {},
     "output_type": "execute_result"
    }
   ],
   "source": [
    "gm.covariances_"
   ]
  },
  {
   "cell_type": "markdown",
   "metadata": {},
   "source": [
    "### compute KL divergence"
   ]
  },
  {
   "cell_type": "code",
   "execution_count": 522,
   "metadata": {},
   "outputs": [],
   "source": [
    "n = 10000"
   ]
  },
  {
   "cell_type": "code",
   "execution_count": 532,
   "metadata": {},
   "outputs": [
    {
     "data": {
      "text/plain": [
       "2.2873020991600113"
      ]
     },
     "execution_count": 532,
     "metadata": {},
     "output_type": "execute_result"
    }
   ],
   "source": [
    "KL_badG = -1/n * np.sum(np.log(dist_badG.pdf(x_sample)))\n",
    "KL_badG"
   ]
  },
  {
   "cell_type": "code",
   "execution_count": 533,
   "metadata": {},
   "outputs": [
    {
     "data": {
      "text/plain": [
       "2.1982995869484125"
      ]
     },
     "execution_count": 533,
     "metadata": {},
     "output_type": "execute_result"
    }
   ],
   "source": [
    "KL_gamma = -1/n * np.sum(np.log(gamma.pdf(x=x_sample, a=fit_a, loc=fit_loc, scale=fit_scale)))\n",
    "KL_gamma"
   ]
  },
  {
   "cell_type": "code",
   "execution_count": 534,
   "metadata": {},
   "outputs": [
    {
     "data": {
      "text/plain": [
       "2.0427022981847553"
      ]
     },
     "execution_count": 534,
     "metadata": {},
     "output_type": "execute_result"
    }
   ],
   "source": [
    "KL_goodEM = -1/n * np.sum(np.log(calc_pdf_goodEM(x_sample, gm)))\n",
    "KL_goodEM"
   ]
  },
  {
   "cell_type": "code",
   "execution_count": 535,
   "metadata": {},
   "outputs": [
    {
     "data": {
      "text/plain": [
       "2.2308038802711394"
      ]
     },
     "execution_count": 535,
     "metadata": {},
     "output_type": "execute_result"
    }
   ],
   "source": [
    "-1/n * np.sum(np.log(calc_pdf_GMM(x_sample)))"
   ]
  },
  {
   "cell_type": "code",
   "execution_count": null,
   "metadata": {},
   "outputs": [],
   "source": []
  },
  {
   "cell_type": "code",
   "execution_count": null,
   "metadata": {},
   "outputs": [],
   "source": []
  },
  {
   "cell_type": "code",
   "execution_count": null,
   "metadata": {},
   "outputs": [],
   "source": []
  }
 ],
 "metadata": {
  "kernelspec": {
   "display_name": "Python 3",
   "language": "python",
   "name": "python3"
  },
  "language_info": {
   "codemirror_mode": {
    "name": "ipython",
    "version": 3
   },
   "file_extension": ".py",
   "mimetype": "text/x-python",
   "name": "python",
   "nbconvert_exporter": "python",
   "pygments_lexer": "ipython3",
   "version": "3.7.3"
  }
 },
 "nbformat": 4,
 "nbformat_minor": 4
}
