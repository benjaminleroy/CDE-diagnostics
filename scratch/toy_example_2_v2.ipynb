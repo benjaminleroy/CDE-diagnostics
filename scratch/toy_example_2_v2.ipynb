{
 "cells": [
  {
   "cell_type": "code",
   "execution_count": 129,
   "metadata": {},
   "outputs": [],
   "source": [
    "import numpy as np\n",
    "import pandas as pd\n",
    "import ipdb\n",
    "import pickle\n",
    "import nnkcde\n",
    "from cdetools.cdf_coverage import cdf_coverage\n",
    "from cdetools.plot_utils import plot_with_uniform_band\n",
    "from scipy.stats import norm, gamma, multivariate_normal, expon\n",
    "from scipy.integrate import simps\n",
    "import statsmodels.api as sm\n",
    "from sklearn.neural_network import MLPClassifier\n",
    "import statsmodels.api as sm\n",
    "from scipy.special import expit, logit\n",
    "from sklearn.mixture import GaussianMixture\n",
    "\n",
    "import matplotlib.pyplot as plt\n",
    "from mpl_toolkits.mplot3d import Axes3D\n",
    "\n",
    "from matplotlib.ticker import NullFormatter\n",
    "import seaborn as sns"
   ]
  },
  {
   "cell_type": "code",
   "execution_count": null,
   "metadata": {},
   "outputs": [],
   "source": []
  },
  {
   "cell_type": "markdown",
   "metadata": {},
   "source": [
    "# really simple example"
   ]
  },
  {
   "cell_type": "code",
   "execution_count": 146,
   "metadata": {},
   "outputs": [],
   "source": [
    "n = 10000"
   ]
  },
  {
   "cell_type": "code",
   "execution_count": 147,
   "metadata": {},
   "outputs": [],
   "source": [
    "x_normal = norm.rvs(loc=1, scale=1, size=n)"
   ]
  },
  {
   "cell_type": "code",
   "execution_count": 148,
   "metadata": {},
   "outputs": [
    {
     "name": "stdout",
     "output_type": "stream",
     "text": [
      "0.9830867015732594\n",
      "0.9821350036966845\n"
     ]
    }
   ],
   "source": [
    "print(x_normal.mean())\n",
    "print(x_normal.var())"
   ]
  },
  {
   "cell_type": "code",
   "execution_count": 149,
   "metadata": {},
   "outputs": [
    {
     "data": {
      "image/png": "[encoded data removed]",
      "text/plain": [
       "<Figure size 432x288 with 1 Axes>"
      ]
     },
     "metadata": {
      "needs_background": "light"
     },
     "output_type": "display_data"
    }
   ],
   "source": [
    "plt.hist(x_normal, bins=100)\n",
    "plt.show()"
   ]
  },
  {
   "cell_type": "code",
   "execution_count": 152,
   "metadata": {},
   "outputs": [],
   "source": [
    "x_expon = expon.rvs(loc=0, scale=1, size=n)"
   ]
  },
  {
   "cell_type": "code",
   "execution_count": 153,
   "metadata": {},
   "outputs": [
    {
     "name": "stdout",
     "output_type": "stream",
     "text": [
      "0.9856714322484637\n",
      "0.9839347077028998\n"
     ]
    }
   ],
   "source": [
    "print(x_expon.mean())\n",
    "print(x_expon.var())"
   ]
  },
  {
   "cell_type": "code",
   "execution_count": 154,
   "metadata": {
    "scrolled": true
   },
   "outputs": [
    {
     "data": {
      "image/png": "[encoded data removed]",
      "text/plain": [
       "<Figure size 432x288 with 1 Axes>"
      ]
     },
     "metadata": {
      "needs_background": "light"
     },
     "output_type": "display_data"
    }
   ],
   "source": [
    "plt.hist(x_expon, bins=100)\n",
    "plt.show()"
   ]
  },
  {
   "cell_type": "code",
   "execution_count": 155,
   "metadata": {},
   "outputs": [
    {
     "data": {
      "text/plain": [
       "1.4101490648848511"
      ]
     },
     "execution_count": 155,
     "metadata": {},
     "output_type": "execute_result"
    }
   ],
   "source": [
    "KL_Ndata_Nmodel = -1/n * np.sum(np.log(norm.pdf(x=x_normal, loc=1, scale=1)))\n",
    "KL_Ndata_Nmodel"
   ]
  },
  {
   "cell_type": "code",
   "execution_count": 156,
   "metadata": {},
   "outputs": [
    {
     "data": {
      "text/plain": [
       "1.4110085409830277"
      ]
     },
     "execution_count": 156,
     "metadata": {},
     "output_type": "execute_result"
    }
   ],
   "source": [
    "KL_Edata_Nmodel = -1/n * np.sum(np.log(norm.pdf(x=x_expon, loc=1, scale=1)))\n",
    "KL_Edata_Nmodel"
   ]
  },
  {
   "cell_type": "code",
   "execution_count": 157,
   "metadata": {},
   "outputs": [
    {
     "data": {
      "text/plain": [
       "0.9856714322484638"
      ]
     },
     "execution_count": 157,
     "metadata": {},
     "output_type": "execute_result"
    }
   ],
   "source": [
    "KL_Edata_Emodel = -1/n * np.sum(np.log(expon.pdf(x=x_expon, loc=0, scale=1)))\n",
    "KL_Edata_Emodel"
   ]
  },
  {
   "cell_type": "code",
   "execution_count": 165,
   "metadata": {},
   "outputs": [
    {
     "data": {
      "text/plain": [
       "1.4856714322484637"
      ]
     },
     "execution_count": 165,
     "metadata": {},
     "output_type": "execute_result"
    }
   ],
   "source": [
    "KL_Edata_Emodel1 = -1/n * np.sum(np.log(expon.pdf(x=x_expon, loc=-0.5, scale=1)))\n",
    "KL_Edata_Emodel1"
   ]
  },
  {
   "cell_type": "code",
   "execution_count": 166,
   "metadata": {},
   "outputs": [],
   "source": [
    "x_expon1 = expon.rvs(loc=-0.5, scale=1, size=n)"
   ]
  },
  {
   "cell_type": "code",
   "execution_count": 168,
   "metadata": {
    "scrolled": true
   },
   "outputs": [
    {
     "name": "stdout",
     "output_type": "stream",
     "text": [
      "0.5067668451648948\n",
      "1.0312453097574328\n"
     ]
    }
   ],
   "source": [
    "print(x_expon1.mean())\n",
    "print(x_expon1.var())"
   ]
  },
  {
   "cell_type": "code",
   "execution_count": 181,
   "metadata": {},
   "outputs": [],
   "source": [
    "xrange = np.linspace(start=-4, stop=8, num=120)\n",
    "normal_pdf = pd.Series([norm.pdf(x, loc=0, scale=1) for x in xrange], index=xrange)\n",
    "expon_pdf = pd.Series([expon.pdf(x, loc=0, scale=1) for x in xrange], index=xrange)\n",
    "expon_error_pdf = pd.Series([expon.pdf(x, loc=-0.5, scale=1) for x in xrange], index=xrange)"
   ]
  },
  {
   "cell_type": "code",
   "execution_count": 194,
   "metadata": {},
   "outputs": [
    {
     "data": {
      "image/png": "[encoded data removed]",
      "text/plain": [
       "<Figure size 432x288 with 2 Axes>"
      ]
     },
     "metadata": {
      "needs_background": "light"
     },
     "output_type": "display_data"
    }
   ],
   "source": [
    "fig, ax1 = plt.subplots()\n",
    "\n",
    "ax1.hist(x_expon, bins=100, color='gray')\n",
    "\n",
    "ax2 = ax1.twinx()\n",
    "ax2.plot(normal_pdf, color='blue', label='normal')\n",
    "ax2.plot(expon_pdf, color='orange', label='normal')\n",
    "ax2.plot(expon_error_pdf, color='red', label='normal')\n",
    "plt.show()"
   ]
  },
  {
   "cell_type": "code",
   "execution_count": 158,
   "metadata": {},
   "outputs": [
    {
     "name": "stderr",
     "output_type": "stream",
     "text": [
      "C:\\Users\\dzhao\\Anaconda3\\lib\\site-packages\\ipykernel_launcher.py:1: RuntimeWarning: divide by zero encountered in log\n",
      "  \"\"\"Entry point for launching an IPython kernel.\n"
     ]
    },
    {
     "data": {
      "text/plain": [
       "inf"
      ]
     },
     "execution_count": 158,
     "metadata": {},
     "output_type": "execute_result"
    }
   ],
   "source": [
    "KL_Ndata_Emodel = -1/n * np.sum(np.log(expon.pdf(x=x_normal, loc=0, scale=1)))\n",
    "KL_Ndata_Emodel"
   ]
  },
  {
   "cell_type": "code",
   "execution_count": null,
   "metadata": {},
   "outputs": [],
   "source": []
  },
  {
   "cell_type": "markdown",
   "metadata": {},
   "source": [
    "# MVN different magnitude directions\n",
    "# $X \\sim N([100,1], \\textrm{diag}([100,1])) $"
   ]
  },
  {
   "cell_type": "code",
   "execution_count": 121,
   "metadata": {},
   "outputs": [],
   "source": [
    "mean = [10,1]\n",
    "cov = [[1,0],[0,1]]"
   ]
  },
  {
   "cell_type": "code",
   "execution_count": 122,
   "metadata": {},
   "outputs": [],
   "source": [
    "def sample_MVN(size=10000, mean=mean, cov=cov, seed=6):\n",
    "    np.random.seed(seed)\n",
    "    x_sample = multivariate_normal.rvs(mean=mean, cov=cov, size=size)\n",
    "    return x_sample"
   ]
  },
  {
   "cell_type": "code",
   "execution_count": 123,
   "metadata": {
    "scrolled": true
   },
   "outputs": [],
   "source": [
    "n = 100\n",
    "x_sample = sample_MVN(size=n)"
   ]
  },
  {
   "cell_type": "code",
   "execution_count": 124,
   "metadata": {},
   "outputs": [
    {
     "data": {
      "text/plain": [
       "2.772159402764769"
      ]
     },
     "execution_count": 124,
     "metadata": {},
     "output_type": "execute_result"
    }
   ],
   "source": [
    "KL_right = -1/n * np.sum(np.log(multivariate_normal.pdf(x=x_sample, mean=mean, cov=cov)))\n",
    "KL_right"
   ]
  },
  {
   "cell_type": "code",
   "execution_count": 125,
   "metadata": {},
   "outputs": [
    {
     "data": {
      "text/plain": [
       "3.2451876312087444"
      ]
     },
     "execution_count": 125,
     "metadata": {},
     "output_type": "execute_result"
    }
   ],
   "source": [
    "KL_right = -1/n * np.sum(np.log(multivariate_normal.pdf(x=x_sample, mean=[11,1], cov=cov)))\n",
    "KL_right"
   ]
  },
  {
   "cell_type": "code",
   "execution_count": 126,
   "metadata": {},
   "outputs": [
    {
     "data": {
      "text/plain": [
       "2.7751315717848573"
      ]
     },
     "execution_count": 126,
     "metadata": {},
     "output_type": "execute_result"
    }
   ],
   "source": [
    "KL_right = -1/n * np.sum(np.log(multivariate_normal.pdf(x=x_sample, mean=[10,0.9], cov=cov)))\n",
    "KL_right"
   ]
  },
  {
   "cell_type": "code",
   "execution_count": null,
   "metadata": {},
   "outputs": [],
   "source": []
  },
  {
   "cell_type": "code",
   "execution_count": null,
   "metadata": {},
   "outputs": [],
   "source": []
  },
  {
   "cell_type": "markdown",
   "metadata": {},
   "source": [
    "# GMM with 3 different means\n",
    "# $X \\sim 0.45N([0,0],I_2) + 0.45N([3,1],I_2) + 0.1N([1,3],I_2)$"
   ]
  },
  {
   "cell_type": "code",
   "execution_count": 50,
   "metadata": {},
   "outputs": [],
   "source": [
    "def sample_GMM(size=10000, p1=0.45, p2=0.45, loc1=[0,0], loc2=[3,1], loc3=[1,4], seed=6):\n",
    "    np.random.seed(seed)\n",
    "    inds = np.random.choice(a=[1,2,3], size=size, p=[p1,p2,1-p1-p2])\n",
    "    ind_mix1 = 1*(inds == 1)\n",
    "    ind_mix2 = 1*(inds == 2)\n",
    "    ind_mix3 = 1*(inds == 3)\n",
    "    mix1 = multivariate_normal.rvs(mean=loc1, cov=1, size=size)\n",
    "    mix2 = multivariate_normal.rvs(mean=loc2, cov=1, size=size)\n",
    "    mix3 = multivariate_normal.rvs(mean=loc3, cov=1, size=size)\n",
    "    x_sample = np.vstack([ind_mix1, ind_mix1]).T *mix1 + np.vstack([ind_mix2, ind_mix2]).T *mix2 + \\\n",
    "        np.vstack([ind_mix3, ind_mix3]).T *mix3\n",
    "    return x_sample"
   ]
  },
  {
   "cell_type": "code",
   "execution_count": 65,
   "metadata": {},
   "outputs": [],
   "source": [
    "def calc_pdf_GMM(x, p1=0.45, p2=0.45, loc1=[0,0], loc2=[3,1], loc3=[1,4]):\n",
    "    pdf = p1*multivariate_normal.pdf(x=x, mean=loc1, cov=1) + p2*multivariate_normal.pdf(x=x, mean=loc2, cov=1) + \\\n",
    "        (1-p1-p2)*multivariate_normal.pdf(x=x, mean=loc3, cov=1)\n",
    "    return pdf"
   ]
  },
  {
   "cell_type": "code",
   "execution_count": 81,
   "metadata": {},
   "outputs": [],
   "source": [
    "def calc_pdf_EM3(x, gm):\n",
    "    p1 = gm.weights_[0]\n",
    "    p2 = gm.weights_[1]\n",
    "    loc1 = gm.means_[0]\n",
    "    loc2 = gm.means_[1]\n",
    "    loc3 = gm.means_[2]\n",
    "    scale1 = np.sqrt(gm.covariances_[0])\n",
    "    scale2 = np.sqrt(gm.covariances_[1])\n",
    "    scale3 = np.sqrt(gm.covariances_[2])\n",
    "    pdf = p1*norm.pdf(x=x, loc=loc1, scale=scale1) + p2*norm.pdf(x=x, loc=loc2, scale=scale2) + \\\n",
    "        (1-p1-p2)*norm.pdf(x=x, loc=loc3, scale=scale3)\n",
    "    return pdf"
   ]
  },
  {
   "cell_type": "code",
   "execution_count": 82,
   "metadata": {},
   "outputs": [],
   "source": [
    "def calc_pdf_EM2(x, gm):\n",
    "    p = gm.weights_[0]\n",
    "    loc1 = gm.means_[0]\n",
    "    loc2 = gm.means_[1]\n",
    "    scale1 = np.sqrt(gm.covariances_[0])\n",
    "    scale2 = np.sqrt(gm.covariances_[1])\n",
    "    pdf = p*norm.pdf(x=x, loc=loc1, scale=scale1) + (1-p)*norm.pdf(x=x, loc=loc2, scale=scale2)\n",
    "    return pdf"
   ]
  },
  {
   "cell_type": "code",
   "execution_count": 51,
   "metadata": {
    "scrolled": false
   },
   "outputs": [
    {
     "data": {
      "image/png": "[encoded data removed]",
      "text/plain": [
       "<Figure size 432x432 with 1 Axes>"
      ]
     },
     "metadata": {
      "needs_background": "light"
     },
     "output_type": "display_data"
    }
   ],
   "source": [
    "fig = plt.figure(figsize=(6,6))\n",
    "\n",
    "x_sample = sample_GMM(size=10000)\n",
    "\n",
    "plt.scatter(x_sample[:,0], x_sample[:,1], s=0.5)\n",
    "plt.xlabel('$x$', fontsize=16)\n",
    "plt.ylabel('$f(x)$', fontsize=16)\n",
    "plt.xticks(fontsize=14)\n",
    "plt.yticks(fontsize=14)\n",
    "\n",
    "plt.title('PDF of Gaussian Mixture Model', fontsize=20)\n",
    "#plt.legend(fontsize=14)\n",
    "\n",
    "plt.show()"
   ]
  },
  {
   "cell_type": "code",
   "execution_count": 72,
   "metadata": {},
   "outputs": [],
   "source": [
    "gm2 = GaussianMixture(n_components=2, random_state=6, covariance_type='spherical').fit(x_sample.reshape(-1,2))\n",
    "gm3 = GaussianMixture(n_components=3, random_state=6, covariance_type='spherical').fit(x_sample.reshape(-1,2))"
   ]
  },
  {
   "cell_type": "code",
   "execution_count": 68,
   "metadata": {},
   "outputs": [
    {
     "data": {
      "text/plain": [
       "array([0.44457032, 0.44665322, 0.10877647])"
      ]
     },
     "execution_count": 68,
     "metadata": {},
     "output_type": "execute_result"
    }
   ],
   "source": [
    "gm3.weights_"
   ]
  },
  {
   "cell_type": "code",
   "execution_count": 69,
   "metadata": {},
   "outputs": [
    {
     "data": {
      "text/plain": [
       "array([[ 0.01458876, -0.03656293],\n",
       "       [ 3.01651822,  0.95728712],\n",
       "       [ 1.01498648,  3.91084675]])"
      ]
     },
     "execution_count": 69,
     "metadata": {},
     "output_type": "execute_result"
    }
   ],
   "source": [
    "gm3.means_"
   ]
  },
  {
   "cell_type": "code",
   "execution_count": 70,
   "metadata": {},
   "outputs": [
    {
     "data": {
      "text/plain": [
       "array([0.98086337, 0.94711441, 1.09593071])"
      ]
     },
     "execution_count": 70,
     "metadata": {},
     "output_type": "execute_result"
    }
   ],
   "source": [
    "gm3.covariances_"
   ]
  },
  {
   "cell_type": "code",
   "execution_count": 73,
   "metadata": {},
   "outputs": [
    {
     "data": {
      "text/plain": [
       "array([0.33319138, 0.66680862])"
      ]
     },
     "execution_count": 73,
     "metadata": {},
     "output_type": "execute_result"
    }
   ],
   "source": [
    "gm2.weights_"
   ]
  },
  {
   "cell_type": "code",
   "execution_count": 74,
   "metadata": {},
   "outputs": [
    {
     "data": {
      "text/plain": [
       "array([[-0.17801017, -0.15919425],\n",
       "       [ 2.28482557,  1.33437209]])"
      ]
     },
     "execution_count": 74,
     "metadata": {},
     "output_type": "execute_result"
    }
   ],
   "source": [
    "gm2.means_"
   ]
  },
  {
   "cell_type": "code",
   "execution_count": 75,
   "metadata": {},
   "outputs": [
    {
     "data": {
      "text/plain": [
       "array([0.83210458, 2.22315264])"
      ]
     },
     "execution_count": 75,
     "metadata": {},
     "output_type": "execute_result"
    }
   ],
   "source": [
    "gm2.covariances_"
   ]
  },
  {
   "cell_type": "markdown",
   "metadata": {},
   "source": [
    "### compute KL divergence"
   ]
  },
  {
   "cell_type": "code",
   "execution_count": 60,
   "metadata": {},
   "outputs": [],
   "source": [
    "n = 10000"
   ]
  },
  {
   "cell_type": "code",
   "execution_count": 83,
   "metadata": {},
   "outputs": [
    {
     "data": {
      "text/plain": [
       "3.699257155680573"
      ]
     },
     "execution_count": 83,
     "metadata": {},
     "output_type": "execute_result"
    }
   ],
   "source": [
    "KL_EM = -1/n * np.sum(np.log(calc_pdf_EM3(x_sample, gm3)))\n",
    "KL_EM"
   ]
  },
  {
   "cell_type": "code",
   "execution_count": 84,
   "metadata": {},
   "outputs": [
    {
     "data": {
      "text/plain": [
       "3.7560618363602387"
      ]
     },
     "execution_count": 84,
     "metadata": {},
     "output_type": "execute_result"
    }
   ],
   "source": [
    "KL_EM = -1/n * np.sum(np.log(calc_pdf_EM2(x_sample, gm2)))\n",
    "KL_EM"
   ]
  },
  {
   "cell_type": "code",
   "execution_count": 66,
   "metadata": {},
   "outputs": [
    {
     "data": {
      "text/plain": [
       "3.600064777260199"
      ]
     },
     "execution_count": 66,
     "metadata": {},
     "output_type": "execute_result"
    }
   ],
   "source": [
    "-1/n * np.sum(np.log(calc_pdf_GMM(x_sample)))"
   ]
  },
  {
   "cell_type": "code",
   "execution_count": null,
   "metadata": {},
   "outputs": [],
   "source": []
  },
  {
   "cell_type": "code",
   "execution_count": null,
   "metadata": {},
   "outputs": [],
   "source": []
  },
  {
   "cell_type": "code",
   "execution_count": null,
   "metadata": {},
   "outputs": [],
   "source": []
  }
 ],
 "metadata": {
  "kernelspec": {
   "display_name": "Python 3",
   "language": "python",
   "name": "python3"
  },
  "language_info": {
   "codemirror_mode": {
    "name": "ipython",
    "version": 3
   },
   "file_extension": ".py",
   "mimetype": "text/x-python",
   "name": "python",
   "nbconvert_exporter": "python",
   "pygments_lexer": "ipython3",
   "version": "3.7.3"
  }
 },
 "nbformat": 4,
 "nbformat_minor": 4
}
