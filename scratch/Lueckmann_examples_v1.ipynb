{
 "cells": [
  {
   "cell_type": "code",
   "execution_count": 1,
   "metadata": {},
   "outputs": [],
   "source": [
    "import numpy as np\n",
    "import pandas as pd\n",
    "import ipdb\n",
    "import pickle\n",
    "import nnkcde\n",
    "from cdetools.cdf_coverage import cdf_coverage\n",
    "from cdetools.plot_utils import plot_with_uniform_band\n",
    "from scipy.stats import norm\n",
    "from scipy.integrate import simps\n",
    "import statsmodels.api as sm\n",
    "from sklearn.neural_network import MLPClassifier\n",
    "import statsmodels.api as sm\n",
    "from scipy.special import expit, logit\n",
    "\n",
    "import matplotlib.pyplot as plt\n",
    "from mpl_toolkits.mplot3d import Axes3D\n",
    "\n",
    "from matplotlib.ticker import NullFormatter\n",
    "import seaborn as sns\n",
    "\n",
    "\n",
    "import sbibm"
   ]
  },
  {
   "cell_type": "markdown",
   "metadata": {},
   "source": [
    "# Gaussian mixture"
   ]
  },
  {
   "cell_type": "code",
   "execution_count": 34,
   "metadata": {},
   "outputs": [],
   "source": [
    "task = sbibm.get_task(\"gaussian_mixture\")\n",
    "prior = task.get_prior()\n",
    "simulator = task.get_simulator()\n",
    "observation = task.get_observation(num_observation=1)  # 10 per task"
   ]
  },
  {
   "cell_type": "code",
   "execution_count": 36,
   "metadata": {},
   "outputs": [
    {
     "name": "stdout",
     "output_type": "stream",
     "text": [
      "2\n",
      "2\n",
      "10\n",
      "gaussian_mixture\n",
      "Gaussian Mixture\n"
     ]
    }
   ],
   "source": [
    "print(task.dim_data)               # dimensionality data, here: 2\n",
    "print(task.dim_parameters)         # dimensionality parameters, here: 2\n",
    "print(task.num_observations)       # number of different observations x_o available, here: 10\n",
    "print(task.name)                   # name: slcp\n",
    "print(task.name_display)           # name_display: SLCP"
   ]
  },
  {
   "cell_type": "code",
   "execution_count": 37,
   "metadata": {},
   "outputs": [],
   "source": [
    "# These objects can then be used for custom inference algorithms, e.g.\n",
    "# we might want to generate simulations by sampling from prior:\n",
    "thetas = prior(num_samples=10_000)\n",
    "xs = simulator(thetas)"
   ]
  },
  {
   "cell_type": "code",
   "execution_count": 41,
   "metadata": {},
   "outputs": [
    {
     "data": {
      "text/plain": [
       "torch.Size([10000, 2])"
      ]
     },
     "execution_count": 41,
     "metadata": {},
     "output_type": "execute_result"
    }
   ],
   "source": [
    "thetas.shape"
   ]
  },
  {
   "cell_type": "code",
   "execution_count": 42,
   "metadata": {},
   "outputs": [
    {
     "data": {
      "text/plain": [
       "torch.Size([10000, 2])"
      ]
     },
     "execution_count": 42,
     "metadata": {},
     "output_type": "execute_result"
    }
   ],
   "source": [
    "xs.shape"
   ]
  },
  {
   "cell_type": "code",
   "execution_count": 43,
   "metadata": {},
   "outputs": [],
   "source": [
    "from sbibm.algorithms import snpe"
   ]
  },
  {
   "cell_type": "code",
   "execution_count": 16,
   "metadata": {
    "scrolled": true
   },
   "outputs": [
    {
     "name": "stdout",
     "output_type": "stream",
     "text": [
      "Help on function run in module sbibm.algorithms.sbi.snpe:\n",
      "\n",
      "run(task: sbibm.tasks.task.Task, num_samples: int, num_simulations: int, num_observation: Union[int, NoneType] = None, observation: Union[torch.Tensor, NoneType] = None, num_rounds: int = 10, neural_net: str = 'nsf', hidden_features: int = 50, simulation_batch_size: int = 1000, training_batch_size: int = 10000, num_atoms: int = 10, automatic_transforms_enabled: bool = False, z_score_x: bool = True, z_score_theta: bool = True) -> Tuple[torch.Tensor, int, Union[torch.Tensor, NoneType]]\n",
      "    Runs (S)NPE from `sbi`\n",
      "    \n",
      "    Args:\n",
      "        task: Task instance\n",
      "        num_samples: Number of samples to generate from posterior\n",
      "        num_simulations: Simulation budget\n",
      "        num_observation: Observation number to load, alternative to `observation`\n",
      "        observation: Observation, alternative to `num_observation`\n",
      "        num_rounds: Number of rounds\n",
      "        neural_net: Neural network to use, one of maf / mdn / made / nsf\n",
      "        hidden_features: Number of hidden features in network\n",
      "        simulation_batch_size: Batch size for simulator\n",
      "        training_batch_size: Batch size for training network\n",
      "        num_atoms: Number of atoms, -1 means same as `training_batch_size`\n",
      "        automatic_transforms_enabled: Whether to enable automatic transforms\n",
      "        z_score_x: Whether to z-score x\n",
      "        z_score_theta: Whether to z-score theta\n",
      "    \n",
      "    Returns:\n",
      "        Samples from posterior, number of simulator calls, log probability of true params if computable\n",
      "\n"
     ]
    }
   ],
   "source": [
    "help(snpe)"
   ]
  },
  {
   "cell_type": "code",
   "execution_count": null,
   "metadata": {},
   "outputs": [],
   "source": [
    "# 2. can we save the trained posterior density\n",
    "posterior_samples, _, _ = snpe(task=task, num_samples=10_000, num_observation=1, num_simulations=100_000)"
   ]
  },
  {
   "cell_type": "markdown",
   "metadata": {},
   "source": [
    "# tutorial"
   ]
  },
  {
   "cell_type": "code",
   "execution_count": 2,
   "metadata": {
    "scrolled": true
   },
   "outputs": [
    {
     "data": {
      "text/plain": [
       "['bernoulli_glm',\n",
       " 'gaussian_linear',\n",
       " 'gaussian_linear_uniform',\n",
       " 'gaussian_mixture',\n",
       " 'lotka_volterra',\n",
       " 'sir',\n",
       " 'slcp',\n",
       " 'two_moons',\n",
       " 'slcp_distractors',\n",
       " 'bernoulli_glm_raw']"
      ]
     },
     "execution_count": 2,
     "metadata": {},
     "output_type": "execute_result"
    }
   ],
   "source": [
    "sbibm.get_available_tasks()"
   ]
  },
  {
   "cell_type": "code",
   "execution_count": 3,
   "metadata": {},
   "outputs": [],
   "source": [
    "task = sbibm.get_task(\"two_moons\")\n",
    "prior = task.get_prior()\n",
    "simulator = task.get_simulator()\n",
    "observation = task.get_observation(num_observation=1)  # 10 per task"
   ]
  },
  {
   "cell_type": "code",
   "execution_count": 14,
   "metadata": {},
   "outputs": [
    {
     "name": "stdout",
     "output_type": "stream",
     "text": [
      "2\n",
      "2\n",
      "10\n",
      "two_moons\n",
      "Two Moons\n"
     ]
    }
   ],
   "source": [
    "print(task.dim_data)               # dimensionality data, here: 2\n",
    "print(task.dim_parameters)         # dimensionality parameters, here: 2\n",
    "print(task.num_observations)       # number of different observations x_o available, here: 10\n",
    "print(task.name)                   # name: slcp\n",
    "print(task.name_display)           # name_display: SLCP"
   ]
  },
  {
   "cell_type": "code",
   "execution_count": 7,
   "metadata": {},
   "outputs": [],
   "source": [
    "# These objects can then be used for custom inference algorithms, e.g.\n",
    "# we might want to generate simulations by sampling from prior:\n",
    "thetas = prior(num_samples=10_000)\n",
    "xs = simulator(thetas)"
   ]
  },
  {
   "cell_type": "code",
   "execution_count": 10,
   "metadata": {},
   "outputs": [
    {
     "data": {
      "text/plain": [
       "torch.Size([10000, 2])"
      ]
     },
     "execution_count": 10,
     "metadata": {},
     "output_type": "execute_result"
    }
   ],
   "source": [
    "thetas.shape"
   ]
  },
  {
   "cell_type": "code",
   "execution_count": 11,
   "metadata": {
    "scrolled": false
   },
   "outputs": [
    {
     "data": {
      "text/plain": [
       "torch.Size([10000, 2])"
      ]
     },
     "execution_count": 11,
     "metadata": {},
     "output_type": "execute_result"
    }
   ],
   "source": [
    "xs.shape"
   ]
  },
  {
   "cell_type": "code",
   "execution_count": 15,
   "metadata": {},
   "outputs": [],
   "source": [
    "# Alternatively, we can import existing algorithms, e.g:\n",
    "from sbibm.algorithms import snpe  # See help(rej_abc) for keywords"
   ]
  },
  {
   "cell_type": "code",
   "execution_count": 18,
   "metadata": {
    "scrolled": true
   },
   "outputs": [
    {
     "data": {
      "application/vnd.jupyter.widget-view+json": {
       "model_id": "bfa9c5e8ea6549aa9420b3c1945938f1",
       "version_major": 2,
       "version_minor": 0
      },
      "text/plain": [
       "HBox(children=(HTML(value='Running 10000 simulations.'), FloatProgress(value=0.0, max=10000.0), HTML(value='')…"
      ]
     },
     "metadata": {},
     "output_type": "display_data"
    },
    {
     "name": "stdout",
     "output_type": "stream",
     "text": [
      "\n",
      "Neural network successfully converged after 936 epochs.\n",
      "\n",
      "        -------------------------\n",
      "        ||||| ROUND 1 STATS |||||:\n",
      "        -------------------------\n",
      "        Epochs trained: 936\n",
      "        Best validation performance: 3.3735\n",
      "        -------------------------\n",
      "        \n"
     ]
    },
    {
     "data": {
      "application/vnd.jupyter.widget-view+json": {
       "model_id": "afbbcdaba4e04736a97a2104d34a42a7",
       "version_major": 2,
       "version_minor": 0
      },
      "text/plain": [
       "HBox(children=(HTML(value='Drawing 10000 posterior samples'), FloatProgress(value=0.0, max=10000.0), HTML(valu…"
      ]
     },
     "metadata": {},
     "output_type": "display_data"
    },
    {
     "name": "stdout",
     "output_type": "stream",
     "text": [
      "\n"
     ]
    },
    {
     "data": {
      "application/vnd.jupyter.widget-view+json": {
       "model_id": "5f9c5cac88c8435f9cb3560b6d091b68",
       "version_major": 2,
       "version_minor": 0
      },
      "text/plain": [
       "HBox(children=(HTML(value='Running 10000 simulations.'), FloatProgress(value=0.0, max=10000.0), HTML(value='')…"
      ]
     },
     "metadata": {},
     "output_type": "display_data"
    },
    {
     "name": "stdout",
     "output_type": "stream",
     "text": [
      "\n",
      "Using SNPE-C with atomic loss\n",
      "Neural network successfully converged after 77 epochs.\n",
      "\n",
      "        -------------------------\n",
      "        ||||| ROUND 2 STATS |||||:\n",
      "        -------------------------\n",
      "        Epochs trained: 77\n",
      "        Best validation performance: -0.3416\n",
      "        -------------------------\n",
      "        \n"
     ]
    },
    {
     "data": {
      "application/vnd.jupyter.widget-view+json": {
       "model_id": "66faf033adf3412380857900edbfcde6",
       "version_major": 2,
       "version_minor": 0
      },
      "text/plain": [
       "HBox(children=(HTML(value='Drawing 10000 posterior samples'), FloatProgress(value=0.0, max=10000.0), HTML(valu…"
      ]
     },
     "metadata": {},
     "output_type": "display_data"
    },
    {
     "name": "stdout",
     "output_type": "stream",
     "text": [
      "\n"
     ]
    },
    {
     "data": {
      "application/vnd.jupyter.widget-view+json": {
       "model_id": "96b9bb80448042798593efdc12b91e29",
       "version_major": 2,
       "version_minor": 0
      },
      "text/plain": [
       "HBox(children=(HTML(value='Running 10000 simulations.'), FloatProgress(value=0.0, max=10000.0), HTML(value='')…"
      ]
     },
     "metadata": {},
     "output_type": "display_data"
    },
    {
     "name": "stdout",
     "output_type": "stream",
     "text": [
      "\n",
      "Using SNPE-C with atomic loss\n",
      "Neural network successfully converged after 109 epochs.\n",
      "\n",
      "        -------------------------\n",
      "        ||||| ROUND 3 STATS |||||:\n",
      "        -------------------------\n",
      "        Epochs trained: 109\n",
      "        Best validation performance: -0.5277\n",
      "        -------------------------\n",
      "        \n"
     ]
    },
    {
     "data": {
      "application/vnd.jupyter.widget-view+json": {
       "model_id": "be2a91d2cfe2449f95127169b8db971f",
       "version_major": 2,
       "version_minor": 0
      },
      "text/plain": [
       "HBox(children=(HTML(value='Drawing 10000 posterior samples'), FloatProgress(value=0.0, max=10000.0), HTML(valu…"
      ]
     },
     "metadata": {},
     "output_type": "display_data"
    },
    {
     "name": "stdout",
     "output_type": "stream",
     "text": [
      "\n"
     ]
    },
    {
     "data": {
      "application/vnd.jupyter.widget-view+json": {
       "model_id": "004302ef3e7f44b6a2e8594bd94b7bea",
       "version_major": 2,
       "version_minor": 0
      },
      "text/plain": [
       "HBox(children=(HTML(value='Running 10000 simulations.'), FloatProgress(value=0.0, max=10000.0), HTML(value='')…"
      ]
     },
     "metadata": {},
     "output_type": "display_data"
    },
    {
     "name": "stdout",
     "output_type": "stream",
     "text": [
      "\n",
      "Using SNPE-C with atomic loss\n",
      "Neural network successfully converged after 32 epochs.\n",
      "\n",
      "        -------------------------\n",
      "        ||||| ROUND 4 STATS |||||:\n",
      "        -------------------------\n",
      "        Epochs trained: 32\n",
      "        Best validation performance: -0.6331\n",
      "        -------------------------\n",
      "        \n"
     ]
    },
    {
     "data": {
      "application/vnd.jupyter.widget-view+json": {
       "model_id": "905392b7515248fc94a21ae03a1ad091",
       "version_major": 2,
       "version_minor": 0
      },
      "text/plain": [
       "HBox(children=(HTML(value='Drawing 10000 posterior samples'), FloatProgress(value=0.0, max=10000.0), HTML(valu…"
      ]
     },
     "metadata": {},
     "output_type": "display_data"
    },
    {
     "name": "stdout",
     "output_type": "stream",
     "text": [
      "\n"
     ]
    },
    {
     "data": {
      "application/vnd.jupyter.widget-view+json": {
       "model_id": "415e319c5a2041f2a6c86476fb2a35ed",
       "version_major": 2,
       "version_minor": 0
      },
      "text/plain": [
       "HBox(children=(HTML(value='Running 10000 simulations.'), FloatProgress(value=0.0, max=10000.0), HTML(value='')…"
      ]
     },
     "metadata": {},
     "output_type": "display_data"
    },
    {
     "name": "stdout",
     "output_type": "stream",
     "text": [
      "\n",
      "Using SNPE-C with atomic loss\n",
      "Neural network successfully converged after 52 epochs.\n",
      "\n",
      "        -------------------------\n",
      "        ||||| ROUND 5 STATS |||||:\n",
      "        -------------------------\n",
      "        Epochs trained: 52\n",
      "        Best validation performance: -0.7199\n",
      "        -------------------------\n",
      "        \n"
     ]
    },
    {
     "data": {
      "application/vnd.jupyter.widget-view+json": {
       "model_id": "b6529f2e289c4537bf87c18512a65f5f",
       "version_major": 2,
       "version_minor": 0
      },
      "text/plain": [
       "HBox(children=(HTML(value='Drawing 10000 posterior samples'), FloatProgress(value=0.0, max=10000.0), HTML(valu…"
      ]
     },
     "metadata": {},
     "output_type": "display_data"
    },
    {
     "name": "stdout",
     "output_type": "stream",
     "text": [
      "\n"
     ]
    },
    {
     "data": {
      "application/vnd.jupyter.widget-view+json": {
       "model_id": "ad98f235bf1747a9a36834c2b5f2c3e4",
       "version_major": 2,
       "version_minor": 0
      },
      "text/plain": [
       "HBox(children=(HTML(value='Running 10000 simulations.'), FloatProgress(value=0.0, max=10000.0), HTML(value='')…"
      ]
     },
     "metadata": {},
     "output_type": "display_data"
    },
    {
     "name": "stdout",
     "output_type": "stream",
     "text": [
      "\n",
      "Using SNPE-C with atomic loss\n",
      "Neural network successfully converged after 68 epochs.\n",
      "\n",
      "        -------------------------\n",
      "        ||||| ROUND 6 STATS |||||:\n",
      "        -------------------------\n",
      "        Epochs trained: 68\n",
      "        Best validation performance: -0.7688\n",
      "        -------------------------\n",
      "        \n"
     ]
    },
    {
     "data": {
      "application/vnd.jupyter.widget-view+json": {
       "model_id": "5ac99aead967481590f61906e18b16a6",
       "version_major": 2,
       "version_minor": 0
      },
      "text/plain": [
       "HBox(children=(HTML(value='Drawing 10000 posterior samples'), FloatProgress(value=0.0, max=10000.0), HTML(valu…"
      ]
     },
     "metadata": {},
     "output_type": "display_data"
    },
    {
     "name": "stdout",
     "output_type": "stream",
     "text": [
      "\n"
     ]
    },
    {
     "data": {
      "application/vnd.jupyter.widget-view+json": {
       "model_id": "674473156b5848538c1725193c4ac86c",
       "version_major": 2,
       "version_minor": 0
      },
      "text/plain": [
       "HBox(children=(HTML(value='Running 10000 simulations.'), FloatProgress(value=0.0, max=10000.0), HTML(value='')…"
      ]
     },
     "metadata": {},
     "output_type": "display_data"
    },
    {
     "name": "stdout",
     "output_type": "stream",
     "text": [
      "\n",
      "Using SNPE-C with atomic loss\n",
      "Neural network successfully converged after 56 epochs.\n",
      "\n",
      "        -------------------------\n",
      "        ||||| ROUND 7 STATS |||||:\n",
      "        -------------------------\n",
      "        Epochs trained: 56\n",
      "        Best validation performance: -0.7893\n",
      "        -------------------------\n",
      "        \n"
     ]
    },
    {
     "data": {
      "application/vnd.jupyter.widget-view+json": {
       "model_id": "1372c81ffc434114b04aa3b15b4fa708",
       "version_major": 2,
       "version_minor": 0
      },
      "text/plain": [
       "HBox(children=(HTML(value='Drawing 10000 posterior samples'), FloatProgress(value=0.0, max=10000.0), HTML(valu…"
      ]
     },
     "metadata": {},
     "output_type": "display_data"
    },
    {
     "name": "stdout",
     "output_type": "stream",
     "text": [
      "\n"
     ]
    },
    {
     "data": {
      "application/vnd.jupyter.widget-view+json": {
       "model_id": "eaa92a92fc224103a852b4a79f0d1b69",
       "version_major": 2,
       "version_minor": 0
      },
      "text/plain": [
       "HBox(children=(HTML(value='Running 10000 simulations.'), FloatProgress(value=0.0, max=10000.0), HTML(value='')…"
      ]
     },
     "metadata": {},
     "output_type": "display_data"
    },
    {
     "name": "stdout",
     "output_type": "stream",
     "text": [
      "\n",
      "Using SNPE-C with atomic loss\n",
      "Neural network successfully converged after 32 epochs.\n",
      "\n",
      "        -------------------------\n",
      "        ||||| ROUND 8 STATS |||||:\n",
      "        -------------------------\n",
      "        Epochs trained: 32\n",
      "        Best validation performance: -0.8140\n",
      "        -------------------------\n",
      "        \n"
     ]
    },
    {
     "data": {
      "application/vnd.jupyter.widget-view+json": {
       "model_id": "307c8d7684b547c8938d9e553fd417a3",
       "version_major": 2,
       "version_minor": 0
      },
      "text/plain": [
       "HBox(children=(HTML(value='Drawing 10000 posterior samples'), FloatProgress(value=0.0, max=10000.0), HTML(valu…"
      ]
     },
     "metadata": {},
     "output_type": "display_data"
    },
    {
     "name": "stdout",
     "output_type": "stream",
     "text": [
      "\n"
     ]
    },
    {
     "data": {
      "application/vnd.jupyter.widget-view+json": {
       "model_id": "a02728c65a484813ac4896dfb3f5fc3c",
       "version_major": 2,
       "version_minor": 0
      },
      "text/plain": [
       "HBox(children=(HTML(value='Running 10000 simulations.'), FloatProgress(value=0.0, max=10000.0), HTML(value='')…"
      ]
     },
     "metadata": {},
     "output_type": "display_data"
    },
    {
     "name": "stdout",
     "output_type": "stream",
     "text": [
      "\n",
      "Using SNPE-C with atomic loss\n",
      "Neural network successfully converged after 47 epochs.\n",
      "\n",
      "        -------------------------\n",
      "        ||||| ROUND 9 STATS |||||:\n",
      "        -------------------------\n",
      "        Epochs trained: 47\n",
      "        Best validation performance: -0.8376\n",
      "        -------------------------\n",
      "        \n"
     ]
    },
    {
     "data": {
      "application/vnd.jupyter.widget-view+json": {
       "model_id": "e79ed9565fb34bffaadb5561e2c8778e",
       "version_major": 2,
       "version_minor": 0
      },
      "text/plain": [
       "HBox(children=(HTML(value='Drawing 10000 posterior samples'), FloatProgress(value=0.0, max=10000.0), HTML(valu…"
      ]
     },
     "metadata": {},
     "output_type": "display_data"
    },
    {
     "name": "stdout",
     "output_type": "stream",
     "text": [
      "\n"
     ]
    },
    {
     "data": {
      "application/vnd.jupyter.widget-view+json": {
       "model_id": "e7e67d2f9892420ab0e101af021257ba",
       "version_major": 2,
       "version_minor": 0
      },
      "text/plain": [
       "HBox(children=(HTML(value='Running 10000 simulations.'), FloatProgress(value=0.0, max=10000.0), HTML(value='')…"
      ]
     },
     "metadata": {},
     "output_type": "display_data"
    },
    {
     "name": "stdout",
     "output_type": "stream",
     "text": [
      "\n",
      "Using SNPE-C with atomic loss\n",
      "Neural network successfully converged after 38 epochs.\n",
      "\n",
      "        -------------------------\n",
      "        ||||| ROUND 10 STATS |||||:\n",
      "        -------------------------\n",
      "        Epochs trained: 38\n",
      "        Best validation performance: -0.8615\n",
      "        -------------------------\n",
      "        \n"
     ]
    },
    {
     "data": {
      "application/vnd.jupyter.widget-view+json": {
       "model_id": "ace7b30f7b5649e3a6d7cc989d01b756",
       "version_major": 2,
       "version_minor": 0
      },
      "text/plain": [
       "HBox(children=(HTML(value='Drawing 10000 posterior samples'), FloatProgress(value=0.0, max=10000.0), HTML(valu…"
      ]
     },
     "metadata": {},
     "output_type": "display_data"
    },
    {
     "name": "stdout",
     "output_type": "stream",
     "text": [
      "\n"
     ]
    }
   ],
   "source": [
    "posterior_samples, _, _ = snpe(task=task, num_samples=10_000, num_observation=1, num_simulations=100_000)"
   ]
  },
  {
   "cell_type": "code",
   "execution_count": 21,
   "metadata": {},
   "outputs": [
    {
     "data": {
      "text/plain": [
       "tensor([[ 0.5233,  0.8458],\n",
       "        [-0.6750, -0.6245],\n",
       "        [-0.8280, -0.4425],\n",
       "        ...,\n",
       "        [-0.8271, -0.5669],\n",
       "        [-0.7959, -0.5335],\n",
       "        [-0.6771, -0.6066]])"
      ]
     },
     "execution_count": 21,
     "metadata": {},
     "output_type": "execute_result"
    }
   ],
   "source": [
    "posterior_samples"
   ]
  },
  {
   "cell_type": "code",
   "execution_count": 23,
   "metadata": {},
   "outputs": [],
   "source": [
    "posterior_samples_save = posterior_samples"
   ]
  },
  {
   "cell_type": "code",
   "execution_count": 22,
   "metadata": {},
   "outputs": [],
   "source": [
    "# pickle the posterior samples for later!\n",
    "#with open('posterior_samples_twomoons_20210128.pkl', 'wb') as handle:\n",
    "#    pickle.dump(posterior_samples, handle, protocol=pickle.HIGHEST_PROTOCOL)"
   ]
  },
  {
   "cell_type": "code",
   "execution_count": 24,
   "metadata": {},
   "outputs": [],
   "source": [
    "with open('posterior_samples_twomoons_20210128.pkl', 'rb') as handle:\n",
    "    post_samples = pickle.load(handle)"
   ]
  },
  {
   "cell_type": "code",
   "execution_count": 31,
   "metadata": {},
   "outputs": [],
   "source": [
    "with open('posterior_samples_twomoons_v2_20210128.pkl', 'rb') as handle:\n",
    "    post_samples2 = pickle.load(handle)"
   ]
  },
  {
   "cell_type": "code",
   "execution_count": 26,
   "metadata": {},
   "outputs": [],
   "source": [
    "# Once we got samples from an approximate posterior, compare them to the reference:\n",
    "from sbibm.metrics import c2st\n",
    "reference_samples = task.get_reference_posterior_samples(num_observation=1)\n",
    "c2st_accuracy = c2st(reference_samples, posterior_samples)"
   ]
  },
  {
   "cell_type": "code",
   "execution_count": 28,
   "metadata": {},
   "outputs": [
    {
     "data": {
      "text/plain": [
       "tensor([0.4947])"
      ]
     },
     "execution_count": 28,
     "metadata": {},
     "output_type": "execute_result"
    }
   ],
   "source": [
    "c2st_accuracy"
   ]
  },
  {
   "cell_type": "code",
   "execution_count": 29,
   "metadata": {},
   "outputs": [
    {
     "name": "stdout",
     "output_type": "stream",
     "text": [
      "Displaying chart at http://localhost:15107/\n"
     ]
    }
   ],
   "source": [
    "# Visualise both posteriors:\n",
    "from sbibm.visualisation import fig_posterior\n",
    "fig = fig_posterior(task_name=\"two_moons\", observation=1, samples=[posterior_samples])  \n",
    "# Note: Use fig.show() or fig.save() to show or save the figure\n",
    "fig.show()"
   ]
  },
  {
   "cell_type": "code",
   "execution_count": 30,
   "metadata": {},
   "outputs": [
    {
     "name": "stdout",
     "output_type": "stream",
     "text": [
      "Displaying chart at http://localhost:15107/\n"
     ]
    }
   ],
   "source": [
    "# Get results from other algorithms for comparison:\n",
    "from sbibm.visualisation import fig_metric\n",
    "results_df = sbibm.get_results(dataset=\"main_paper.csv\")\n",
    "fig = fig_metric(results_df.query(\"task == 'two_moons'\"), metric=\"C2ST\")\n",
    "fig.show()"
   ]
  },
  {
   "cell_type": "code",
   "execution_count": null,
   "metadata": {},
   "outputs": [],
   "source": []
  },
  {
   "cell_type": "code",
   "execution_count": null,
   "metadata": {},
   "outputs": [],
   "source": []
  },
  {
   "cell_type": "code",
   "execution_count": null,
   "metadata": {},
   "outputs": [],
   "source": []
  }
 ],
 "metadata": {
  "kernelspec": {
   "display_name": "Python 3",
   "language": "python",
   "name": "python3"
  },
  "language_info": {
   "codemirror_mode": {
    "name": "ipython",
    "version": 3
   },
   "file_extension": ".py",
   "mimetype": "text/x-python",
   "name": "python",
   "nbconvert_exporter": "python",
   "pygments_lexer": "ipython3",
   "version": "3.7.3"
  }
 },
 "nbformat": 4,
 "nbformat_minor": 4
}
