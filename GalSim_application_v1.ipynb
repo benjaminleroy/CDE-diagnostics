{
 "cells": [
  {
   "cell_type": "code",
   "execution_count": 80,
   "metadata": {},
   "outputs": [],
   "source": [
    "import numpy as np\n",
    "import pandas as pd\n",
    "import ipdb\n",
    "import pickle\n",
    "import nnkcde\n",
    "from cdetools.cdf_coverage import cdf_coverage\n",
    "from cdetools.plot_utils import plot_with_uniform_band\n",
    "from scipy.stats import norm, multivariate_normal\n",
    "from scipy.integrate import simps\n",
    "import statsmodels.api as sm\n",
    "from sklearn.neural_network import MLPClassifier\n",
    "import statsmodels.api as sm\n",
    "from scipy.special import expit, logit\n",
    "\n",
    "import matplotlib.pyplot as plt\n",
    "from matplotlib import colors\n",
    "from mpl_toolkits.mplot3d import Axes3D\n",
    "from matplotlib.ticker import NullFormatter\n",
    "import seaborn as sns\n",
    "from pydiffmap import diffusion_map as dm\n",
    "from sklearn.manifold import TSNE\n",
    "import umap\n",
    "\n",
    "import math\n",
    "\n",
    "import torch\n",
    "import torch.nn as nn\n",
    "from mdn_model import MDNPerceptron\n",
    "from convolutional_mdn_model import ConvMDNPerceptron"
   ]
  },
  {
   "cell_type": "markdown",
   "metadata": {},
   "source": [
    "# specify model\n",
    "## prior: $\\alpha \\sim Unif[-\\pi,\\pi],\\ \\ P(\\lambda=0.7)=1-P(\\lambda=0.1)=0.9$\n",
    "## simulator: image $x$ with displacement $\\lambda$, angle $a|\\alpha \\sim 0.5Lap(\\alpha, 0.05) + 0.5Lap(\\alpha, 0.0005)$"
   ]
  },
  {
   "cell_type": "markdown",
   "metadata": {},
   "source": [
    "# fit convolutional MDN using PyTorch"
   ]
  },
  {
   "cell_type": "code",
   "execution_count": 129,
   "metadata": {},
   "outputs": [],
   "source": [
    "with open('all_output_CMDN_2021-02-10-03-02.pkl', 'rb') as handle:\n",
    "    pis, mus, sigmas = pickle.load(handle)"
   ]
  },
  {
   "cell_type": "code",
   "execution_count": 130,
   "metadata": {
    "scrolled": true
   },
   "outputs": [],
   "source": [
    "for k, pi in pis.items():\n",
    "    pis[k] = pis[k].detach().numpy()"
   ]
  },
  {
   "cell_type": "code",
   "execution_count": 131,
   "metadata": {},
   "outputs": [],
   "source": [
    "for k, mu in mus.items():\n",
    "    mus[k] = mus[k].detach().numpy()"
   ]
  },
  {
   "cell_type": "code",
   "execution_count": 132,
   "metadata": {},
   "outputs": [],
   "source": [
    "for k, sigma in sigmas.items():\n",
    "    sigmas[k] = sigmas[k].detach().numpy()"
   ]
  },
  {
   "cell_type": "code",
   "execution_count": 133,
   "metadata": {
    "scrolled": true
   },
   "outputs": [
    {
     "data": {
      "text/plain": [
       "{2: array([[0.5046718 , 0.49532828],\n",
       "        [0.5168594 , 0.48314056],\n",
       "        [0.52316743, 0.4768326 ],\n",
       "        ...,\n",
       "        [0.49497628, 0.5050237 ],\n",
       "        [0.4939711 , 0.5060289 ],\n",
       "        [0.5282066 , 0.47179347]], dtype=float32),\n",
       " 3: array([[5.2400500e-01, 4.7599214e-01, 2.8731547e-06],\n",
       "        [5.1133871e-01, 1.7592553e-06, 4.8865947e-01],\n",
       "        [4.8515218e-01, 5.1446629e-01, 3.8151629e-04],\n",
       "        ...,\n",
       "        [1.8580629e-04, 4.1050118e-01, 5.8931291e-01],\n",
       "        [1.1787642e-05, 5.0447106e-01, 4.9551710e-01],\n",
       "        [4.5945984e-01, 5.4053611e-01, 4.0388391e-06]], dtype=float32),\n",
       " 4: array([[4.8957455e-01, 5.1042551e-01, 4.6143622e-09, 4.2037249e-09],\n",
       "        [5.1882523e-01, 4.8117483e-01, 4.0420919e-10, 3.2937150e-10],\n",
       "        [9.4866881e-10, 5.8445793e-10, 5.2244419e-01, 4.7755584e-01],\n",
       "        ...,\n",
       "        [1.6187018e-15, 8.7335407e-16, 4.7158378e-01, 5.2841628e-01],\n",
       "        [4.8261752e-15, 2.6513542e-15, 4.7103930e-01, 5.2896065e-01],\n",
       "        [3.0661898e-03, 2.2731835e-03, 5.3587514e-01, 4.5878550e-01]],\n",
       "       dtype=float32),\n",
       " 5: array([[5.08713961e-01, 5.05895773e-03, 4.86226976e-01, 1.05483224e-07,\n",
       "         5.14121972e-08],\n",
       "        [9.94667634e-02, 4.05604005e-01, 4.94929284e-01, 4.48172273e-08,\n",
       "         3.16587503e-08],\n",
       "        [1.37731149e-06, 5.87422511e-09, 6.43669955e-06, 5.21375477e-01,\n",
       "         4.78616744e-01],\n",
       "        ...,\n",
       "        [2.07944794e-12, 4.75469328e-13, 1.44619330e-10, 4.79881465e-01,\n",
       "         5.20118594e-01],\n",
       "        [1.36203071e-12, 9.34218306e-13, 1.54351407e-10, 4.79704589e-01,\n",
       "         5.20295441e-01],\n",
       "        [3.28424871e-01, 4.01713536e-04, 3.26786608e-01, 1.97032556e-01,\n",
       "         1.47354186e-01]], dtype=float32),\n",
       " 6: array([[4.0676397e-08, 4.9617657e-01, 5.0382346e-01, 2.2731632e-09,\n",
       "         4.0686698e-09, 7.6912650e-11],\n",
       "        [7.5368360e-09, 5.1009637e-01, 4.8990363e-01, 1.4455869e-09,\n",
       "         4.9793829e-11, 6.7997684e-11],\n",
       "        [5.1221257e-01, 2.4751869e-06, 2.3790274e-06, 2.0449359e-02,\n",
       "         3.2533181e-01, 1.4200135e-01],\n",
       "        ...,\n",
       "        [4.0898341e-01, 4.1233020e-06, 4.4563462e-06, 5.7701703e-02,\n",
       "         2.7272398e-02, 5.0603396e-01],\n",
       "        [3.8338190e-01, 9.7842349e-06, 1.0596072e-05, 6.5027542e-02,\n",
       "         1.5288190e-02, 5.3628200e-01],\n",
       "        [5.2147156e-01, 3.1707115e-03, 2.9652047e-03, 1.3605996e-02,\n",
       "         4.3607339e-01, 2.2713168e-02]], dtype=float32),\n",
       " 7: array([[3.32305050e-09, 1.54835955e-09, 6.60823798e-03, ...,\n",
       "         2.33170749e-09, 2.78879408e-09, 4.78088766e-01],\n",
       "        [2.51875104e-10, 1.08305746e-10, 1.88280628e-05, ...,\n",
       "         6.55320728e-11, 1.05107763e-10, 5.11708140e-01],\n",
       "        [2.94143404e-10, 1.01389321e-10, 1.45706913e-09, ...,\n",
       "         4.76283044e-01, 5.23717046e-01, 4.98877717e-10],\n",
       "        ...,\n",
       "        [3.08493303e-13, 1.00939392e-13, 2.28402307e-15, ...,\n",
       "         5.20676255e-01, 4.79323715e-01, 3.98872516e-15],\n",
       "        [4.54435426e-13, 1.49182140e-13, 2.64418169e-15, ...,\n",
       "         5.24247706e-01, 4.75752354e-01, 1.08273088e-14],\n",
       "        [1.83826694e-06, 6.87663885e-07, 5.92785375e-03, ...,\n",
       "         4.54404950e-01, 5.30234456e-01, 4.12938325e-03]], dtype=float32),\n",
       " 8: array([[3.0465437e-06, 1.8728927e-06, 1.1283921e-05, ..., 4.4813007e-01,\n",
       "         7.0050824e-06, 7.8894600e-06],\n",
       "        [3.8922954e-07, 4.8591511e-07, 6.8827499e-06, ..., 3.2521904e-04,\n",
       "         2.0478833e-06, 4.0460095e-06],\n",
       "        [8.0233340e-06, 8.7120052e-06, 6.2766288e-05, ..., 4.7158232e-01,\n",
       "         2.5525644e-05, 3.8229835e-05],\n",
       "        ...,\n",
       "        [5.6113544e-07, 6.2511185e-07, 6.9712232e-06, ..., 4.6138012e-01,\n",
       "         1.8073365e-06, 2.1486778e-06],\n",
       "        [4.4156985e-07, 5.0623720e-07, 6.2810054e-06, ..., 4.4810402e-01,\n",
       "         1.5469437e-06, 1.8450967e-06],\n",
       "        [6.5465208e-08, 6.7051296e-08, 5.0706245e-07, ..., 5.1463664e-01,\n",
       "         3.2428727e-07, 4.3713098e-07]], dtype=float32),\n",
       " 9: array([[6.09376301e-08, 2.78614163e-08, 3.36399086e-09, ...,\n",
       "         4.96485382e-01, 5.03352523e-01, 1.92311234e-09],\n",
       "        [4.92649463e-07, 2.47129321e-07, 1.14825234e-07, ...,\n",
       "         3.57085049e-01, 3.52070004e-01, 7.78645060e-08],\n",
       "        [1.13423994e-07, 7.36484385e-09, 5.27877033e-01, ...,\n",
       "         1.04036417e-06, 1.03562161e-06, 4.72120762e-01],\n",
       "        ...,\n",
       "        [3.01219327e-10, 1.15747117e-11, 4.78223294e-01, ...,\n",
       "         1.86066284e-11, 1.73024459e-11, 5.21776736e-01],\n",
       "        [5.87055959e-10, 2.50903343e-11, 4.74774867e-01, ...,\n",
       "         4.91449242e-11, 4.53625054e-11, 5.25225222e-01],\n",
       "        [7.20778189e-05, 1.12289617e-05, 7.65782744e-02, ...,\n",
       "         4.23778057e-01, 4.42089140e-01, 5.69036640e-02]], dtype=float32),\n",
       " 10: array([[5.05379140e-01, 4.94617850e-01, 3.07190429e-09, ...,\n",
       "         4.81812421e-08, 4.08472204e-07, 2.64641997e-09],\n",
       "        [2.41719447e-02, 2.84894183e-02, 9.23380341e-08, ...,\n",
       "         3.16350383e-06, 3.64547702e-07, 1.58292437e-07],\n",
       "        [2.85914401e-03, 4.48481645e-03, 1.71181060e-08, ...,\n",
       "         1.34597792e-06, 5.08874297e-01, 2.27370993e-08],\n",
       "        ...,\n",
       "        [1.65293308e-08, 3.52767948e-08, 4.59187237e-11, ...,\n",
       "         1.03933697e-08, 4.86365348e-01, 1.00534345e-10],\n",
       "        [4.86073093e-09, 1.06765956e-08, 4.27121429e-11, ...,\n",
       "         1.08554685e-08, 4.82914180e-01, 1.03538851e-10],\n",
       "        [4.35431749e-01, 5.33804715e-01, 9.37684419e-08, ...,\n",
       "         3.52670099e-06, 1.61017366e-02, 9.92256446e-08]], dtype=float32)}"
      ]
     },
     "execution_count": 133,
     "metadata": {},
     "output_type": "execute_result"
    }
   ],
   "source": [
    "pis"
   ]
  },
  {
   "cell_type": "code",
   "execution_count": 134,
   "metadata": {
    "scrolled": true
   },
   "outputs": [
    {
     "data": {
      "text/plain": [
       "{2: array([[ 1.2008368 , -1.9438733 ],\n",
       "        [ 0.36087713, -2.7813213 ],\n",
       "        [ 1.9021746 , -1.240123  ],\n",
       "        ...,\n",
       "        [ 2.4215226 , -0.718845  ],\n",
       "        [ 2.560023  , -0.5809981 ],\n",
       "        [ 1.6341114 , -1.509084  ]], dtype=float32),\n",
       " 3: array([[-1.9436551 ,  1.2003223 ,  0.13264269],\n",
       "        [-2.7559166 ,  1.494008  ,  0.37705937],\n",
       "        [-1.2322912 ,  1.9122417 , -0.64821947],\n",
       "        ...,\n",
       "        [-1.4910759 ,  2.4351466 , -0.71792203],\n",
       "        [-1.8015928 ,  2.555991  , -0.58714956],\n",
       "        [-1.5072693 ,  1.6421318 , -0.34608734]], dtype=float32),\n",
       " 4: array([[ 1.1951727 , -1.9482477 ,  1.380473  , -1.6053352 ],\n",
       "        [ 0.384963  , -2.7623298 ,  2.3762295 , -0.65320927],\n",
       "        [ 1.4899545 , -1.4831069 ,  1.9081011 , -1.2398412 ],\n",
       "        ...,\n",
       "        [ 1.0724992 , -1.7395484 ,  2.4328208 , -0.71507585],\n",
       "        [ 0.91889364, -1.8840796 ,  2.554919  , -0.5874168 ],\n",
       "        [ 1.5506896 , -1.5572302 ,  1.6394578 , -1.51092   ]],\n",
       "       dtype=float32),\n",
       " 5: array([[ 1.2009249 ,  1.1172559 , -1.9362477 ,  1.681366  , -1.5480146 ],\n",
       "        [ 0.36683446,  0.3920903 , -2.747229  ,  2.648114  , -0.3426486 ],\n",
       "        [ 1.7075908 ,  0.60763747, -1.616175  ,  1.8988285 , -1.2399151 ],\n",
       "        ...,\n",
       "        [ 1.480736  ,  0.1432362 , -2.097806  ,  2.425788  , -0.7122879 ],\n",
       "        [ 1.3716497 ,  0.07594182, -2.251031  ,  2.5426939 , -0.59126025],\n",
       "        [ 1.6335263 ,  0.92053396, -1.5189546 ,  1.6422806 , -1.4805789 ]],\n",
       "       dtype=float32),\n",
       " 6: array([[ 1.5361505 ,  1.2041106 , -1.9374897 ,  1.5067105 , -1.6554958 ,\n",
       "          0.01956697],\n",
       "        [ 2.3556743 ,  0.39514863, -2.746008  ,  2.2100608 , -1.2550225 ,\n",
       "          0.5820049 ],\n",
       "        [ 1.890985  ,  1.2727997 , -1.6799955 ,  1.9833862 , -1.2297468 ,\n",
       "         -1.2822161 ],\n",
       "        ...,\n",
       "        [ 2.421438  ,  0.4977606 , -2.2210314 ,  2.4265857 , -0.75852895,\n",
       "         -0.7160783 ],\n",
       "        [ 2.5434356 ,  0.3646082 , -2.3622644 ,  2.5341585 , -0.6987029 ,\n",
       "         -0.59242284],\n",
       "        [ 1.6247655 ,  1.5439739 , -1.5748155 ,  1.7236437 , -1.5118864 ,\n",
       "         -1.1565276 ]], dtype=float32),\n",
       " 7: array([[-0.4680858 ,  1.1247964 ,  1.0998678 , ..., -1.2208819 ,\n",
       "          1.8048855 ,  1.1989331 ],\n",
       "        [-1.0561621 ,  0.93995786,  0.5172259 , ..., -0.13088852,\n",
       "          2.891633  ,  0.38623935],\n",
       "        [ 0.57206357,  1.5589647 ,  1.9166064 , ..., -1.2391179 ,\n",
       "          1.9041246 ,  1.1598393 ],\n",
       "        ...,\n",
       "        [ 0.69052005,  1.5539479 ,  2.1409452 , ..., -0.7097299 ,\n",
       "          2.430463  ,  0.3794256 ],\n",
       "        [ 0.61701536,  1.5224477 ,  2.09998   , ..., -0.5868869 ,\n",
       "          2.553411  ,  0.23596784],\n",
       "        [ 0.2710249 ,  1.4753816 ,  1.6385876 , ..., -1.5130012 ,\n",
       "          1.6328526 ,  1.5143895 ]], dtype=float32),\n",
       " 8: array([[ 0.7357484 , -0.77403206, -1.5648936 , ...,  1.186843  ,\n",
       "          1.0606319 ,  0.68765205],\n",
       "        [ 0.65896153, -0.59922475, -0.57792735, ...,  2.6379533 ,\n",
       "          0.72651815,  0.38902098],\n",
       "        [ 0.89665294, -0.7482969 , -1.4407969 , ...,  1.9104784 ,\n",
       "          1.1293314 ,  0.30205804],\n",
       "        ...,\n",
       "        [ 0.78141737, -0.55721855, -0.4198336 , ...,  2.4340997 ,\n",
       "          1.4778224 , -0.3763761 ],\n",
       "        [ 0.7568346 , -0.53762835, -0.27317566, ...,  2.5487442 ,\n",
       "          1.4689585 , -0.4206896 ],\n",
       "        [ 0.89386284, -0.98563653, -1.9394482 , ...,  1.6313633 ,\n",
       "          1.0354923 ,  0.7689155 ]], dtype=float32),\n",
       " 9: array([[-1.2423954 , -1.345807  ,  1.5883713 , ..., -1.9414507 ,\n",
       "          1.1992494 , -1.2589893 ],\n",
       "        [-1.8540357 , -1.7488524 ,  2.576319  , ..., -2.758635  ,\n",
       "          0.38921282, -0.35791013],\n",
       "        [-1.7147373 , -1.9145851 ,  1.8973743 , ..., -1.4391791 ,\n",
       "          1.7364591 , -1.2426164 ],\n",
       "        ...,\n",
       "        [-2.1174932 , -2.2541442 ,  2.4247208 , ..., -1.703541  ,\n",
       "          1.4884778 , -0.71638   ],\n",
       "        [-2.176001  , -2.2809477 ,  2.5438528 , ..., -1.834132  ,\n",
       "          1.3544624 , -0.59280896],\n",
       "        [-1.4268242 , -1.6127545 ,  1.6474978 , ..., -1.5159303 ,\n",
       "          1.6361766 , -1.473389  ]], dtype=float32),\n",
       " 10: array([[-1.9403166 ,  1.2024574 ,  0.35517734, ...,  1.2792397 ,\n",
       "          1.5035696 , -3.279743  ],\n",
       "        [-2.6950035 ,  0.45790488, -0.05565709, ...,  2.3406465 ,\n",
       "          2.612149  , -3.285431  ],\n",
       "        [-1.2351043 ,  1.90156   , -0.534291  , ...,  1.9536657 ,\n",
       "          1.9035516 , -2.799021  ],\n",
       "        ...,\n",
       "        [-1.0156114 ,  2.0717995 , -1.2234527 , ...,  2.5578225 ,\n",
       "          2.429262  , -2.43021   ],\n",
       "        [-1.0505228 ,  2.0054824 , -1.32753   , ...,  2.6696932 ,\n",
       "          2.552757  , -2.3701985 ],\n",
       "        [-1.5106103 ,  1.6388592 , -0.1103214 , ...,  1.6184673 ,\n",
       "          1.6628308 , -3.0315728 ]], dtype=float32)}"
      ]
     },
     "execution_count": 134,
     "metadata": {},
     "output_type": "execute_result"
    }
   ],
   "source": [
    "mus"
   ]
  },
  {
   "cell_type": "code",
   "execution_count": 135,
   "metadata": {
    "scrolled": true
   },
   "outputs": [
    {
     "data": {
      "text/plain": [
       "{2: array([[0.04978625, 0.04823152],\n",
       "        [0.04905192, 0.04665868],\n",
       "        [0.04973453, 0.04789026],\n",
       "        ...,\n",
       "        [0.0496684 , 0.05175523],\n",
       "        [0.04674916, 0.04832349],\n",
       "        [0.05129226, 0.04829455]], dtype=float32),\n",
       " 3: array([[0.04882444, 0.04997731, 0.02440453],\n",
       "        [0.04936678, 0.02548206, 0.04763468],\n",
       "        [0.04855283, 0.05296893, 0.03404836],\n",
       "        ...,\n",
       "        [0.03121432, 0.04801877, 0.05090813],\n",
       "        [0.02818763, 0.05163138, 0.05306155],\n",
       "        [0.04880194, 0.05215967, 0.02557136]], dtype=float32),\n",
       " 4: array([[0.04907281, 0.0485488 , 0.05329301, 0.06588262],\n",
       "        [0.04864542, 0.047807  , 0.04213671, 0.06243033],\n",
       "        [0.06180048, 0.04595415, 0.05321465, 0.04824044],\n",
       "        ...,\n",
       "        [0.07488818, 0.04634015, 0.04966645, 0.05188468],\n",
       "        [0.07520258, 0.04616734, 0.04912759, 0.05233318],\n",
       "        [0.05254276, 0.04504284, 0.05130146, 0.04928241]], dtype=float32),\n",
       " 5: array([[0.04916174, 0.02231237, 0.05060147, 0.05663216, 0.05366974],\n",
       "        [0.04505198, 0.04664128, 0.05109245, 0.04740339, 0.04397776],\n",
       "        [0.05043492, 0.01587668, 0.03945588, 0.05453739, 0.04764738],\n",
       "        ...,\n",
       "        [0.05360333, 0.0170511 , 0.03285498, 0.0526321 , 0.05046458],\n",
       "        [0.05467756, 0.01823804, 0.03220382, 0.05256587, 0.05150209],\n",
       "        [0.04947852, 0.01742074, 0.04471114, 0.0559805 , 0.04811655]],\n",
       "       dtype=float32),\n",
       " 6: array([[0.04298103, 0.05054635, 0.0497601 , 0.02815753, 0.02233003,\n",
       "         0.05089631],\n",
       "        [0.03793183, 0.05149483, 0.04903669, 0.03265334, 0.00586801,\n",
       "         0.05068299],\n",
       "        [0.0515927 , 0.05582508, 0.04672375, 0.03004144, 0.04278431,\n",
       "         0.04383506],\n",
       "        ...,\n",
       "        [0.05320622, 0.06580396, 0.05619375, 0.04494573, 0.01645339,\n",
       "         0.05454849],\n",
       "        [0.05214985, 0.06656084, 0.0563577 , 0.04691685, 0.01303035,\n",
       "         0.05463698],\n",
       "        [0.04781389, 0.05098104, 0.04366862, 0.02539005, 0.0495553 ,\n",
       "         0.04088294]], dtype=float32),\n",
       " 7: array([[1.7979127e+00, 7.5501943e-01, 4.9690562e-03, ..., 5.2154720e-02,\n",
       "         4.8514098e-02, 4.8348859e-02],\n",
       "        [1.6743501e+00, 1.0308185e+00, 9.4700754e-03, ..., 4.7162775e-02,\n",
       "         4.9274724e-02, 4.9949907e-02],\n",
       "        [1.2657281e+00, 6.3311332e-01, 6.8519735e-01, ..., 4.8429366e-02,\n",
       "         5.2495319e-02, 6.7809343e-02],\n",
       "        ...,\n",
       "        [9.6664113e-01, 7.8111470e-01, 6.5824361e+00, ..., 5.1542543e-02,\n",
       "         5.1187836e-02, 5.9593327e-02],\n",
       "        [9.4774657e-01, 8.2263601e-01, 6.8566504e+00, ..., 5.1879674e-02,\n",
       "         5.0719909e-02, 5.7230618e-02],\n",
       "        [1.5611539e+00, 5.9770530e-01, 6.6144012e-02, ..., 4.9329098e-02,\n",
       "         5.0954662e-02, 6.5334380e-02]], dtype=float32),\n",
       " 8: array([[0.9910573 , 0.97025234, 0.36134583, ..., 0.04758876, 0.70515335,\n",
       "         0.5437988 ],\n",
       "        [1.8753716 , 0.7602604 , 0.5499307 , ..., 0.04868294, 1.042227  ,\n",
       "         0.17942847],\n",
       "        [1.2019421 , 0.5587717 , 0.28270322, ..., 0.05387467, 1.3600564 ,\n",
       "         0.46579325],\n",
       "        ...,\n",
       "        [2.073362  , 0.6658274 , 0.20645872, ..., 0.04993386, 1.8533342 ,\n",
       "         0.18745247],\n",
       "        [2.2136743 , 0.6865203 , 0.20388056, ..., 0.04987119, 1.8288761 ,\n",
       "         0.16172501],\n",
       "        [0.77459687, 0.6473944 , 0.18948336, ..., 0.05163065, 0.720888  ,\n",
       "         0.65358645]], dtype=float32),\n",
       " 9: array([[0.01086244, 0.25957897, 0.05237748, ..., 0.0504019 , 0.0505888 ,\n",
       "         0.04332179],\n",
       "        [0.00912605, 0.09365296, 0.0463202 , ..., 0.04457885, 0.04509998,\n",
       "         0.04305258],\n",
       "        [0.00201652, 0.11123033, 0.05399462, ..., 0.03330904, 0.03436578,\n",
       "         0.04888053],\n",
       "        ...,\n",
       "        [0.00119794, 0.05336364, 0.05102073, ..., 0.02566186, 0.025652  ,\n",
       "         0.05248012],\n",
       "        [0.00127759, 0.0484986 , 0.05026296, ..., 0.02582053, 0.02576442,\n",
       "         0.05247356],\n",
       "        [0.00430083, 0.1915979 , 0.05440457, ..., 0.044186  , 0.0463776 ,\n",
       "         0.04514642]], dtype=float32),\n",
       " 10: array([[0.04742671, 0.05097239, 0.661343  , ..., 0.00595987, 0.06571949,\n",
       "         0.5344429 ],\n",
       "        [0.06545758, 0.03960007, 1.3220339 , ..., 0.00522587, 0.0423772 ,\n",
       "         0.67809504],\n",
       "        [0.05365597, 0.05393173, 1.0256655 , ..., 0.0043963 , 0.05438264,\n",
       "         0.39320013],\n",
       "        ...,\n",
       "        [0.07082126, 0.06001664, 1.5322589 , ..., 0.0039502 , 0.04975557,\n",
       "         0.3518224 ],\n",
       "        [0.07722515, 0.06153154, 1.6538497 , ..., 0.0040594 , 0.0500778 ,\n",
       "         0.35736927],\n",
       "        [0.05026856, 0.05170187, 0.8179522 , ..., 0.00509373, 0.06000787,\n",
       "         0.4447788 ]], dtype=float32)}"
      ]
     },
     "execution_count": 135,
     "metadata": {},
     "output_type": "execute_result"
    }
   ],
   "source": [
    "sigmas"
   ]
  },
  {
   "cell_type": "markdown",
   "metadata": {},
   "source": [
    "# compute KL loss"
   ]
  },
  {
   "cell_type": "code",
   "execution_count": 138,
   "metadata": {},
   "outputs": [],
   "source": [
    "n_train = 7000\n",
    "n_val = 3000\n",
    "\n",
    "with open('prior_mat_20210209.pkl', 'rb') as handle:\n",
    "    prior_mat = pickle.load(handle)\n",
    "alphas_val = prior_mat[n_train:n_train+n_val, 0]\n",
    "lambdas_val = prior_mat[n_train:n_train+n_val, 1]"
   ]
  },
  {
   "cell_type": "code",
   "execution_count": 153,
   "metadata": {},
   "outputs": [],
   "source": [
    "n_test = 1000\n",
    "alphas_test = prior_mat[n_train+n_val : n_train+n_val+n_test, 0]\n",
    "lambdas_test = prior_mat[n_train+n_val : n_train+n_val+n_test, 1]"
   ]
  },
  {
   "cell_type": "code",
   "execution_count": 139,
   "metadata": {},
   "outputs": [],
   "source": [
    "def compute_neg_log_lik(alpha, pis, mus, sigmas):\n",
    "    assert(pis.shape[0] == sigmas.shape[0] == mus.shape[0])\n",
    "    density = 0\n",
    "    for j in range(pis.shape[0]):\n",
    "        density += pis[j] * norm.pdf(x=alpha, loc=mus[j], scale=sigmas[j])\n",
    "    return -np.log(density)"
   ]
  },
  {
   "cell_type": "code",
   "execution_count": 141,
   "metadata": {
    "scrolled": true
   },
   "outputs": [
    {
     "name": "stdout",
     "output_type": "stream",
     "text": [
      "2\n",
      "3\n",
      "4\n",
      "5\n",
      "6\n",
      "7\n",
      "8\n",
      "9\n",
      "10\n"
     ]
    }
   ],
   "source": [
    "NLL_dict = {}\n",
    "for k in range(2,11):\n",
    "    print(k)\n",
    "    all_neg_log_lik = [compute_neg_log_lik(alphas_val[i], pis[k][i], mus[k][i], sigmas[k][i]) for i in range(n_val)]\n",
    "\n",
    "    # this is the KL loss for this model on obs data (up to additive constant)\n",
    "    NLL_dict[k] = 1/n_val * sum(all_neg_log_lik)"
   ]
  },
  {
   "cell_type": "code",
   "execution_count": 142,
   "metadata": {},
   "outputs": [
    {
     "data": {
      "text/plain": [
       "2    -0.729225\n",
       "3    -0.884834\n",
       "4    -0.914971\n",
       "5    -0.906613\n",
       "6    -0.897189\n",
       "7    -0.917310\n",
       "8    -0.905574\n",
       "9    -0.910777\n",
       "10   -0.905177\n",
       "dtype: float64"
      ]
     },
     "execution_count": 142,
     "metadata": {},
     "output_type": "execute_result"
    }
   ],
   "source": [
    "# k=9 mixture components gives the minimum KL divergence loss\n",
    "pd.Series(NLL_dict)"
   ]
  },
  {
   "cell_type": "markdown",
   "metadata": {},
   "source": [
    "# find min-KL distribution"
   ]
  },
  {
   "cell_type": "code",
   "execution_count": 143,
   "metadata": {},
   "outputs": [],
   "source": [
    "best_k = 7  # best number of mixture components according to KL loss"
   ]
  },
  {
   "cell_type": "code",
   "execution_count": 144,
   "metadata": {},
   "outputs": [],
   "source": [
    "def compute_mixture_pdf(alpha, pis, sigmas, mus):\n",
    "    assert(pis.shape[0] == sigmas.shape[0] == mus.shape[0])\n",
    "    density = 0\n",
    "    for j in range(pis.shape[0]):\n",
    "        density += pis[j] * norm.pdf(x=alpha, loc=mus[j], scale=sigmas[j])\n",
    "    return density"
   ]
  },
  {
   "cell_type": "code",
   "execution_count": 271,
   "metadata": {},
   "outputs": [],
   "source": [
    "with open('CMDN_test_k=7_2021-02-10-16-16.pkl', 'rb') as handle:\n",
    "    test_pis, test_mus, test_sigmas = pickle.load(handle)"
   ]
  },
  {
   "cell_type": "code",
   "execution_count": 277,
   "metadata": {
    "scrolled": true
   },
   "outputs": [],
   "source": [
    "test_pis = test_pis.detach().numpy()\n",
    "test_mus = test_mus.detach().numpy()\n",
    "test_sigmas = test_sigmas.detach().numpy()"
   ]
  },
  {
   "cell_type": "code",
   "execution_count": 278,
   "metadata": {},
   "outputs": [],
   "source": [
    "# for each observed (test) data point, calc pdf value (based on out pi, mu, sigma) of theta across a theta grid\n",
    "alpha_grid = np.linspace(-4, 4, 401)\n",
    "# nested list comprehension ftw\n",
    "all_pdf_values_test = np.array([[compute_mixture_pdf(alpha_grid[t],\n",
    "                                 test_pis[i], test_sigmas[i], test_mus[i])\n",
    "                                 for t in range(len(alpha_grid))] for i in range(len(alphas_test))])"
   ]
  },
  {
   "cell_type": "code",
   "execution_count": 279,
   "metadata": {},
   "outputs": [
    {
     "data": {
      "text/plain": [
       "[<matplotlib.lines.Line2D at 0x230d093ec50>]"
      ]
     },
     "execution_count": 279,
     "metadata": {},
     "output_type": "execute_result"
    },
    {
     "data": {
      "image/png": "[encoded data removed]",
      "text/plain": [
       "<Figure size 432x288 with 1 Axes>"
      ]
     },
     "metadata": {
      "needs_background": "light"
     },
     "output_type": "display_data"
    }
   ],
   "source": [
    "plt.plot(all_pdf_values_test[0])"
   ]
  },
  {
   "cell_type": "code",
   "execution_count": 280,
   "metadata": {},
   "outputs": [
    {
     "name": "stdout",
     "output_type": "stream",
     "text": [
      "Integral of the first density integrates to: 1.00\n"
     ]
    }
   ],
   "source": [
    "den_integral = simps(all_pdf_values_test[1, :], x=alpha_grid)\n",
    "print('Integral of the first density integrates to: %.2f' % den_integral)"
   ]
  },
  {
   "cell_type": "markdown",
   "metadata": {},
   "source": [
    "# compute PIT values on test data"
   ]
  },
  {
   "cell_type": "code",
   "execution_count": 281,
   "metadata": {},
   "outputs": [],
   "source": [
    "# obs samples (theta,x) from joint distribution --> theta as obs posterior sample given x\n",
    "pit_values = cdf_coverage(all_pdf_values_test, alpha_grid, alphas_test)"
   ]
  },
  {
   "cell_type": "code",
   "execution_count": 285,
   "metadata": {},
   "outputs": [
    {
     "data": {
      "image/png": "[encoded data removed]",
      "text/plain": [
       "<Figure size 432x288 with 1 Axes>"
      ]
     },
     "metadata": {
      "needs_background": "light"
     },
     "output_type": "display_data"
    }
   ],
   "source": [
    "plt.hist(pit_values, bins=20)\n",
    "plt.show()"
   ]
  },
  {
   "cell_type": "code",
   "execution_count": 286,
   "metadata": {},
   "outputs": [],
   "source": [
    "pit_values_dict = {'k=7': pit_values}"
   ]
  },
  {
   "cell_type": "code",
   "execution_count": 287,
   "metadata": {},
   "outputs": [],
   "source": [
    "#with open('GalSim_pit_values_dict_20210210.pkl', 'wb') as handle:\n",
    "#    pickle.dump(pit_values_dict, handle, protocol=pickle.HIGHEST_PROTOCOL)"
   ]
  },
  {
   "cell_type": "code",
   "execution_count": 170,
   "metadata": {},
   "outputs": [],
   "source": [
    "with open('galaxies_test_20210210.pkl', 'rb') as handle:\n",
    "    galaxies_test = pickle.load(handle)"
   ]
  },
  {
   "cell_type": "code",
   "execution_count": 171,
   "metadata": {},
   "outputs": [],
   "source": [
    "galsim_test = galaxies_test.reshape(1000, 400)"
   ]
  },
  {
   "cell_type": "code",
   "execution_count": 172,
   "metadata": {},
   "outputs": [],
   "source": [
    "#np.save('GalSim_test_20210210.npy', galsim_test)"
   ]
  },
  {
   "cell_type": "markdown",
   "metadata": {},
   "source": [
    "# saved $\\hat r$ from MC samples, to build CIs"
   ]
  },
  {
   "cell_type": "code",
   "execution_count": 43,
   "metadata": {
    "scrolled": true
   },
   "outputs": [
    {
     "name": "stderr",
     "output_type": "stream",
     "text": [
      "C:\\Users\\dzhao\\Anaconda3\\lib\\site-packages\\sklearn\\base.py:306: UserWarning: Trying to unpickle estimator LabelBinarizer from version 0.21.3 when using version 0.21.2. This might lead to breaking code or invalid results. Use at your own risk.\n",
      "  UserWarning)\n",
      "C:\\Users\\dzhao\\Anaconda3\\lib\\site-packages\\sklearn\\base.py:306: UserWarning: Trying to unpickle estimator MLPClassifier from version 0.21.3 when using version 0.21.2. This might lead to breaking code or invalid results. Use at your own risk.\n",
      "  UserWarning)\n"
     ]
    }
   ],
   "source": [
    "with open(\"GalSim_all_rhat_classifiers_2021-.pkl\", 'rb') as handle:\n",
    "    all_rhat_classifiers = pickle.load(handle)"
   ]
  },
  {
   "cell_type": "code",
   "execution_count": 623,
   "metadata": {},
   "outputs": [],
   "source": [
    "def get_confidence_band_range(n_trials=100, name='x1x2', alpha=0.05, points=[[1,2]]):\n",
    "    sample = [1 - all_rhat_classifiers[i][name][alpha].predict_proba(points)[:, 1][0] for i in range(n_trials)]\n",
    "    return [min(sample), max(sample)]"
   ]
  },
  {
   "cell_type": "markdown",
   "metadata": {},
   "source": [
    "# fixed $\\mathbf{x}_i$, QQ plot of $\\hat r_\\alpha(\\mathbf{x}_i)$ vs. $\\alpha$"
   ]
  },
  {
   "cell_type": "code",
   "execution_count": 290,
   "metadata": {
    "scrolled": true
   },
   "outputs": [
    {
     "data": {
      "text/plain": [
       "array([0.7, 0.7, 0.7, 0.7, 0.7, 0.7, 0.7, 0.7, 0.7, 0.7, 0.7, 0.7, 0.7,\n",
       "       0.7, 0.7, 0.7, 0.7, 0.7, 0.7, 0.7, 0.7, 0.1, 0.7, 0.7, 0.7, 0.7,\n",
       "       0.7, 0.7, 0.1, 0.7, 0.7, 0.1, 0.7, 0.7, 0.7, 0.7, 0.7, 0.1, 0.1,\n",
       "       0.7, 0.7, 0.7, 0.7, 0.7, 0.7, 0.7, 0.7, 0.7, 0.7, 0.7, 0.7, 0.7,\n",
       "       0.7, 0.7, 0.7, 0.1, 0.7, 0.7, 0.7, 0.7, 0.1, 0.7, 0.1, 0.7, 0.7,\n",
       "       0.7, 0.1, 0.7, 0.7, 0.7, 0.7, 0.7, 0.7, 0.7, 0.7, 0.7, 0.7, 0.7,\n",
       "       0.7, 0.7, 0.7, 0.7, 0.7, 0.7, 0.7, 0.7, 0.7, 0.7, 0.7, 0.7, 0.7,\n",
       "       0.7, 0.7, 0.7, 0.7, 0.7, 0.7, 0.7, 0.7, 0.7, 0.7, 0.7, 0.1, 0.7,\n",
       "       0.7, 0.7, 0.7, 0.7, 0.7, 0.7, 0.1, 0.7, 0.1, 0.7, 0.7, 0.7, 0.7,\n",
       "       0.7, 0.7, 0.7, 0.7, 0.7, 0.7, 0.7, 0.7, 0.7, 0.1, 0.7, 0.7, 0.7,\n",
       "       0.7, 0.7, 0.7, 0.7, 0.7, 0.7, 0.7, 0.7, 0.7, 0.7, 0.7, 0.7, 0.7,\n",
       "       0.7, 0.7, 0.7, 0.7, 0.7, 0.1, 0.1, 0.7, 0.7, 0.7, 0.7, 0.7, 0.7,\n",
       "       0.7, 0.7, 0.7, 0.7, 0.7, 0.7, 0.1, 0.7, 0.7, 0.7, 0.7, 0.7, 0.7,\n",
       "       0.7, 0.7, 0.7, 0.7, 0.7, 0.7, 0.7, 0.7, 0.7, 0.7, 0.7, 0.7, 0.7,\n",
       "       0.7, 0.7, 0.7, 0.7, 0.7, 0.7, 0.7, 0.7, 0.7, 0.7, 0.7, 0.1, 0.7,\n",
       "       0.7, 0.7, 0.7, 0.7, 0.1, 0.7, 0.7, 0.7, 0.7, 0.7, 0.7, 0.7, 0.7,\n",
       "       0.7, 0.7, 0.7, 0.7, 0.7, 0.1, 0.7, 0.7, 0.7, 0.7, 0.7, 0.7, 0.7,\n",
       "       0.7, 0.7, 0.7, 0.1, 0.7, 0.7, 0.1, 0.7, 0.7, 0.7, 0.7, 0.7, 0.7,\n",
       "       0.7, 0.7, 0.7, 0.7, 0.7, 0.7, 0.7, 0.7, 0.7, 0.1, 0.1, 0.7, 0.7,\n",
       "       0.7, 0.7, 0.7, 0.7, 0.1, 0.7, 0.7, 0.7, 0.7, 0.7, 0.7, 0.7, 0.1,\n",
       "       0.7, 0.7, 0.7, 0.7, 0.7, 0.7, 0.7, 0.1, 0.7, 0.7, 0.7, 0.7, 0.7,\n",
       "       0.7, 0.7, 0.1, 0.7, 0.7, 0.7, 0.7, 0.7, 0.7, 0.7, 0.7, 0.7, 0.7,\n",
       "       0.7, 0.7, 0.7, 0.7, 0.7, 0.7, 0.7, 0.7, 0.7, 0.1, 0.7, 0.7, 0.7,\n",
       "       0.7, 0.7, 0.7, 0.7, 0.7, 0.7, 0.7, 0.7, 0.7, 0.7, 0.7, 0.1, 0.7,\n",
       "       0.1, 0.7, 0.1, 0.1, 0.7, 0.7, 0.7, 0.1, 0.7, 0.7, 0.7, 0.7, 0.7,\n",
       "       0.7, 0.7, 0.7, 0.1, 0.7, 0.7, 0.7, 0.7, 0.7, 0.7, 0.7, 0.7, 0.7,\n",
       "       0.7, 0.7, 0.7, 0.7, 0.7, 0.7, 0.7, 0.7, 0.1, 0.7, 0.1, 0.7, 0.7,\n",
       "       0.7, 0.1, 0.7, 0.7, 0.7, 0.7, 0.7, 0.7, 0.7, 0.7, 0.7, 0.7, 0.7,\n",
       "       0.7, 0.7, 0.7, 0.7, 0.7, 0.7, 0.7, 0.7, 0.7, 0.7, 0.7, 0.7, 0.7,\n",
       "       0.7, 0.7, 0.1, 0.7, 0.1, 0.7, 0.1, 0.7, 0.7, 0.1, 0.7, 0.7, 0.7,\n",
       "       0.7, 0.7, 0.7, 0.7, 0.7, 0.7, 0.7, 0.7, 0.7, 0.7, 0.7, 0.7, 0.7,\n",
       "       0.7, 0.7, 0.1, 0.7, 0.7, 0.1, 0.1, 0.1, 0.7, 0.7, 0.7, 0.7, 0.7,\n",
       "       0.7, 0.7, 0.7, 0.7, 0.7, 0.7, 0.7, 0.7, 0.7, 0.7, 0.7, 0.7, 0.7,\n",
       "       0.7, 0.7, 0.7, 0.7, 0.7, 0.7, 0.7, 0.7, 0.7, 0.7, 0.7, 0.7, 0.7,\n",
       "       0.7, 0.7, 0.7, 0.7, 0.7, 0.7, 0.1, 0.7, 0.7, 0.7, 0.7, 0.7, 0.7,\n",
       "       0.7, 0.7, 0.7, 0.7, 0.7, 0.7, 0.7, 0.7, 0.7, 0.7, 0.7, 0.7, 0.7,\n",
       "       0.7, 0.7, 0.7, 0.7, 0.7, 0.7, 0.7, 0.7, 0.7, 0.7, 0.7, 0.7, 0.7,\n",
       "       0.7, 0.7, 0.7, 0.7, 0.7, 0.7, 0.7, 0.1, 0.7, 0.7, 0.7, 0.7, 0.7,\n",
       "       0.1, 0.7, 0.7, 0.7, 0.7, 0.1, 0.7, 0.7, 0.7, 0.7, 0.7, 0.7, 0.7,\n",
       "       0.7, 0.7, 0.7, 0.7, 0.7, 0.7, 0.7, 0.7, 0.1, 0.7, 0.7, 0.7, 0.7,\n",
       "       0.7, 0.1, 0.7, 0.1, 0.7, 0.7, 0.7, 0.7, 0.7, 0.7, 0.7, 0.7, 0.7,\n",
       "       0.7, 0.7, 0.7, 0.7, 0.1, 0.7, 0.7, 0.7, 0.1, 0.7, 0.7, 0.7, 0.7,\n",
       "       0.7, 0.7, 0.7, 0.7, 0.7, 0.7, 0.7, 0.7, 0.7, 0.7, 0.7, 0.7, 0.7,\n",
       "       0.7, 0.7, 0.7, 0.7, 0.7, 0.7, 0.7, 0.7, 0.7, 0.7, 0.7, 0.7, 0.7,\n",
       "       0.7, 0.7, 0.1, 0.7, 0.7, 0.7, 0.7, 0.1, 0.1, 0.7, 0.7, 0.7, 0.7,\n",
       "       0.7, 0.7, 0.7, 0.7, 0.7, 0.7, 0.7, 0.7, 0.7, 0.1, 0.7, 0.7, 0.7,\n",
       "       0.7, 0.7, 0.7, 0.7, 0.7, 0.7, 0.7, 0.7, 0.7, 0.7, 0.7, 0.7, 0.7,\n",
       "       0.7, 0.7, 0.7, 0.7, 0.7, 0.7, 0.7, 0.7, 0.7, 0.7, 0.1, 0.7, 0.7,\n",
       "       0.7, 0.7, 0.7, 0.7, 0.1, 0.7, 0.1, 0.7, 0.7, 0.7, 0.7, 0.7, 0.1,\n",
       "       0.7, 0.7, 0.7, 0.7, 0.7, 0.7, 0.7, 0.7, 0.7, 0.7, 0.7, 0.7, 0.7,\n",
       "       0.7, 0.7, 0.7, 0.7, 0.7, 0.7, 0.1, 0.7, 0.7, 0.1, 0.7, 0.1, 0.7,\n",
       "       0.7, 0.7, 0.7, 0.7, 0.7, 0.7, 0.7, 0.7, 0.7, 0.7, 0.7, 0.7, 0.7,\n",
       "       0.7, 0.7, 0.7, 0.7, 0.7, 0.7, 0.7, 0.1, 0.7, 0.7, 0.7, 0.7, 0.1,\n",
       "       0.7, 0.1, 0.7, 0.7, 0.7, 0.7, 0.7, 0.7, 0.7, 0.7, 0.7, 0.7, 0.7,\n",
       "       0.7, 0.7, 0.7, 0.7, 0.7, 0.7, 0.7, 0.7, 0.7, 0.7, 0.7, 0.7, 0.7,\n",
       "       0.7, 0.7, 0.1, 0.7, 0.7, 0.7, 0.7, 0.7, 0.7, 0.7, 0.7, 0.7, 0.1,\n",
       "       0.7, 0.7, 0.7, 0.7, 0.7, 0.7, 0.7, 0.7, 0.7, 0.7, 0.7, 0.1, 0.7,\n",
       "       0.7, 0.7, 0.7, 0.7, 0.7, 0.1, 0.1, 0.7, 0.7, 0.7, 0.7, 0.7, 0.7,\n",
       "       0.7, 0.7, 0.7, 0.7, 0.7, 0.7, 0.7, 0.7, 0.7, 0.1, 0.7, 0.7, 0.7,\n",
       "       0.7, 0.7, 0.7, 0.7, 0.7, 0.7, 0.7, 0.7, 0.7, 0.7, 0.7, 0.7, 0.7,\n",
       "       0.7, 0.7, 0.7, 0.7, 0.7, 0.7, 0.7, 0.7, 0.7, 0.7, 0.7, 0.7, 0.7,\n",
       "       0.7, 0.7, 0.7, 0.7, 0.7, 0.7, 0.7, 0.7, 0.1, 0.7, 0.7, 0.7, 0.7,\n",
       "       0.7, 0.1, 0.7, 0.7, 0.7, 0.1, 0.1, 0.7, 0.7, 0.7, 0.7, 0.7, 0.1,\n",
       "       0.7, 0.7, 0.1, 0.7, 0.7, 0.7, 0.7, 0.7, 0.7, 0.7, 0.7, 0.7, 0.7,\n",
       "       0.1, 0.7, 0.1, 0.7, 0.7, 0.7, 0.7, 0.7, 0.7, 0.7, 0.7, 0.7, 0.7,\n",
       "       0.7, 0.7, 0.7, 0.7, 0.7, 0.7, 0.7, 0.7, 0.7, 0.7, 0.7, 0.7, 0.7,\n",
       "       0.7, 0.7, 0.7, 0.7, 0.7, 0.7, 0.7, 0.1, 0.1, 0.7, 0.7, 0.7, 0.7,\n",
       "       0.7, 0.7, 0.1, 0.7, 0.7, 0.7, 0.7, 0.7, 0.7, 0.1, 0.7, 0.7, 0.7,\n",
       "       0.7, 0.7, 0.7, 0.7, 0.7, 0.7, 0.1, 0.7, 0.7, 0.7, 0.7, 0.7, 0.7,\n",
       "       0.7, 0.7, 0.7, 0.7, 0.7, 0.7, 0.7, 0.7, 0.7, 0.7, 0.7, 0.7, 0.7,\n",
       "       0.7, 0.7, 0.7, 0.7, 0.7, 0.7, 0.7, 0.1, 0.1, 0.7, 0.7, 0.7, 0.7,\n",
       "       0.7, 0.7, 0.1, 0.7, 0.7, 0.7, 0.7, 0.7, 0.7, 0.7, 0.7, 0.7, 0.7,\n",
       "       0.7, 0.1, 0.7, 0.7, 0.7, 0.7, 0.7, 0.7, 0.7, 0.7, 0.7, 0.7, 0.7,\n",
       "       0.1, 0.7, 0.7, 0.7, 0.7, 0.7, 0.7, 0.7, 0.1, 0.7, 0.7, 0.7, 0.1,\n",
       "       0.7, 0.1, 0.1, 0.7, 0.7, 0.7, 0.7, 0.7, 0.7, 0.7, 0.7, 0.7, 0.7,\n",
       "       0.7, 0.7, 0.7, 0.7, 0.7, 0.7, 0.7, 0.7, 0.7, 0.7, 0.7, 0.7, 0.7,\n",
       "       0.7, 0.7, 0.7, 0.7, 0.1, 0.1, 0.1, 0.7, 0.1, 0.7, 0.7, 0.7])"
      ]
     },
     "execution_count": 290,
     "metadata": {},
     "output_type": "execute_result"
    }
   ],
   "source": [
    "lambdas_test"
   ]
  },
  {
   "cell_type": "code",
   "execution_count": 36,
   "metadata": {},
   "outputs": [],
   "source": [
    "points = np.array([galsim_test[0], galsim_test[-4]])"
   ]
  },
  {
   "cell_type": "code",
   "execution_count": 25,
   "metadata": {},
   "outputs": [],
   "source": [
    "alphas = np.linspace(0.01, 0.99, 99)"
   ]
  },
  {
   "cell_type": "code",
   "execution_count": 292,
   "metadata": {
    "scrolled": true
   },
   "outputs": [
    {
     "name": "stdout",
     "output_type": "stream",
     "text": [
      "working on classifier k=7\n",
      "0.01\n",
      "0.02\n",
      "0.03\n",
      "0.04\n",
      "0.05\n",
      "0.060000000000000005\n",
      "0.06999999999999999\n",
      "0.08\n",
      "0.09\n",
      "0.09999999999999999\n",
      "0.11\n",
      "0.12\n",
      "0.13\n",
      "0.14\n",
      "0.15000000000000002\n",
      "0.16\n",
      "0.17\n",
      "0.18000000000000002\n",
      "0.19\n",
      "0.2\n",
      "0.21000000000000002\n",
      "0.22\n",
      "0.23\n",
      "0.24000000000000002\n",
      "0.25\n",
      "0.26\n",
      "0.27\n",
      "0.28\n",
      "0.29000000000000004\n",
      "0.3\n",
      "0.31\n",
      "0.32\n",
      "0.33\n",
      "0.34\n",
      "0.35000000000000003\n",
      "0.36000000000000004\n",
      "0.37\n",
      "0.38\n",
      "0.39\n",
      "0.4\n",
      "0.41000000000000003\n",
      "0.42000000000000004\n",
      "0.43\n",
      "0.44\n",
      "0.45\n",
      "0.46\n",
      "0.47000000000000003\n",
      "0.48000000000000004\n",
      "0.49\n",
      "0.5\n",
      "0.51\n",
      "0.52\n",
      "0.53\n",
      "0.54\n",
      "0.55\n",
      "0.56\n",
      "0.5700000000000001\n",
      "0.5800000000000001\n",
      "0.59\n",
      "0.6\n",
      "0.61\n",
      "0.62\n",
      "0.63\n",
      "0.64\n",
      "0.65\n",
      "0.66\n",
      "0.67\n",
      "0.68\n",
      "0.6900000000000001\n",
      "0.7000000000000001\n",
      "0.7100000000000001\n",
      "0.72\n",
      "0.73\n",
      "0.74\n",
      "0.75\n",
      "0.76\n",
      "0.77\n",
      "0.78\n",
      "0.79\n",
      "0.8\n",
      "0.81\n",
      "0.8200000000000001\n",
      "0.8300000000000001\n",
      "0.8400000000000001\n",
      "0.85\n",
      "0.86\n",
      "0.87\n",
      "0.88\n",
      "0.89\n",
      "0.9\n",
      "0.91\n",
      "0.92\n",
      "0.93\n",
      "0.9400000000000001\n",
      "0.9500000000000001\n",
      "0.9600000000000001\n",
      "0.97\n",
      "0.98\n",
      "0.99\n"
     ]
    }
   ],
   "source": [
    "rhat_alphas_xi = {}\n",
    "for name, pit in pit_values_dict.items():\n",
    "    print(\"working on classifier %s\" % name)\n",
    "    rhat_alphas_xi[name] = {}\n",
    "    for alpha in alphas:\n",
    "        print(alpha)\n",
    "        ind_values = [1*(x<=alpha) for x in pit]\n",
    "        rhat = MLPClassifier(alpha=0, max_iter=25000)\n",
    "        rhat.fit(X=galsim_test, y=ind_values)\n",
    "        rhat_alphas_xi[name][alpha] = rhat.predict_proba(points)[:, 1]"
   ]
  },
  {
   "cell_type": "code",
   "execution_count": 616,
   "metadata": {
    "scrolled": true
   },
   "outputs": [],
   "source": [
    "confidence_qqplot = {}\n",
    "confidence_qqplot['k=7'] = np.array([get_confidence_band_range(name='k=7', alpha=i, points=points) for i in alphas])"
   ]
  },
  {
   "cell_type": "code",
   "execution_count": 298,
   "metadata": {},
   "outputs": [
    {
     "data": {
      "image/png": "[encoded data removed]",
      "text/plain": [
       "<Figure size 432x360 with 1 Axes>"
      ]
     },
     "metadata": {
      "needs_background": "light"
     },
     "output_type": "display_data"
    }
   ],
   "source": [
    "use_series = pd.DataFrame(rhat_alphas_xi['k=7']).T[0]\n",
    "\n",
    "use_series.plot(style='.', figsize=(6,5), markersize=7)\n",
    "\n",
    "lims = [\n",
    "    np.min([0,0]),  # min of both axes\n",
    "    np.max([1,1]),  # max of both axes\n",
    "]\n",
    "plt.plot(lims, lims, 'r--', alpha=0.75, zorder=0)\n",
    "\n",
    "\"\"\"\n",
    "# confidence bands\n",
    "plt.fill_between(rhat_alphas_xi['k=9'].index,\n",
    "                 confidence_qqplot['k=9'][:, 0],\n",
    "                 confidence_qqplot['k=9'][:, 1],\n",
    "                 alpha=0.15\n",
    "                )\n",
    "\"\"\"\n",
    "\n",
    "plt.title(\"local coverage for $\\lambda=0.7$ image\", fontsize=20)\n",
    "plt.xlabel(\"$1-$\" + r'$\\alpha$', fontsize=20)\n",
    "plt.ylabel(\"$\\hat r($\" + r'$\\alpha$' + \"$)$\", fontsize=20)\n",
    "plt.tick_params(axis='both', which='major', labelsize=16)"
   ]
  },
  {
   "cell_type": "code",
   "execution_count": 297,
   "metadata": {},
   "outputs": [
    {
     "data": {
      "image/png": "[encoded data removed]",
      "text/plain": [
       "<Figure size 432x360 with 1 Axes>"
      ]
     },
     "metadata": {
      "needs_background": "light"
     },
     "output_type": "display_data"
    }
   ],
   "source": [
    "use_series = pd.DataFrame(rhat_alphas_xi['k=7']).T[1]\n",
    "\n",
    "use_series.plot(style='.', figsize=(6,5), markersize=7)\n",
    "\n",
    "lims = [\n",
    "    np.min([0,0]),  # min of both axes\n",
    "    np.max([1,1]),  # max of both axes\n",
    "]\n",
    "plt.plot(lims, lims, 'r--', alpha=0.75, zorder=0)\n",
    "\n",
    "\"\"\"\n",
    "# confidence bands\n",
    "plt.fill_between(rhat_alphas_xi['k=9'].index,\n",
    "                 confidence_qqplot['k=9'][:, 0],\n",
    "                 confidence_qqplot['k=9'][:, 1],\n",
    "                 alpha=0.15\n",
    "                )\n",
    "\"\"\"\n",
    "\n",
    "plt.title(\"local coverage for $\\lambda=0.1$ image\", fontsize=20)\n",
    "plt.xlabel(\"$1-$\" + r'$\\alpha$', fontsize=20)\n",
    "plt.ylabel(\"$\\hat r($\" + r'$\\alpha$' + \"$)$\", fontsize=20)\n",
    "plt.tick_params(axis='both', which='major', labelsize=16)"
   ]
  },
  {
   "cell_type": "code",
   "execution_count": 76,
   "metadata": {},
   "outputs": [],
   "source": [
    "#with open('rhat_alphas_xi_20210127.pkl', 'wb') as handle:\n",
    "#    pickle.dump(rhat_alphas_xi, handle, protocol=pickle.HIGHEST_PROTOCOL)"
   ]
  },
  {
   "cell_type": "markdown",
   "metadata": {},
   "source": [
    "# $T_i = \\frac{1}{|G|} \\sum_{\\alpha \\in G} (\\hat r_\\alpha(\\mathbf{x}_i) - \\alpha)^2$"
   ]
  },
  {
   "cell_type": "code",
   "execution_count": 59,
   "metadata": {},
   "outputs": [],
   "source": [
    "with open('GalSim_Ti_values_2021-.pkl', 'rb') as handle:\n",
    "    Ti_values = pickle.load(handle)\n",
    "with open('GalSim_all_rhat_alphas_2021-.pkl', 'rb') as handle:\n",
    "    all_rhat_alphas = pickle.load(handle)"
   ]
  },
  {
   "cell_type": "markdown",
   "metadata": {},
   "source": [
    "# global p-value based on $T_i$"
   ]
  },
  {
   "cell_type": "code",
   "execution_count": 44,
   "metadata": {},
   "outputs": [],
   "source": [
    "with open(\"GalSim_all_unif_Ti_values_2021-.pkl\", 'rb') as handle:\n",
    "    all_unif_Ti_values = pickle.load(handle)"
   ]
  },
  {
   "cell_type": "code",
   "execution_count": 46,
   "metadata": {},
   "outputs": [
    {
     "data": {
      "text/plain": [
       "k=9    0.021\n",
       "dtype: float64"
      ]
     },
     "execution_count": 46,
     "metadata": {},
     "output_type": "execute_result"
    }
   ],
   "source": [
    "global_pvalues = sum([1* (pd.DataFrame(Ti_values).mean() < pd.DataFrame(all_unif_Ti_values[i]).mean())\n",
    "                   for i in range(len(all_unif_Ti_values))]) / len(all_unif_Ti_values)\n",
    "global_pvalues"
   ]
  },
  {
   "cell_type": "markdown",
   "metadata": {},
   "source": [
    "# local p-values based on $T_i$: local CvM test"
   ]
  },
  {
   "cell_type": "code",
   "execution_count": 47,
   "metadata": {
    "scrolled": true
   },
   "outputs": [
    {
     "data": {
      "text/plain": [
       "{0.1: MLPClassifier(activation='relu', alpha=0, batch_size='auto', beta_1=0.9,\n",
       "               beta_2=0.999, early_stopping=False, epsilon=1e-08,\n",
       "               hidden_layer_sizes=(100,), learning_rate='constant',\n",
       "               learning_rate_init=0.001, max_iter=25000, momentum=0.9,\n",
       "               n_iter_no_change=10, nesterovs_momentum=True, power_t=0.5,\n",
       "               random_state=None, shuffle=True, solver='adam', tol=0.0001,\n",
       "               validation_fraction=0.1, verbose=False, warm_start=False),\n",
       " 0.2: MLPClassifier(activation='relu', alpha=0, batch_size='auto', beta_1=0.9,\n",
       "               beta_2=0.999, early_stopping=False, epsilon=1e-08,\n",
       "               hidden_layer_sizes=(100,), learning_rate='constant',\n",
       "               learning_rate_init=0.001, max_iter=25000, momentum=0.9,\n",
       "               n_iter_no_change=10, nesterovs_momentum=True, power_t=0.5,\n",
       "               random_state=None, shuffle=True, solver='adam', tol=0.0001,\n",
       "               validation_fraction=0.1, verbose=False, warm_start=False),\n",
       " 0.30000000000000004: MLPClassifier(activation='relu', alpha=0, batch_size='auto', beta_1=0.9,\n",
       "               beta_2=0.999, early_stopping=False, epsilon=1e-08,\n",
       "               hidden_layer_sizes=(100,), learning_rate='constant',\n",
       "               learning_rate_init=0.001, max_iter=25000, momentum=0.9,\n",
       "               n_iter_no_change=10, nesterovs_momentum=True, power_t=0.5,\n",
       "               random_state=None, shuffle=True, solver='adam', tol=0.0001,\n",
       "               validation_fraction=0.1, verbose=False, warm_start=False),\n",
       " 0.4: MLPClassifier(activation='relu', alpha=0, batch_size='auto', beta_1=0.9,\n",
       "               beta_2=0.999, early_stopping=False, epsilon=1e-08,\n",
       "               hidden_layer_sizes=(100,), learning_rate='constant',\n",
       "               learning_rate_init=0.001, max_iter=25000, momentum=0.9,\n",
       "               n_iter_no_change=10, nesterovs_momentum=True, power_t=0.5,\n",
       "               random_state=None, shuffle=True, solver='adam', tol=0.0001,\n",
       "               validation_fraction=0.1, verbose=False, warm_start=False),\n",
       " 0.5: MLPClassifier(activation='relu', alpha=0, batch_size='auto', beta_1=0.9,\n",
       "               beta_2=0.999, early_stopping=False, epsilon=1e-08,\n",
       "               hidden_layer_sizes=(100,), learning_rate='constant',\n",
       "               learning_rate_init=0.001, max_iter=25000, momentum=0.9,\n",
       "               n_iter_no_change=10, nesterovs_momentum=True, power_t=0.5,\n",
       "               random_state=None, shuffle=True, solver='adam', tol=0.0001,\n",
       "               validation_fraction=0.1, verbose=False, warm_start=False),\n",
       " 0.6: MLPClassifier(activation='relu', alpha=0, batch_size='auto', beta_1=0.9,\n",
       "               beta_2=0.999, early_stopping=False, epsilon=1e-08,\n",
       "               hidden_layer_sizes=(100,), learning_rate='constant',\n",
       "               learning_rate_init=0.001, max_iter=25000, momentum=0.9,\n",
       "               n_iter_no_change=10, nesterovs_momentum=True, power_t=0.5,\n",
       "               random_state=None, shuffle=True, solver='adam', tol=0.0001,\n",
       "               validation_fraction=0.1, verbose=False, warm_start=False),\n",
       " 0.7000000000000001: MLPClassifier(activation='relu', alpha=0, batch_size='auto', beta_1=0.9,\n",
       "               beta_2=0.999, early_stopping=False, epsilon=1e-08,\n",
       "               hidden_layer_sizes=(100,), learning_rate='constant',\n",
       "               learning_rate_init=0.001, max_iter=25000, momentum=0.9,\n",
       "               n_iter_no_change=10, nesterovs_momentum=True, power_t=0.5,\n",
       "               random_state=None, shuffle=True, solver='adam', tol=0.0001,\n",
       "               validation_fraction=0.1, verbose=False, warm_start=False),\n",
       " 0.8: MLPClassifier(activation='relu', alpha=0, batch_size='auto', beta_1=0.9,\n",
       "               beta_2=0.999, early_stopping=False, epsilon=1e-08,\n",
       "               hidden_layer_sizes=(100,), learning_rate='constant',\n",
       "               learning_rate_init=0.001, max_iter=25000, momentum=0.9,\n",
       "               n_iter_no_change=10, nesterovs_momentum=True, power_t=0.5,\n",
       "               random_state=None, shuffle=True, solver='adam', tol=0.0001,\n",
       "               validation_fraction=0.1, verbose=False, warm_start=False),\n",
       " 0.9: MLPClassifier(activation='relu', alpha=0, batch_size='auto', beta_1=0.9,\n",
       "               beta_2=0.999, early_stopping=False, epsilon=1e-08,\n",
       "               hidden_layer_sizes=(100,), learning_rate='constant',\n",
       "               learning_rate_init=0.001, max_iter=25000, momentum=0.9,\n",
       "               n_iter_no_change=10, nesterovs_momentum=True, power_t=0.5,\n",
       "               random_state=None, shuffle=True, solver='adam', tol=0.0001,\n",
       "               validation_fraction=0.1, verbose=False, warm_start=False)}"
      ]
     },
     "execution_count": 47,
     "metadata": {},
     "output_type": "execute_result"
    }
   ],
   "source": [
    "all_rhat_classifiers[0]['k=7']"
   ]
  },
  {
   "cell_type": "code",
   "execution_count": 48,
   "metadata": {
    "scrolled": true
   },
   "outputs": [
    {
     "data": {
      "text/plain": [
       "array([[0.5191299, 0.4808701]])"
      ]
     },
     "execution_count": 48,
     "metadata": {},
     "output_type": "execute_result"
    }
   ],
   "source": [
    "all_rhat_classifiers[0]['k=7'][0.5].predict_proba([galsim_test[0]])"
   ]
  },
  {
   "cell_type": "code",
   "execution_count": 49,
   "metadata": {},
   "outputs": [
    {
     "data": {
      "text/plain": [
       "array([[0.45222516, 0.54777484]])"
      ]
     },
     "execution_count": 49,
     "metadata": {},
     "output_type": "execute_result"
    }
   ],
   "source": [
    "all_rhat_classifiers[0]['k=7'][0.5].predict_proba([galsim_test[-2]])"
   ]
  },
  {
   "cell_type": "code",
   "execution_count": 50,
   "metadata": {
    "scrolled": false
   },
   "outputs": [
    {
     "data": {
      "text/html": [
       "<div>\n",
       "<style scoped>\n",
       "    .dataframe tbody tr th:only-of-type {\n",
       "        vertical-align: middle;\n",
       "    }\n",
       "\n",
       "    .dataframe tbody tr th {\n",
       "        vertical-align: top;\n",
       "    }\n",
       "\n",
       "    .dataframe thead th {\n",
       "        text-align: right;\n",
       "    }\n",
       "</style>\n",
       "<table border=\"1\" class=\"dataframe\">\n",
       "  <thead>\n",
       "    <tr style=\"text-align: right;\">\n",
       "      <th></th>\n",
       "      <th>k=9</th>\n",
       "    </tr>\n",
       "  </thead>\n",
       "  <tbody>\n",
       "    <tr>\n",
       "      <th>0</th>\n",
       "      <td>0.202</td>\n",
       "    </tr>\n",
       "    <tr>\n",
       "      <th>1</th>\n",
       "      <td>0.003</td>\n",
       "    </tr>\n",
       "    <tr>\n",
       "      <th>2</th>\n",
       "      <td>0.124</td>\n",
       "    </tr>\n",
       "    <tr>\n",
       "      <th>3</th>\n",
       "      <td>0.289</td>\n",
       "    </tr>\n",
       "    <tr>\n",
       "      <th>4</th>\n",
       "      <td>0.225</td>\n",
       "    </tr>\n",
       "    <tr>\n",
       "      <th>...</th>\n",
       "      <td>...</td>\n",
       "    </tr>\n",
       "    <tr>\n",
       "      <th>3995</th>\n",
       "      <td>0.599</td>\n",
       "    </tr>\n",
       "    <tr>\n",
       "      <th>3996</th>\n",
       "      <td>0.580</td>\n",
       "    </tr>\n",
       "    <tr>\n",
       "      <th>3997</th>\n",
       "      <td>0.008</td>\n",
       "    </tr>\n",
       "    <tr>\n",
       "      <th>3998</th>\n",
       "      <td>0.169</td>\n",
       "    </tr>\n",
       "    <tr>\n",
       "      <th>3999</th>\n",
       "      <td>0.653</td>\n",
       "    </tr>\n",
       "  </tbody>\n",
       "</table>\n",
       "<p>4000 rows × 1 columns</p>\n",
       "</div>"
      ],
      "text/plain": [
       "        k=9\n",
       "0     0.202\n",
       "1     0.003\n",
       "2     0.124\n",
       "3     0.289\n",
       "4     0.225\n",
       "...     ...\n",
       "3995  0.599\n",
       "3996  0.580\n",
       "3997  0.008\n",
       "3998  0.169\n",
       "3999  0.653\n",
       "\n",
       "[4000 rows x 1 columns]"
      ]
     },
     "execution_count": 50,
     "metadata": {},
     "output_type": "execute_result"
    }
   ],
   "source": [
    "all_pvalues = sum([1* (pd.DataFrame(Ti_values) < pd.DataFrame(all_unif_Ti_values[i]))\n",
    "                   for i in range(len(all_unif_Ti_values))]) / len(all_unif_Ti_values)\n",
    "all_pvalues"
   ]
  },
  {
   "cell_type": "code",
   "execution_count": 64,
   "metadata": {},
   "outputs": [
    {
     "data": {
      "image/png": "[encoded data removed]",
      "text/plain": [
       "<Figure size 432x288 with 1 Axes>"
      ]
     },
     "metadata": {
      "needs_background": "light"
     },
     "output_type": "display_data"
    }
   ],
   "source": [
    "all_pvalues[lambdas_test == 0.7].hist(bins=20)\n",
    "plt.title('$\\lambda=0.7$ population, goodness-of-fit p-values')\n",
    "plt.show()"
   ]
  },
  {
   "cell_type": "code",
   "execution_count": 65,
   "metadata": {},
   "outputs": [
    {
     "data": {
      "image/png": "[encoded data removed]",
      "text/plain": [
       "<Figure size 432x288 with 1 Axes>"
      ]
     },
     "metadata": {
      "needs_background": "light"
     },
     "output_type": "display_data"
    }
   ],
   "source": [
    "all_pvalues[lambdas_test == 0.1].hist(bins=20)\n",
    "plt.title('$\\lambda=0.1$ population, goodness-of-fit p-values')\n",
    "plt.show()"
   ]
  },
  {
   "cell_type": "markdown",
   "metadata": {},
   "source": [
    "# tSNE"
   ]
  },
  {
   "cell_type": "code",
   "execution_count": 263,
   "metadata": {},
   "outputs": [],
   "source": [
    "tSNE_galsim_test = TSNE(n_components=2, perplexity=10).fit_transform(galsim_test)"
   ]
  },
  {
   "cell_type": "code",
   "execution_count": 328,
   "metadata": {},
   "outputs": [],
   "source": [
    "#np.save('tSNE_GalSim_test_20210210.npy', tSNE_galsim_test)"
   ]
  },
  {
   "cell_type": "code",
   "execution_count": 389,
   "metadata": {},
   "outputs": [
    {
     "data": {
      "image/png": "[encoded data removed]",
      "text/plain": [
       "<Figure size 504x432 with 1 Axes>"
      ]
     },
     "metadata": {
      "needs_background": "light"
     },
     "output_type": "display_data"
    }
   ],
   "source": [
    "fig, ax = plt.subplots(nrows=1, ncols=1, figsize=(7,6))\n",
    "plt.scatter(tSNE_galsim_test[lambdas_test == 0.7][:, 0], tSNE_galsim_test[lambdas_test == 0.7][:, 1], marker='X', s=10, color='blue', label='$\\lambda=0.7$')\n",
    "plt.scatter(tSNE_galsim_test[lambdas_test == 0.1][:, 0], tSNE_galsim_test[lambdas_test == 0.1][:, 1], marker='X', s=10, color='red', label='$\\lambda=0.1$')\n",
    "\n",
    "ax.scatter(tSNE_galsim_test[0][0], tSNE_galsim_test[0][1], marker='*', s=150, color='white')\n",
    "ax.scatter(tSNE_galsim_test[1][0], tSNE_galsim_test[1][1], marker='*', s=150, color='white')\n",
    "ax.scatter(tSNE_galsim_test[3][0], tSNE_galsim_test[3][1], marker='*', s=150, color='white')\n",
    "ax.scatter(tSNE_galsim_test[4][0], tSNE_galsim_test[4][1], marker='*', s=150, color='white')\n",
    "ax.scatter(tSNE_galsim_test[6][0], tSNE_galsim_test[6][1], marker='*', s=150, color='white')\n",
    "ax.scatter(tSNE_galsim_test[12][0], tSNE_galsim_test[12][1], marker='*', s=150, color='white')\n",
    "\n",
    "ax.scatter(tSNE_galsim_test[-4][0], tSNE_galsim_test[-4][1], marker='*', s=150, color='white')\n",
    "ax.scatter(tSNE_galsim_test[-6][0], tSNE_galsim_test[-6][1], marker='*', s=150, color='white')\n",
    "\n",
    "#plt.title(\"tSNE of GalSim, perplexity=10\", fontsize=18)\n",
    "ax.set_facecolor('black')\n",
    "lgnd = plt.legend(fontsize=16, loc=(0.7,0.01))\n",
    "lgnd.legendHandles[0]._sizes = [60]\n",
    "lgnd.legendHandles[1]._sizes = [60]\n",
    "plt.tick_params(axis='both', which='major', labelsize=0)\n",
    "plt.show()"
   ]
  },
  {
   "cell_type": "markdown",
   "metadata": {},
   "source": [
    "# UMAP"
   ]
  },
  {
   "cell_type": "code",
   "execution_count": 245,
   "metadata": {},
   "outputs": [],
   "source": [
    "UMAP_galsim_test = umap.UMAP().fit_transform(galsim_test)"
   ]
  },
  {
   "cell_type": "code",
   "execution_count": 300,
   "metadata": {},
   "outputs": [
    {
     "data": {
      "image/png": "[encoded data removed]",
      "text/plain": [
       "<Figure size 504x432 with 1 Axes>"
      ]
     },
     "metadata": {
      "needs_background": "light"
     },
     "output_type": "display_data"
    }
   ],
   "source": [
    "fig, ax = plt.subplots(nrows=1, ncols=1, figsize=(7,6))\n",
    "plt.scatter(UMAP_galsim_test[lambdas_test == 0.7][:, 0], UMAP_galsim_test[lambdas_test == 0.7][:, 1], s=3, label='$\\lambda=0.7$')\n",
    "plt.scatter(UMAP_galsim_test[lambdas_test == 0.1][:, 0], UMAP_galsim_test[lambdas_test == 0.1][:, 1], s=3, label='$\\lambda=0.1$')\n",
    "ax.set_facecolor('black')\n",
    "plt.title(\"UMAP of GalSim\", fontsize=20)\n",
    "plt.legend(fontsize=16)\n",
    "plt.tick_params(axis='both', which='major', labelsize=12)"
   ]
  },
  {
   "cell_type": "markdown",
   "metadata": {},
   "source": [
    "# GalSim image examples"
   ]
  },
  {
   "cell_type": "code",
   "execution_count": 308,
   "metadata": {
    "scrolled": true
   },
   "outputs": [
    {
     "data": {
      "text/html": [
       "<div>\n",
       "<style scoped>\n",
       "    .dataframe tbody tr th:only-of-type {\n",
       "        vertical-align: middle;\n",
       "    }\n",
       "\n",
       "    .dataframe tbody tr th {\n",
       "        vertical-align: top;\n",
       "    }\n",
       "\n",
       "    .dataframe thead th {\n",
       "        text-align: right;\n",
       "    }\n",
       "</style>\n",
       "<table border=\"1\" class=\"dataframe\">\n",
       "  <thead>\n",
       "    <tr style=\"text-align: right;\">\n",
       "      <th></th>\n",
       "      <th>0</th>\n",
       "      <th>1</th>\n",
       "    </tr>\n",
       "  </thead>\n",
       "  <tbody>\n",
       "    <tr>\n",
       "      <th>count</th>\n",
       "      <td>1000.000000</td>\n",
       "      <td>1000.000000</td>\n",
       "    </tr>\n",
       "    <tr>\n",
       "      <th>mean</th>\n",
       "      <td>1.687317</td>\n",
       "      <td>-0.061766</td>\n",
       "    </tr>\n",
       "    <tr>\n",
       "      <th>std</th>\n",
       "      <td>38.335075</td>\n",
       "      <td>34.838779</td>\n",
       "    </tr>\n",
       "    <tr>\n",
       "      <th>min</th>\n",
       "      <td>-70.052795</td>\n",
       "      <td>-67.399597</td>\n",
       "    </tr>\n",
       "    <tr>\n",
       "      <th>25%</th>\n",
       "      <td>-26.909513</td>\n",
       "      <td>-26.951133</td>\n",
       "    </tr>\n",
       "    <tr>\n",
       "      <th>50%</th>\n",
       "      <td>-2.270750</td>\n",
       "      <td>0.653653</td>\n",
       "    </tr>\n",
       "    <tr>\n",
       "      <th>75%</th>\n",
       "      <td>28.565495</td>\n",
       "      <td>24.037873</td>\n",
       "    </tr>\n",
       "    <tr>\n",
       "      <th>max</th>\n",
       "      <td>87.107483</td>\n",
       "      <td>65.835594</td>\n",
       "    </tr>\n",
       "  </tbody>\n",
       "</table>\n",
       "</div>"
      ],
      "text/plain": [
       "                 0            1\n",
       "count  1000.000000  1000.000000\n",
       "mean      1.687317    -0.061766\n",
       "std      38.335075    34.838779\n",
       "min     -70.052795   -67.399597\n",
       "25%     -26.909513   -26.951133\n",
       "50%      -2.270750     0.653653\n",
       "75%      28.565495    24.037873\n",
       "max      87.107483    65.835594"
      ]
     },
     "execution_count": 308,
     "metadata": {},
     "output_type": "execute_result"
    }
   ],
   "source": [
    "pd.DataFrame(tSNE_galsim_test).describe()"
   ]
  },
  {
   "cell_type": "code",
   "execution_count": 309,
   "metadata": {},
   "outputs": [
    {
     "data": {
      "text/plain": [
       "array([-54.777447, -34.164948], dtype=float32)"
      ]
     },
     "execution_count": 309,
     "metadata": {},
     "output_type": "execute_result"
    }
   ],
   "source": [
    "tSNE_galsim_test[0]"
   ]
  },
  {
   "cell_type": "code",
   "execution_count": 384,
   "metadata": {
    "scrolled": true
   },
   "outputs": [
    {
     "data": {
      "image/png": "[encoded data removed]",
      "text/plain": [
       "<Figure size 288x288 with 1 Axes>"
      ]
     },
     "metadata": {
      "needs_background": "light"
     },
     "output_type": "display_data"
    }
   ],
   "source": [
    "plt.figure(figsize=(4,4))\n",
    "sns.heatmap(galsim_test[0].reshape(20,20), cbar=False)\n",
    "plt.tick_params(axis='both', which='major', labelsize=0)\n",
    "plt.show()"
   ]
  },
  {
   "cell_type": "code",
   "execution_count": 314,
   "metadata": {},
   "outputs": [
    {
     "data": {
      "text/plain": [
       "array([ -2.864285, -53.49797 ], dtype=float32)"
      ]
     },
     "execution_count": 314,
     "metadata": {},
     "output_type": "execute_result"
    }
   ],
   "source": [
    "tSNE_galsim_test[1]"
   ]
  },
  {
   "cell_type": "code",
   "execution_count": 359,
   "metadata": {},
   "outputs": [
    {
     "data": {
      "image/png": "[encoded data removed]",
      "text/plain": [
       "<Figure size 288x288 with 1 Axes>"
      ]
     },
     "metadata": {
      "needs_background": "light"
     },
     "output_type": "display_data"
    }
   ],
   "source": [
    "plt.figure(figsize=(4,4))\n",
    "sns.heatmap(galsim_test[1].reshape(20,20), cbar=False)\n",
    "plt.tick_params(axis='both', which='major', labelsize=0)\n",
    "plt.show()"
   ]
  },
  {
   "cell_type": "code",
   "execution_count": 317,
   "metadata": {},
   "outputs": [
    {
     "data": {
      "text/plain": [
       "array([-49.476234,  45.2959  ], dtype=float32)"
      ]
     },
     "execution_count": 317,
     "metadata": {},
     "output_type": "execute_result"
    }
   ],
   "source": [
    "tSNE_galsim_test[3]"
   ]
  },
  {
   "cell_type": "code",
   "execution_count": 360,
   "metadata": {},
   "outputs": [
    {
     "data": {
      "image/png": "[encoded data removed]",
      "text/plain": [
       "<Figure size 288x288 with 1 Axes>"
      ]
     },
     "metadata": {
      "needs_background": "light"
     },
     "output_type": "display_data"
    }
   ],
   "source": [
    "plt.figure(figsize=(4,4))\n",
    "sns.heatmap(galsim_test[3].reshape(20,20), cbar=False)\n",
    "plt.tick_params(axis='both', which='major', labelsize=0)\n",
    "plt.show()"
   ]
  },
  {
   "cell_type": "code",
   "execution_count": 320,
   "metadata": {},
   "outputs": [
    {
     "data": {
      "text/plain": [
       "array([15.717474, 41.818348], dtype=float32)"
      ]
     },
     "execution_count": 320,
     "metadata": {},
     "output_type": "execute_result"
    }
   ],
   "source": [
    "tSNE_galsim_test[4]"
   ]
  },
  {
   "cell_type": "code",
   "execution_count": 361,
   "metadata": {},
   "outputs": [
    {
     "data": {
      "image/png": "[encoded data removed]",
      "text/plain": [
       "<Figure size 288x288 with 1 Axes>"
      ]
     },
     "metadata": {
      "needs_background": "light"
     },
     "output_type": "display_data"
    }
   ],
   "source": [
    "plt.figure(figsize=(4,4))\n",
    "sns.heatmap(galsim_test[4].reshape(20,20), cbar=False)\n",
    "plt.tick_params(axis='both', which='major', labelsize=0)\n",
    "plt.show()"
   ]
  },
  {
   "cell_type": "code",
   "execution_count": 324,
   "metadata": {},
   "outputs": [
    {
     "data": {
      "text/plain": [
       "array([ 50.735954, -20.74863 ], dtype=float32)"
      ]
     },
     "execution_count": 324,
     "metadata": {},
     "output_type": "execute_result"
    }
   ],
   "source": [
    "tSNE_galsim_test[6]"
   ]
  },
  {
   "cell_type": "code",
   "execution_count": 362,
   "metadata": {},
   "outputs": [
    {
     "data": {
      "image/png": "[encoded data removed]",
      "text/plain": [
       "<Figure size 288x288 with 1 Axes>"
      ]
     },
     "metadata": {
      "needs_background": "light"
     },
     "output_type": "display_data"
    }
   ],
   "source": [
    "plt.figure(figsize=(4,4))\n",
    "sns.heatmap(galsim_test[6].reshape(20,20), cbar=False)\n",
    "plt.tick_params(axis='both', which='major', labelsize=0)\n",
    "plt.show()"
   ]
  },
  {
   "cell_type": "code",
   "execution_count": 348,
   "metadata": {},
   "outputs": [
    {
     "data": {
      "text/plain": [
       "array([-27.589544,  13.05133 ], dtype=float32)"
      ]
     },
     "execution_count": 348,
     "metadata": {},
     "output_type": "execute_result"
    }
   ],
   "source": [
    "tSNE_galsim_test[12]"
   ]
  },
  {
   "cell_type": "code",
   "execution_count": 363,
   "metadata": {},
   "outputs": [
    {
     "data": {
      "image/png": "[encoded data removed]",
      "text/plain": [
       "<Figure size 288x288 with 1 Axes>"
      ]
     },
     "metadata": {
      "needs_background": "light"
     },
     "output_type": "display_data"
    }
   ],
   "source": [
    "plt.figure(figsize=(4,4))\n",
    "sns.heatmap(galsim_test[12].reshape(20,20), cbar=False)\n",
    "plt.tick_params(axis='both', which='major', labelsize=0)\n",
    "plt.show()"
   ]
  },
  {
   "cell_type": "code",
   "execution_count": 332,
   "metadata": {},
   "outputs": [
    {
     "data": {
      "text/plain": [
       "array([83.12487 , 20.087643], dtype=float32)"
      ]
     },
     "execution_count": 332,
     "metadata": {},
     "output_type": "execute_result"
    }
   ],
   "source": [
    "tSNE_galsim_test[-4]"
   ]
  },
  {
   "cell_type": "code",
   "execution_count": 364,
   "metadata": {},
   "outputs": [
    {
     "data": {
      "image/png": "[encoded data removed]",
      "text/plain": [
       "<Figure size 288x288 with 1 Axes>"
      ]
     },
     "metadata": {
      "needs_background": "light"
     },
     "output_type": "display_data"
    }
   ],
   "source": [
    "plt.figure(figsize=(4,4))\n",
    "sns.heatmap(galsim_test[-4].reshape(20,20), cbar=False)\n",
    "plt.tick_params(axis='both', which='major', labelsize=0)\n",
    "plt.show()"
   ]
  },
  {
   "cell_type": "code",
   "execution_count": 337,
   "metadata": {},
   "outputs": [
    {
     "data": {
      "text/plain": [
       "array([49.821854, 40.051247], dtype=float32)"
      ]
     },
     "execution_count": 337,
     "metadata": {},
     "output_type": "execute_result"
    }
   ],
   "source": [
    "tSNE_galsim_test[-6]"
   ]
  },
  {
   "cell_type": "code",
   "execution_count": 365,
   "metadata": {},
   "outputs": [
    {
     "data": {
      "image/png": "[encoded data removed]",
      "text/plain": [
       "<Figure size 288x288 with 1 Axes>"
      ]
     },
     "metadata": {
      "needs_background": "light"
     },
     "output_type": "display_data"
    }
   ],
   "source": [
    "plt.figure(figsize=(4,4))\n",
    "sns.heatmap(galsim_test[-6].reshape(20,20), cbar=False)\n",
    "plt.tick_params(axis='both', which='major', labelsize=0)\n",
    "plt.show()"
   ]
  },
  {
   "cell_type": "code",
   "execution_count": null,
   "metadata": {},
   "outputs": [],
   "source": []
  },
  {
   "cell_type": "code",
   "execution_count": null,
   "metadata": {},
   "outputs": [],
   "source": []
  },
  {
   "cell_type": "code",
   "execution_count": null,
   "metadata": {},
   "outputs": [],
   "source": []
  }
 ],
 "metadata": {
  "kernelspec": {
   "display_name": "Python 3",
   "language": "python",
   "name": "python3"
  },
  "language_info": {
   "codemirror_mode": {
    "name": "ipython",
    "version": 3
   },
   "file_extension": ".py",
   "mimetype": "text/x-python",
   "name": "python",
   "nbconvert_exporter": "python",
   "pygments_lexer": "ipython3",
   "version": "3.7.3"
  }
 },
 "nbformat": 4,
 "nbformat_minor": 4
}
