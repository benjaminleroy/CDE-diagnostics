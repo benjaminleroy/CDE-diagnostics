{
 "cells": [
  {
   "cell_type": "code",
   "execution_count": 80,
   "metadata": {},
   "outputs": [],
   "source": [
    "import numpy as np\n",
    "import pandas as pd\n",
    "import ipdb\n",
    "import pickle\n",
    "import nnkcde\n",
    "from cdetools.cdf_coverage import cdf_coverage\n",
    "from cdetools.plot_utils import plot_with_uniform_band\n",
    "from scipy.stats import norm, multivariate_normal\n",
    "from scipy.integrate import simps\n",
    "import statsmodels.api as sm\n",
    "from sklearn.neural_network import MLPClassifier\n",
    "import statsmodels.api as sm\n",
    "from scipy.special import expit, logit\n",
    "\n",
    "import matplotlib.pyplot as plt\n",
    "from matplotlib import colors\n",
    "from mpl_toolkits.mplot3d import Axes3D\n",
    "from matplotlib.ticker import NullFormatter\n",
    "import seaborn as sns\n",
    "from pydiffmap import diffusion_map as dm\n",
    "from sklearn.manifold import TSNE\n",
    "import umap\n",
    "\n",
    "import math\n",
    "\n",
    "import torch\n",
    "import torch.nn as nn\n",
    "from mdn_model import MDNPerceptron\n",
    "from convolutional_mdn_model import ConvMDNPerceptron"
   ]
  },
  {
   "cell_type": "markdown",
   "metadata": {},
   "source": [
    "# specify model\n",
    "## prior: $\\alpha \\sim Unif[-\\pi,\\pi],\\ \\ P(\\lambda=0.7)=1-P(\\lambda=0.1)=0.9$\n",
    "## simulator: image $x$ with displacement $\\lambda$, angle $a|\\alpha \\sim 0.5Lap(\\alpha, 0.05) + 0.5Lap(\\alpha, 0.0005)$"
   ]
  },
  {
   "cell_type": "markdown",
   "metadata": {},
   "source": [
    "# fit convolutional MDN using PyTorch"
   ]
  },
  {
   "cell_type": "code",
   "execution_count": 2,
   "metadata": {},
   "outputs": [],
   "source": [
    "with open('all_output_CMDN_2021-02-07-04-06.pkl', 'rb') as handle:\n",
    "    pis, mus, sigmas = pickle.load(handle)"
   ]
  },
  {
   "cell_type": "code",
   "execution_count": 3,
   "metadata": {
    "scrolled": true
   },
   "outputs": [],
   "source": [
    "for k, pi in pis.items():\n",
    "    pis[k] = pis[k].detach().numpy()"
   ]
  },
  {
   "cell_type": "code",
   "execution_count": 4,
   "metadata": {},
   "outputs": [],
   "source": [
    "for k, mu in mus.items():\n",
    "    mus[k] = mus[k].detach().numpy()"
   ]
  },
  {
   "cell_type": "code",
   "execution_count": 5,
   "metadata": {},
   "outputs": [],
   "source": [
    "for k, sigma in sigmas.items():\n",
    "    sigmas[k] = sigmas[k].detach().numpy()"
   ]
  },
  {
   "cell_type": "code",
   "execution_count": 6,
   "metadata": {
    "scrolled": true
   },
   "outputs": [
    {
     "data": {
      "text/plain": [
       "{2: array([[0.52504325, 0.47495666],\n",
       "        [0.5271925 , 0.4728075 ],\n",
       "        [0.52788687, 0.47211316],\n",
       "        ...,\n",
       "        [0.5271007 , 0.47289926],\n",
       "        [0.49595544, 0.50404465],\n",
       "        [0.533389  , 0.46661103]], dtype=float32),\n",
       " 3: array([[4.8351339e-01, 5.0683099e-01, 9.6556535e-03],\n",
       "        [4.7968638e-01, 5.0149792e-01, 1.8815666e-02],\n",
       "        [4.8534679e-01, 5.0514120e-01, 9.5120473e-03],\n",
       "        ...,\n",
       "        [4.8228058e-01, 5.0314230e-01, 1.4577146e-02],\n",
       "        [5.0282907e-01, 4.9717098e-01, 1.5729576e-08],\n",
       "        [4.7234002e-01, 5.2159899e-01, 6.0609914e-03]], dtype=float32),\n",
       " 4: array([[1.1561267e-08, 4.8983079e-01, 3.8191988e-08, 5.1016915e-01],\n",
       "        [4.4454792e-01, 2.3693401e-02, 5.0641769e-01, 2.5340922e-02],\n",
       "        [7.4758145e-07, 4.8449385e-01, 1.9536872e-06, 5.1550353e-01],\n",
       "        ...,\n",
       "        [8.0256723e-03, 4.6639124e-01, 1.2103808e-02, 5.1347923e-01],\n",
       "        [4.9008855e-01, 3.4614108e-13, 5.0991142e-01, 1.3394144e-13],\n",
       "        [5.3404987e-01, 1.8880394e-13, 4.6595007e-01, 9.5193527e-14]],\n",
       "       dtype=float32),\n",
       " 5: array([[4.4762930e-01, 2.4328809e-03, 5.3364241e-01, 1.2992984e-02,\n",
       "         3.3024650e-03],\n",
       "        [4.7086054e-01, 1.6972559e-04, 4.9779415e-01, 1.2497600e-02,\n",
       "         1.8678060e-02],\n",
       "        [4.6231154e-01, 5.9391995e-04, 5.1894176e-01, 1.3691334e-02,\n",
       "         4.4614444e-03],\n",
       "        ...,\n",
       "        [4.8248070e-01, 1.9062449e-04, 4.9397644e-01, 1.3517024e-02,\n",
       "         9.8351995e-03],\n",
       "        [4.9556562e-01, 1.1553141e-04, 4.9405593e-01, 2.4169667e-03,\n",
       "         7.8459270e-03],\n",
       "        [4.7312567e-01, 1.3527240e-03, 3.3280823e-01, 5.1054363e-03,\n",
       "         1.8760797e-01]], dtype=float32),\n",
       " 6: array([[2.5106302e-01, 3.4569345e-07, 3.9098535e-02, 5.7159926e-09,\n",
       "         4.5320848e-01, 2.5662962e-01],\n",
       "        [2.2591881e-03, 5.4699606e-01, 3.4486665e-03, 4.1379464e-01,\n",
       "         1.1147789e-02, 2.2353722e-02],\n",
       "        [1.6882542e-01, 1.3546278e-05, 2.1453727e-02, 8.4064283e-07,\n",
       "         4.7803611e-01, 3.3167031e-01],\n",
       "        ...,\n",
       "        [5.1525988e-02, 9.1303021e-02, 9.4092125e-03, 3.7859399e-02,\n",
       "         3.4781203e-01, 4.6209031e-01],\n",
       "        [2.1301194e-06, 4.4489837e-01, 5.1546150e-01, 3.9634999e-02,\n",
       "         4.5306646e-07, 2.5004499e-06],\n",
       "        [9.3643543e-08, 4.8820812e-01, 1.1125439e-02, 5.0066626e-01,\n",
       "         1.6214994e-08, 9.4087454e-08]], dtype=float32),\n",
       " 7: array([[6.8811755e-07, 1.8378545e-02, 5.1655829e-01, ..., 3.8750222e-01,\n",
       "         4.4683202e-05, 7.5238670e-05],\n",
       "        [5.1346733e-06, 1.3663328e-01, 2.0411180e-01, ..., 3.6556265e-01,\n",
       "         1.3181321e-01, 1.4900587e-01],\n",
       "        [1.0151084e-06, 2.2556126e-02, 5.1157433e-01, ..., 4.2638919e-01,\n",
       "         1.5209675e-04, 2.2606226e-04],\n",
       "        ...,\n",
       "        [3.5548580e-06, 8.3747201e-02, 3.7641495e-01, ..., 4.8784518e-01,\n",
       "         1.3585597e-02, 1.6658336e-02],\n",
       "        [1.2218327e-09, 2.4136085e-05, 3.2216203e-08, ..., 8.6855391e-07,\n",
       "         5.1759577e-01, 4.8237917e-01],\n",
       "        [8.3349093e-08, 3.1439848e-03, 5.4529090e-05, ..., 3.7372633e-04,\n",
       "         4.7338915e-01, 5.2301574e-01]], dtype=float32),\n",
       " 8: array([[5.8164445e-05, 6.6127993e-02, 8.2167417e-02, ..., 1.4580043e-01,\n",
       "         6.5365180e-05, 3.0248505e-01],\n",
       "        [8.0131367e-03, 6.0385197e-02, 1.0024551e-02, ..., 4.8684919e-01,\n",
       "         1.0324452e-02, 5.6373333e-03],\n",
       "        [3.9279563e-05, 8.4911078e-02, 3.1765636e-02, ..., 3.8922781e-01,\n",
       "         4.9959202e-05, 1.0106681e-01],\n",
       "        ...,\n",
       "        [6.1296998e-04, 6.5719999e-02, 1.1935901e-02, ..., 4.9861327e-01,\n",
       "         7.9613749e-04, 1.5858747e-02],\n",
       "        [5.1413381e-01, 5.5672233e-05, 2.1343750e-04, ..., 2.9676457e-04,\n",
       "         4.8500618e-01, 5.7981047e-06],\n",
       "        [4.7152388e-01, 2.5504793e-04, 2.8446084e-04, ..., 8.5982727e-04,\n",
       "         5.2591956e-01, 6.5810473e-06]], dtype=float32),\n",
       " 9: array([[2.5606761e-07, 2.6661312e-06, 3.6194816e-01, ..., 1.3341241e-01,\n",
       "         1.3522242e-01, 3.6940616e-01],\n",
       "        [6.2833913e-02, 4.0729371e-01, 1.8658541e-02, ..., 2.4542134e-04,\n",
       "         1.6499044e-04, 1.8438984e-02],\n",
       "        [3.7360421e-06, 4.3448785e-05, 4.4440499e-01, ..., 4.0976785e-02,\n",
       "         3.7472963e-02, 4.7700414e-01],\n",
       "        ...,\n",
       "        [9.4505437e-03, 8.6647496e-02, 3.7483606e-01, ..., 6.0345931e-03,\n",
       "         4.4676401e-03, 4.0237895e-01],\n",
       "        [1.0911313e-01, 3.8552868e-01, 2.4766704e-08, ..., 1.8182881e-09,\n",
       "         6.5374717e-10, 2.1653634e-08],\n",
       "        [1.8639807e-01, 3.4540918e-01, 1.8693112e-06, ..., 1.4498320e-07,\n",
       "         8.9698361e-08, 1.3291377e-06]], dtype=float32),\n",
       " 10: array([[2.1047616e-01, 7.5985320e-02, 4.2468168e-02, ..., 1.2673607e-01,\n",
       "         2.6752402e-06, 8.7123001e-03],\n",
       "        [4.5692885e-01, 1.7404831e-03, 6.0968941e-06, ..., 1.3488812e-04,\n",
       "         5.7376026e-05, 3.6700174e-02],\n",
       "        [4.2921385e-01, 6.0486209e-02, 7.6548295e-04, ..., 4.9521336e-03,\n",
       "         9.6493648e-07, 1.0311137e-02],\n",
       "        ...,\n",
       "        [4.8630041e-01, 7.1761985e-03, 2.3236615e-05, ..., 3.5323240e-04,\n",
       "         8.2352790e-06, 1.9627374e-02],\n",
       "        [2.0736728e-08, 7.9241154e-12, 1.7625830e-09, ..., 3.6784023e-10,\n",
       "         4.5820686e-01, 4.9491737e-05],\n",
       "        [2.4647263e-04, 3.8396983e-08, 4.2322081e-06, ..., 2.4709394e-05,\n",
       "         4.5344242e-01, 4.5104809e-03]], dtype=float32)}"
      ]
     },
     "execution_count": 6,
     "metadata": {},
     "output_type": "execute_result"
    }
   ],
   "source": [
    "pis"
   ]
  },
  {
   "cell_type": "code",
   "execution_count": 7,
   "metadata": {
    "scrolled": true
   },
   "outputs": [
    {
     "data": {
      "text/plain": [
       "{2: array([[-2.257736  ,  0.87335324],\n",
       "        [-1.6092298 ,  1.5111418 ],\n",
       "        [-2.0465822 ,  1.0781065 ],\n",
       "        ...,\n",
       "        [-1.7690059 ,  1.355409  ],\n",
       "        [-0.79085815,  2.3234673 ],\n",
       "        [-0.92444676,  2.1991866 ]], dtype=float32),\n",
       " 3: array([[ 0.92104346, -2.233911  , -1.1662904 ],\n",
       "        [ 1.5340097 , -1.6109538 , -0.43554783],\n",
       "        [ 1.1077924 , -2.0384343 , -0.9228132 ],\n",
       "        ...,\n",
       "        [ 1.3949078 , -1.7524292 , -0.5839175 ],\n",
       "        [ 2.3381462 , -0.81308115, -1.4581084 ],\n",
       "        [ 2.2081268 , -0.93602335, -0.7171842 ]], dtype=float32),\n",
       " 4: array([[-1.0819272 ,  0.9137223 ,  1.4835058 , -2.2341993 ],\n",
       "        [-1.5907927 ,  1.3581555 ,  1.5502696 , -1.6117141 ],\n",
       "        [-1.3004996 ,  1.1028697 ,  1.3908144 , -2.0278625 ],\n",
       "        ...,\n",
       "        [-1.553832  ,  1.3836915 ,  1.4319562 , -1.7515311 ],\n",
       "        [-0.80214125, -0.239427  ,  2.3387032 , -1.3306136 ],\n",
       "        [-0.92583585, -0.10282472,  2.2041116 , -1.2867653 ]],\n",
       "       dtype=float32),\n",
       " 5: array([[ 0.9210336 ,  0.7455332 , -2.2384233 ,  0.7078147 , -1.3273146 ],\n",
       "        [ 1.5384688 ,  0.46926337, -1.6000769 ,  1.3865181 , -1.431627  ],\n",
       "        [ 1.1078988 ,  0.6915944 , -2.0254364 ,  1.1354336 , -1.4422174 ],\n",
       "        ...,\n",
       "        [ 1.3944725 ,  0.56085575, -1.7446251 ,  1.4078821 , -1.4828041 ],\n",
       "        [ 2.3421912 ,  0.0429775 , -0.79373395,  1.5226732 , -1.3675702 ],\n",
       "        [ 2.2073019 , -0.00313348, -0.9282985 ,  0.5578197 , -0.9412929 ]],\n",
       "       dtype=float32),\n",
       " 6: array([[-2.2514837 ,  2.226078  ,  0.8452976 , -1.1269197 ,  0.90441096,\n",
       "         -2.2436564 ],\n",
       "        [-1.6814685 ,  1.5478458 ,  0.87565714, -1.6029483 ,  1.1739366 ,\n",
       "         -1.7547778 ],\n",
       "        [-2.031476  ,  1.9382735 ,  0.9779527 , -1.3164076 ,  1.1043038 ,\n",
       "         -2.0411246 ],\n",
       "        ...,\n",
       "        [-1.7424827 ,  1.5157943 ,  1.1153728 , -1.6287864 ,  1.3749411 ,\n",
       "         -1.7673026 ],\n",
       "        [-1.7191749 ,  2.35607   , -0.8131537 , -0.92363834, -0.73276573,\n",
       "         -2.1397634 ],\n",
       "        [-1.4899962 ,  2.218324  , -0.82404166, -0.9397274 , -0.6428347 ,\n",
       "         -1.957973  ]], dtype=float32),\n",
       " 7: array([[ 1.0369978 , -2.3986676 , -2.2270107 , ...,  0.90807426,\n",
       "          1.2468383 , -1.3979608 ],\n",
       "        [ 0.48011935, -1.6387582 , -1.6073885 , ...,  1.5353767 ,\n",
       "          1.5383439 , -1.549337  ],\n",
       "        [ 0.97299063, -2.178845  , -2.0216448 , ...,  1.1124818 ,\n",
       "          1.1624923 , -1.568986  ],\n",
       "        ...,\n",
       "        [ 0.6635265 , -1.814635  , -1.7378085 , ...,  1.4011396 ,\n",
       "          1.3767996 , -1.5935459 ],\n",
       "        [-0.7129191 , -0.6620211 , -0.68703294, ...,  1.895214  ,\n",
       "          2.335079  , -0.8105099 ],\n",
       "        [-0.1455025 , -1.2175057 , -1.3467093 , ...,  1.6217797 ,\n",
       "          2.200527  , -0.93411255]], dtype=float32),\n",
       " 8: array([[ 1.7802227 , -2.1721091 ,  0.947563  , ...,  0.89568925,\n",
       "         -1.0822012 , -2.2305825 ],\n",
       "        [ 1.5556892 , -1.5695603 ,  0.87679625, ...,  1.5363057 ,\n",
       "         -1.5351415 , -1.8138207 ],\n",
       "        [ 1.5157276 , -1.9921826 ,  1.1276876 , ...,  1.1151797 ,\n",
       "         -1.3888534 , -2.040511  ],\n",
       "        ...,\n",
       "        [ 1.48125   , -1.7449836 ,  1.048672  , ...,  1.3917509 ,\n",
       "         -1.545956  , -1.8689675 ],\n",
       "        [ 2.335225  , -1.3691933 , -0.32077456, ...,  1.9587315 ,\n",
       "         -0.8146684 , -1.5865011 ],\n",
       "        [ 2.2001    , -1.1976546 , -0.11455643, ...,  1.8408102 ,\n",
       "         -0.9450954 , -1.8711503 ]], dtype=float32),\n",
       " 9: array([[-1.2138315 , -1.1302447 ,  0.9179611 , ...,  0.9074093 ,\n",
       "         -2.225368  , -2.2398124 ],\n",
       "        [-1.5843499 , -1.5996869 ,  1.3959366 , ...,  0.8486476 ,\n",
       "         -2.2151651 , -1.7319673 ],\n",
       "        [-1.4595401 , -1.4152029 ,  1.1212598 , ...,  1.0140146 ,\n",
       "         -2.0913377 , -2.0221088 ],\n",
       "        ...,\n",
       "        [-1.659585  , -1.6661906 ,  1.3770306 , ...,  0.9868132 ,\n",
       "         -2.0872529 , -1.7634913 ],\n",
       "        [-0.8186178 , -0.79540837,  1.3663428 , ...,  0.22247191,\n",
       "         -3.161478  , -2.3148746 ],\n",
       "        [-0.93225765, -0.93099   ,  1.089522  , ...,  0.25789237,\n",
       "         -2.808424  , -2.048926  ]], dtype=float32),\n",
       " 10: array([[ 0.907166  ,  0.8669566 , -2.2235918 , ...,  0.93062085,\n",
       "          1.6801537 ,  1.0327554 ],\n",
       "        [ 1.5340368 ,  1.8812382 , -1.8937638 , ...,  1.1534392 ,\n",
       "          1.5801966 ,  1.3657072 ],\n",
       "        [ 1.1059134 ,  1.1022778 , -2.0476487 , ...,  1.11616   ,\n",
       "          1.5027169 ,  0.9764493 ],\n",
       "        ...,\n",
       "        [ 1.386551  ,  1.5727565 , -1.9133368 , ...,  1.1752828 ,\n",
       "          1.5067581 ,  1.1833054 ],\n",
       "        [ 1.5854523 ,  3.5853214 , -2.5044081 , ...,  0.66650397,\n",
       "          2.3348672 ,  2.7192278 ],\n",
       "        [ 1.6681395 ,  2.7180283 , -2.11591   , ...,  0.6060031 ,\n",
       "          2.1975381 ,  2.2578871 ]], dtype=float32)}"
      ]
     },
     "execution_count": 7,
     "metadata": {},
     "output_type": "execute_result"
    }
   ],
   "source": [
    "mus"
   ]
  },
  {
   "cell_type": "code",
   "execution_count": 8,
   "metadata": {
    "scrolled": true
   },
   "outputs": [
    {
     "data": {
      "text/plain": [
       "{2: array([[0.06977855, 0.06892274],\n",
       "        [0.0751381 , 0.07348518],\n",
       "        [0.06810702, 0.06465669],\n",
       "        ...,\n",
       "        [0.07299731, 0.07040107],\n",
       "        [0.04834006, 0.06194745],\n",
       "        [0.0896301 , 0.08896627]], dtype=float32),\n",
       " 3: array([[0.06597397, 0.06871472, 1.4291049 ],\n",
       "        [0.06325599, 0.05906961, 1.5325264 ],\n",
       "        [0.06432971, 0.06434364, 1.4499288 ],\n",
       "        ...,\n",
       "        [0.06326522, 0.06026162, 1.5067766 ],\n",
       "        [0.03585702, 0.03080261, 0.7359055 ],\n",
       "        [0.0664437 , 0.06568874, 1.2961341 ]], dtype=float32),\n",
       " 4: array([[0.10911705, 0.07038289, 0.06874368, 0.06776892],\n",
       "        [0.07734679, 0.0746605 , 0.06511395, 0.04687377],\n",
       "        [0.10377906, 0.07139501, 0.06888004, 0.06567694],\n",
       "        ...,\n",
       "        [0.0867729 , 0.07561328, 0.06751822, 0.05825806],\n",
       "        [0.02925908, 0.02591694, 0.03793231, 0.00575526],\n",
       "        [0.07451536, 0.05882119, 0.07094156, 0.01267411]], dtype=float32),\n",
       " 5: array([[0.06468139, 0.0134949 , 0.06677215, 0.30488232, 0.69196075],\n",
       "        [0.06326179, 0.01117979, 0.05767843, 0.30318797, 0.2561313 ],\n",
       "        [0.06199999, 0.0113103 , 0.06510889, 0.26305932, 0.50461775],\n",
       "        ...,\n",
       "        [0.06165314, 0.01066724, 0.06112208, 0.26106185, 0.32021132],\n",
       "        [0.04103963, 0.00440683, 0.02683329, 1.8811891 , 0.10084423],\n",
       "        [0.06945873, 0.01766648, 0.04006956, 1.2584871 , 0.10560876]],\n",
       "       dtype=float32),\n",
       " 6: array([[8.9142308e-02, 3.7755497e-02, 1.3869286e-01, 1.6225241e-02,\n",
       "         5.8436982e-02, 3.6404159e-02],\n",
       "        [4.2878157e-01, 6.3931093e-02, 6.4403512e-02, 5.2017711e-02,\n",
       "         4.8905209e-02, 6.1259277e-02],\n",
       "        [1.0523232e-01, 4.2304117e-02, 1.1353475e-01, 2.1877024e-02,\n",
       "         5.5905152e-02, 4.0113837e-02],\n",
       "        ...,\n",
       "        [1.8027666e-01, 5.8875050e-02, 7.8569233e-02, 3.9577648e-02,\n",
       "         4.7820501e-02, 5.1847674e-02],\n",
       "        [7.0965624e+00, 3.4591783e-02, 2.1322785e-02, 1.8894741e-02,\n",
       "         3.5524964e-02, 6.8513297e-02],\n",
       "        [1.9230024e+01, 7.3221661e-02, 4.0345896e-02, 7.0379384e-02,\n",
       "         7.6492131e-02, 1.2798147e-01]], dtype=float32),\n",
       " 7: array([[0.01205921, 0.05079098, 0.06247929, ..., 0.05873929, 0.06706998,\n",
       "         0.13761038],\n",
       "        [0.01330675, 0.08219612, 0.03326922, ..., 0.08292254, 0.04920784,\n",
       "         0.06280348],\n",
       "        [0.01522108, 0.0405577 , 0.05906781, ..., 0.05140809, 0.05843397,\n",
       "         0.10869804],\n",
       "        ...,\n",
       "        [0.01474929, 0.05851631, 0.04155194, ..., 0.06585068, 0.05100831,\n",
       "         0.07404054],\n",
       "        [0.00697231, 2.3816876 , 0.01053543, ..., 0.49271464, 0.04249766,\n",
       "         0.027148  ],\n",
       "        [0.00790072, 0.65234315, 0.01808532, ..., 0.3417808 , 0.06654296,\n",
       "         0.0639205 ]], dtype=float32),\n",
       " 8: array([[0.02518629, 0.09205105, 0.13767442, ..., 0.0366755 , 0.01439453,\n",
       "         0.03463737],\n",
       "        [0.03037236, 0.15939648, 0.52024585, ..., 0.06753755, 0.02318506,\n",
       "         0.01253865],\n",
       "        [0.0217828 , 0.10743889, 0.17974794, ..., 0.0501458 , 0.01276529,\n",
       "         0.02409582],\n",
       "        ...,\n",
       "        [0.02429405, 0.13504252, 0.34468034, ..., 0.06033081, 0.01649589,\n",
       "         0.01525247],\n",
       "        [0.03833193, 0.25908577, 1.4597927 , ..., 0.01608696, 0.02695545,\n",
       "         0.0082112 ],\n",
       "        [0.07057677, 0.2526891 , 1.1410345 , ..., 0.04970085, 0.07010856,\n",
       "         0.00973568]], dtype=float32),\n",
       " 9: array([[0.08088145, 0.03612214, 0.07592432, ..., 0.04071105, 0.02427453,\n",
       "         0.08095481],\n",
       "        [0.10684628, 0.04607311, 0.05038783, ..., 0.07689504, 0.00385596,\n",
       "         0.05923121],\n",
       "        [0.08858083, 0.03954646, 0.05842255, ..., 0.04513504, 0.01379723,\n",
       "         0.06656489],\n",
       "        ...,\n",
       "        [0.10185722, 0.04507813, 0.0472597 , ..., 0.06258983, 0.00528218,\n",
       "         0.05674415],\n",
       "        [0.04018286, 0.01965151, 0.02855665, ..., 0.06565204, 0.00103033,\n",
       "         0.0255894 ],\n",
       "        [0.10160807, 0.04169374, 0.08918688, ..., 0.11281127, 0.00391964,\n",
       "         0.08862443]], dtype=float32),\n",
       " 10: array([[0.08511116, 0.01685212, 0.02168665, ..., 0.04042287, 0.02194432,\n",
       "         0.19128937],\n",
       "        [0.05582935, 0.00784718, 0.00486463, ..., 0.00793812, 0.02324377,\n",
       "         0.08000056],\n",
       "        [0.06396488, 0.01120722, 0.01088645, ..., 0.02249804, 0.01879085,\n",
       "         0.12103081],\n",
       "        ...,\n",
       "        [0.05828572, 0.00867319, 0.00634315, ..., 0.01141355, 0.02101988,\n",
       "         0.09085968],\n",
       "        [0.01663916, 0.01436658, 0.00155809, ..., 0.0032138 , 0.03337677,\n",
       "         0.08485113],\n",
       "        [0.07410453, 0.01858324, 0.00725121, ..., 0.00826815, 0.0619783 ,\n",
       "         0.17462271]], dtype=float32)}"
      ]
     },
     "execution_count": 8,
     "metadata": {},
     "output_type": "execute_result"
    }
   ],
   "source": [
    "sigmas"
   ]
  },
  {
   "cell_type": "markdown",
   "metadata": {},
   "source": [
    "# compute KL loss"
   ]
  },
  {
   "cell_type": "code",
   "execution_count": 28,
   "metadata": {},
   "outputs": [],
   "source": [
    "n_train = 6000\n",
    "n_test = 4000\n",
    "\n",
    "with open('prior_mat_20210206.pkl', 'rb') as handle:\n",
    "    prior_mat = pickle.load(handle)\n",
    "alphas_test = prior_mat[n_train:n_train+n_test, 0]\n",
    "lambdas_test = prior_mat[n_train:n_train+n_test, 1]"
   ]
  },
  {
   "cell_type": "code",
   "execution_count": 10,
   "metadata": {},
   "outputs": [],
   "source": [
    "def compute_neg_log_lik(alpha, pis, mus, sigmas):\n",
    "    assert(pis.shape[0] == sigmas.shape[0] == mus.shape[0])\n",
    "    density = 0\n",
    "    for j in range(pis.shape[0]):\n",
    "        density += pis[j] * norm.pdf(x=alpha, loc=mus[j], scale=sigmas[j])\n",
    "    return -np.log(density)"
   ]
  },
  {
   "cell_type": "code",
   "execution_count": 27,
   "metadata": {
    "scrolled": true
   },
   "outputs": [],
   "source": [
    "NLL_dict = {}\n",
    "for k in range(2,11):\n",
    "    all_neg_log_lik = [compute_neg_log_lik(alphas_test[i], pis[k][i], mus[k][i], sigmas[k][i]) for i in range(n_test)]\n",
    "\n",
    "    # this is the KL loss for this model on obs data (up to additive constant)\n",
    "    NLL_dict[k] = 1/n_test * sum(all_neg_log_lik)"
   ]
  },
  {
   "cell_type": "code",
   "execution_count": 29,
   "metadata": {},
   "outputs": [
    {
     "data": {
      "text/plain": [
       "2    -0.169044\n",
       "3    -0.486776\n",
       "4    -0.588189\n",
       "5    -0.601596\n",
       "6    -0.579753\n",
       "7    -0.598485\n",
       "8    -0.610356\n",
       "9    -0.626698\n",
       "10   -0.567069\n",
       "dtype: float64"
      ]
     },
     "execution_count": 29,
     "metadata": {},
     "output_type": "execute_result"
    }
   ],
   "source": [
    "# k=9 mixture components gives the minimum KL divergence loss\n",
    "pd.Series(NLL_dict)"
   ]
  },
  {
   "cell_type": "markdown",
   "metadata": {},
   "source": [
    "# compute PIT values"
   ]
  },
  {
   "cell_type": "code",
   "execution_count": 11,
   "metadata": {},
   "outputs": [],
   "source": [
    "best_k = 9  # best number of mixture components according to KL loss"
   ]
  },
  {
   "cell_type": "code",
   "execution_count": 12,
   "metadata": {},
   "outputs": [],
   "source": [
    "def compute_mixture_pdf(alpha, pis, sigmas, mus):\n",
    "    assert(pis.shape[0] == sigmas.shape[0] == mus.shape[0])\n",
    "    density = 0\n",
    "    for j in range(pis.shape[0]):\n",
    "        density += pis[j] * norm.pdf(x=alpha, loc=mus[j], scale=sigmas[j])\n",
    "    return density"
   ]
  },
  {
   "cell_type": "code",
   "execution_count": 48,
   "metadata": {},
   "outputs": [],
   "source": [
    "# for each observed data point, calc pdf value (based on out pi, mu, sigma) of theta across a theta grid\n",
    "alpha_grid = np.linspace(-4, 4, 401)\n",
    "# nested list comprehension ftw\n",
    "all_pdf_values_data = np.array([[compute_mixture_pdf(alpha_grid[t], pis[best_k][i], sigmas[best_k][i], mus[best_k][i])\n",
    "                                 for t in range(len(alpha_grid))] for i in range(len(alphas_test))])"
   ]
  },
  {
   "cell_type": "code",
   "execution_count": 49,
   "metadata": {},
   "outputs": [
    {
     "data": {
      "text/plain": [
       "[<matplotlib.lines.Line2D at 0x1f2bcd48cc0>]"
      ]
     },
     "execution_count": 49,
     "metadata": {},
     "output_type": "execute_result"
    },
    {
     "data": {
      "image/png": "[encoded data removed]",
      "text/plain": [
       "<Figure size 432x288 with 1 Axes>"
      ]
     },
     "metadata": {
      "needs_background": "light"
     },
     "output_type": "display_data"
    }
   ],
   "source": [
    "plt.plot(all_pdf_values_data[0])"
   ]
  },
  {
   "cell_type": "code",
   "execution_count": 50,
   "metadata": {},
   "outputs": [
    {
     "name": "stdout",
     "output_type": "stream",
     "text": [
      "Integral of the first density integrates to: 1.00\n"
     ]
    }
   ],
   "source": [
    "den_integral = simps(all_pdf_values_data[0, :], x=alpha_grid)\n",
    "print('Integral of the first density integrates to: %.2f' % den_integral)"
   ]
  },
  {
   "cell_type": "code",
   "execution_count": 51,
   "metadata": {},
   "outputs": [],
   "source": [
    "# obs samples (theta,x) from joint distribution --> theta as obs posterior sample given x\n",
    "pit_values = cdf_coverage(all_pdf_values_data, alpha_grid, alphas_test)"
   ]
  },
  {
   "cell_type": "code",
   "execution_count": 52,
   "metadata": {},
   "outputs": [
    {
     "data": {
      "image/png": "[encoded data removed]",
      "text/plain": [
       "<Figure size 432x288 with 1 Axes>"
      ]
     },
     "metadata": {
      "needs_background": "light"
     },
     "output_type": "display_data"
    }
   ],
   "source": [
    "plt.hist(pit_values, bins=20)\n",
    "plt.show()"
   ]
  },
  {
   "cell_type": "code",
   "execution_count": 53,
   "metadata": {},
   "outputs": [],
   "source": [
    "pit_values_dict = {'k=9': pit_values}"
   ]
  },
  {
   "cell_type": "code",
   "execution_count": 56,
   "metadata": {},
   "outputs": [],
   "source": [
    "#with open('GalSim_pit_values_dict_20210207.pkl', 'wb') as handle:\n",
    "#    pickle.dump(pit_values_dict, handle, protocol=pickle.HIGHEST_PROTOCOL)"
   ]
  },
  {
   "cell_type": "code",
   "execution_count": 13,
   "metadata": {},
   "outputs": [],
   "source": [
    "with open('galaxies_test_20210207.pkl', 'rb') as handle:\n",
    "    galaxies_test = pickle.load(handle)"
   ]
  },
  {
   "cell_type": "code",
   "execution_count": 15,
   "metadata": {},
   "outputs": [],
   "source": [
    "galsim_test = galaxies_test.reshape(4000, 400)"
   ]
  },
  {
   "cell_type": "code",
   "execution_count": 63,
   "metadata": {},
   "outputs": [],
   "source": [
    "#np.save('GalSim_test_20210207.npy', galsim_test)"
   ]
  },
  {
   "cell_type": "markdown",
   "metadata": {},
   "source": [
    "# saved $\\hat r$ from MC samples, to build CIs"
   ]
  },
  {
   "cell_type": "code",
   "execution_count": 43,
   "metadata": {
    "scrolled": true
   },
   "outputs": [
    {
     "name": "stderr",
     "output_type": "stream",
     "text": [
      "C:\\Users\\dzhao\\Anaconda3\\lib\\site-packages\\sklearn\\base.py:306: UserWarning: Trying to unpickle estimator LabelBinarizer from version 0.21.3 when using version 0.21.2. This might lead to breaking code or invalid results. Use at your own risk.\n",
      "  UserWarning)\n",
      "C:\\Users\\dzhao\\Anaconda3\\lib\\site-packages\\sklearn\\base.py:306: UserWarning: Trying to unpickle estimator MLPClassifier from version 0.21.3 when using version 0.21.2. This might lead to breaking code or invalid results. Use at your own risk.\n",
      "  UserWarning)\n"
     ]
    }
   ],
   "source": [
    "with open(\"GalSim_all_rhat_classifiers_2021-02-08-02-49.pkl\", 'rb') as handle:\n",
    "    all_rhat_classifiers = pickle.load(handle)"
   ]
  },
  {
   "cell_type": "code",
   "execution_count": 623,
   "metadata": {},
   "outputs": [],
   "source": [
    "def get_confidence_band_range(n_trials=100, name='x1x2', alpha=0.05, points=[[1,2]]):\n",
    "    sample = [1 - all_rhat_classifiers[i][name][alpha].predict_proba(points)[:, 1][0] for i in range(n_trials)]\n",
    "    return [min(sample), max(sample)]"
   ]
  },
  {
   "cell_type": "markdown",
   "metadata": {},
   "source": [
    "# fixed $\\mathbf{x}_i$, QQ plot of $\\hat r_\\alpha(\\mathbf{x}_i)$ vs. $\\alpha$"
   ]
  },
  {
   "cell_type": "code",
   "execution_count": 35,
   "metadata": {},
   "outputs": [
    {
     "data": {
      "text/plain": [
       "array([0.7, 0.7, 0.7, ..., 0.7, 0.1, 0.7])"
      ]
     },
     "execution_count": 35,
     "metadata": {},
     "output_type": "execute_result"
    }
   ],
   "source": [
    "lambdas_test"
   ]
  },
  {
   "cell_type": "code",
   "execution_count": 36,
   "metadata": {},
   "outputs": [],
   "source": [
    "points = np.array([galsim_test[0], galsim_test[-2]])"
   ]
  },
  {
   "cell_type": "code",
   "execution_count": 25,
   "metadata": {},
   "outputs": [],
   "source": [
    "alphas = np.linspace(0.01, 0.99, 99)"
   ]
  },
  {
   "cell_type": "code",
   "execution_count": 37,
   "metadata": {
    "scrolled": true
   },
   "outputs": [
    {
     "name": "stdout",
     "output_type": "stream",
     "text": [
      "working on classifier k=9\n",
      "0.01\n",
      "0.02\n",
      "0.03\n",
      "0.04\n",
      "0.05\n",
      "0.060000000000000005\n",
      "0.06999999999999999\n",
      "0.08\n",
      "0.09\n",
      "0.09999999999999999\n",
      "0.11\n",
      "0.12\n",
      "0.13\n",
      "0.14\n",
      "0.15000000000000002\n",
      "0.16\n",
      "0.17\n",
      "0.18000000000000002\n",
      "0.19\n",
      "0.2\n",
      "0.21000000000000002\n",
      "0.22\n",
      "0.23\n",
      "0.24000000000000002\n",
      "0.25\n",
      "0.26\n",
      "0.27\n",
      "0.28\n",
      "0.29000000000000004\n",
      "0.3\n",
      "0.31\n",
      "0.32\n",
      "0.33\n",
      "0.34\n",
      "0.35000000000000003\n",
      "0.36000000000000004\n",
      "0.37\n",
      "0.38\n",
      "0.39\n",
      "0.4\n",
      "0.41000000000000003\n",
      "0.42000000000000004\n",
      "0.43\n",
      "0.44\n",
      "0.45\n",
      "0.46\n",
      "0.47000000000000003\n",
      "0.48000000000000004\n",
      "0.49\n",
      "0.5\n",
      "0.51\n",
      "0.52\n",
      "0.53\n",
      "0.54\n",
      "0.55\n",
      "0.56\n",
      "0.5700000000000001\n",
      "0.5800000000000001\n",
      "0.59\n",
      "0.6\n",
      "0.61\n",
      "0.62\n",
      "0.63\n",
      "0.64\n",
      "0.65\n",
      "0.66\n",
      "0.67\n",
      "0.68\n",
      "0.6900000000000001\n",
      "0.7000000000000001\n",
      "0.7100000000000001\n",
      "0.72\n",
      "0.73\n",
      "0.74\n",
      "0.75\n",
      "0.76\n",
      "0.77\n",
      "0.78\n",
      "0.79\n",
      "0.8\n",
      "0.81\n",
      "0.8200000000000001\n",
      "0.8300000000000001\n",
      "0.8400000000000001\n",
      "0.85\n",
      "0.86\n",
      "0.87\n",
      "0.88\n",
      "0.89\n",
      "0.9\n",
      "0.91\n",
      "0.92\n",
      "0.93\n",
      "0.9400000000000001\n",
      "0.9500000000000001\n",
      "0.9600000000000001\n",
      "0.97\n",
      "0.98\n",
      "0.99\n"
     ]
    }
   ],
   "source": [
    "rhat_alphas_xi = {}\n",
    "for name, pit in pit_values_dict.items():\n",
    "    print(\"working on classifier %s\" % name)\n",
    "    rhat_alphas_xi[name] = {}\n",
    "    for alpha in alphas:\n",
    "        print(alpha)\n",
    "        ind_values = [1*(x<=alpha) for x in pit]\n",
    "        rhat = MLPClassifier(alpha=0, max_iter=25000)\n",
    "        rhat.fit(X=galsim_test, y=ind_values)\n",
    "        rhat_alphas_xi[name][alpha] = rhat.predict_proba(points)[:, 1]"
   ]
  },
  {
   "cell_type": "code",
   "execution_count": 616,
   "metadata": {
    "scrolled": true
   },
   "outputs": [],
   "source": [
    "confidence_qqplot = {}\n",
    "confidence_qqplot['k=9'] = np.array([get_confidence_band_range(name='k=9', alpha=i, points=points) for i in alphas])"
   ]
  },
  {
   "cell_type": "code",
   "execution_count": 40,
   "metadata": {},
   "outputs": [
    {
     "data": {
      "image/png": "[encoded data removed]",
      "text/plain": [
       "<Figure size 432x360 with 1 Axes>"
      ]
     },
     "metadata": {
      "needs_background": "light"
     },
     "output_type": "display_data"
    }
   ],
   "source": [
    "use_series = pd.DataFrame(rhat_alphas_xi['k=9']).T[0]\n",
    "\n",
    "use_series.plot(style='.', figsize=(6,5), markersize=7)\n",
    "\n",
    "lims = [\n",
    "    np.min([0,0]),  # min of both axes\n",
    "    np.max([1,1]),  # max of both axes\n",
    "]\n",
    "plt.plot(lims, lims, 'r--', alpha=0.75, zorder=0)\n",
    "\n",
    "\"\"\"\n",
    "# confidence bands\n",
    "plt.fill_between(rhat_alphas_xi['k=9'].index,\n",
    "                 confidence_qqplot['k=9'][:, 0],\n",
    "                 confidence_qqplot['k=9'][:, 1],\n",
    "                 alpha=0.15\n",
    "                )\n",
    "\"\"\"\n",
    "\n",
    "plt.title(\"$\\hat r($\" + r'$\\alpha$' + \"$)$ vs. \" + r'$\\alpha$' + \" for GalSim image with $\\lambda=0.7$, k=9\", fontsize=20)\n",
    "plt.xlabel(\"$1-$\" + r'$\\alpha$', fontsize=20)\n",
    "plt.ylabel(\"$\\hat r($\" + r'$\\alpha$' + \"$)$\", fontsize=20)\n",
    "plt.tick_params(axis='both', which='major', labelsize=16)"
   ]
  },
  {
   "cell_type": "code",
   "execution_count": 41,
   "metadata": {},
   "outputs": [
    {
     "data": {
      "image/png": "[encoded data removed]",
      "text/plain": [
       "<Figure size 432x360 with 1 Axes>"
      ]
     },
     "metadata": {
      "needs_background": "light"
     },
     "output_type": "display_data"
    }
   ],
   "source": [
    "use_series = pd.DataFrame(rhat_alphas_xi['k=9']).T[1]\n",
    "\n",
    "use_series.plot(style='.', figsize=(6,5), markersize=7)\n",
    "\n",
    "lims = [\n",
    "    np.min([0,0]),  # min of both axes\n",
    "    np.max([1,1]),  # max of both axes\n",
    "]\n",
    "plt.plot(lims, lims, 'r--', alpha=0.75, zorder=0)\n",
    "\n",
    "\"\"\"\n",
    "# confidence bands\n",
    "plt.fill_between(rhat_alphas_xi['k=9'].index,\n",
    "                 confidence_qqplot['k=9'][:, 0],\n",
    "                 confidence_qqplot['k=9'][:, 1],\n",
    "                 alpha=0.15\n",
    "                )\n",
    "\"\"\"\n",
    "\n",
    "plt.title(\"$\\hat r($\" + r'$\\alpha$' + \"$)$ vs. \" + r'$\\alpha$' + \" for GalSim image with $\\lambda=0.1$, k=9\", fontsize=20)\n",
    "plt.xlabel(\"$1-$\" + r'$\\alpha$', fontsize=20)\n",
    "plt.ylabel(\"$\\hat r($\" + r'$\\alpha$' + \"$)$\", fontsize=20)\n",
    "plt.tick_params(axis='both', which='major', labelsize=16)"
   ]
  },
  {
   "cell_type": "code",
   "execution_count": 76,
   "metadata": {},
   "outputs": [],
   "source": [
    "#with open('rhat_alphas_xi_20210127.pkl', 'wb') as handle:\n",
    "#    pickle.dump(rhat_alphas_xi, handle, protocol=pickle.HIGHEST_PROTOCOL)"
   ]
  },
  {
   "cell_type": "markdown",
   "metadata": {},
   "source": [
    "# $T_i = \\frac{1}{|G|} \\sum_{\\alpha \\in G} (\\hat r_\\alpha(\\mathbf{x}_i) - \\alpha)^2$"
   ]
  },
  {
   "cell_type": "code",
   "execution_count": 59,
   "metadata": {},
   "outputs": [],
   "source": [
    "with open('GalSim_Ti_values_2021-02-07-21-16.pkl', 'rb') as handle:\n",
    "    Ti_values = pickle.load(handle)\n",
    "with open('GalSim_all_rhat_alphas_2021-02-07-21-16.pkl', 'rb') as handle:\n",
    "    all_rhat_alphas = pickle.load(handle)"
   ]
  },
  {
   "cell_type": "markdown",
   "metadata": {},
   "source": [
    "# global p-value based on $T_i$"
   ]
  },
  {
   "cell_type": "code",
   "execution_count": 44,
   "metadata": {},
   "outputs": [],
   "source": [
    "with open(\"GalSim_all_unif_Ti_values_2021-02-08-02-49.pkl\", 'rb') as handle:\n",
    "    all_unif_Ti_values = pickle.load(handle)"
   ]
  },
  {
   "cell_type": "code",
   "execution_count": 46,
   "metadata": {},
   "outputs": [
    {
     "data": {
      "text/plain": [
       "k=9    0.021\n",
       "dtype: float64"
      ]
     },
     "execution_count": 46,
     "metadata": {},
     "output_type": "execute_result"
    }
   ],
   "source": [
    "global_pvalues = sum([1* (pd.DataFrame(Ti_values).mean() < pd.DataFrame(all_unif_Ti_values[i]).mean())\n",
    "                   for i in range(len(all_unif_Ti_values))]) / len(all_unif_Ti_values)\n",
    "global_pvalues"
   ]
  },
  {
   "cell_type": "markdown",
   "metadata": {},
   "source": [
    "# local p-values based on $T_i$: local CvM test"
   ]
  },
  {
   "cell_type": "code",
   "execution_count": 47,
   "metadata": {
    "scrolled": true
   },
   "outputs": [
    {
     "data": {
      "text/plain": [
       "{0.1: MLPClassifier(activation='relu', alpha=0, batch_size='auto', beta_1=0.9,\n",
       "               beta_2=0.999, early_stopping=False, epsilon=1e-08,\n",
       "               hidden_layer_sizes=(100,), learning_rate='constant',\n",
       "               learning_rate_init=0.001, max_iter=25000, momentum=0.9,\n",
       "               n_iter_no_change=10, nesterovs_momentum=True, power_t=0.5,\n",
       "               random_state=None, shuffle=True, solver='adam', tol=0.0001,\n",
       "               validation_fraction=0.1, verbose=False, warm_start=False),\n",
       " 0.2: MLPClassifier(activation='relu', alpha=0, batch_size='auto', beta_1=0.9,\n",
       "               beta_2=0.999, early_stopping=False, epsilon=1e-08,\n",
       "               hidden_layer_sizes=(100,), learning_rate='constant',\n",
       "               learning_rate_init=0.001, max_iter=25000, momentum=0.9,\n",
       "               n_iter_no_change=10, nesterovs_momentum=True, power_t=0.5,\n",
       "               random_state=None, shuffle=True, solver='adam', tol=0.0001,\n",
       "               validation_fraction=0.1, verbose=False, warm_start=False),\n",
       " 0.30000000000000004: MLPClassifier(activation='relu', alpha=0, batch_size='auto', beta_1=0.9,\n",
       "               beta_2=0.999, early_stopping=False, epsilon=1e-08,\n",
       "               hidden_layer_sizes=(100,), learning_rate='constant',\n",
       "               learning_rate_init=0.001, max_iter=25000, momentum=0.9,\n",
       "               n_iter_no_change=10, nesterovs_momentum=True, power_t=0.5,\n",
       "               random_state=None, shuffle=True, solver='adam', tol=0.0001,\n",
       "               validation_fraction=0.1, verbose=False, warm_start=False),\n",
       " 0.4: MLPClassifier(activation='relu', alpha=0, batch_size='auto', beta_1=0.9,\n",
       "               beta_2=0.999, early_stopping=False, epsilon=1e-08,\n",
       "               hidden_layer_sizes=(100,), learning_rate='constant',\n",
       "               learning_rate_init=0.001, max_iter=25000, momentum=0.9,\n",
       "               n_iter_no_change=10, nesterovs_momentum=True, power_t=0.5,\n",
       "               random_state=None, shuffle=True, solver='adam', tol=0.0001,\n",
       "               validation_fraction=0.1, verbose=False, warm_start=False),\n",
       " 0.5: MLPClassifier(activation='relu', alpha=0, batch_size='auto', beta_1=0.9,\n",
       "               beta_2=0.999, early_stopping=False, epsilon=1e-08,\n",
       "               hidden_layer_sizes=(100,), learning_rate='constant',\n",
       "               learning_rate_init=0.001, max_iter=25000, momentum=0.9,\n",
       "               n_iter_no_change=10, nesterovs_momentum=True, power_t=0.5,\n",
       "               random_state=None, shuffle=True, solver='adam', tol=0.0001,\n",
       "               validation_fraction=0.1, verbose=False, warm_start=False),\n",
       " 0.6: MLPClassifier(activation='relu', alpha=0, batch_size='auto', beta_1=0.9,\n",
       "               beta_2=0.999, early_stopping=False, epsilon=1e-08,\n",
       "               hidden_layer_sizes=(100,), learning_rate='constant',\n",
       "               learning_rate_init=0.001, max_iter=25000, momentum=0.9,\n",
       "               n_iter_no_change=10, nesterovs_momentum=True, power_t=0.5,\n",
       "               random_state=None, shuffle=True, solver='adam', tol=0.0001,\n",
       "               validation_fraction=0.1, verbose=False, warm_start=False),\n",
       " 0.7000000000000001: MLPClassifier(activation='relu', alpha=0, batch_size='auto', beta_1=0.9,\n",
       "               beta_2=0.999, early_stopping=False, epsilon=1e-08,\n",
       "               hidden_layer_sizes=(100,), learning_rate='constant',\n",
       "               learning_rate_init=0.001, max_iter=25000, momentum=0.9,\n",
       "               n_iter_no_change=10, nesterovs_momentum=True, power_t=0.5,\n",
       "               random_state=None, shuffle=True, solver='adam', tol=0.0001,\n",
       "               validation_fraction=0.1, verbose=False, warm_start=False),\n",
       " 0.8: MLPClassifier(activation='relu', alpha=0, batch_size='auto', beta_1=0.9,\n",
       "               beta_2=0.999, early_stopping=False, epsilon=1e-08,\n",
       "               hidden_layer_sizes=(100,), learning_rate='constant',\n",
       "               learning_rate_init=0.001, max_iter=25000, momentum=0.9,\n",
       "               n_iter_no_change=10, nesterovs_momentum=True, power_t=0.5,\n",
       "               random_state=None, shuffle=True, solver='adam', tol=0.0001,\n",
       "               validation_fraction=0.1, verbose=False, warm_start=False),\n",
       " 0.9: MLPClassifier(activation='relu', alpha=0, batch_size='auto', beta_1=0.9,\n",
       "               beta_2=0.999, early_stopping=False, epsilon=1e-08,\n",
       "               hidden_layer_sizes=(100,), learning_rate='constant',\n",
       "               learning_rate_init=0.001, max_iter=25000, momentum=0.9,\n",
       "               n_iter_no_change=10, nesterovs_momentum=True, power_t=0.5,\n",
       "               random_state=None, shuffle=True, solver='adam', tol=0.0001,\n",
       "               validation_fraction=0.1, verbose=False, warm_start=False)}"
      ]
     },
     "execution_count": 47,
     "metadata": {},
     "output_type": "execute_result"
    }
   ],
   "source": [
    "all_rhat_classifiers[0]['k=9']"
   ]
  },
  {
   "cell_type": "code",
   "execution_count": 48,
   "metadata": {
    "scrolled": true
   },
   "outputs": [
    {
     "data": {
      "text/plain": [
       "array([[0.5191299, 0.4808701]])"
      ]
     },
     "execution_count": 48,
     "metadata": {},
     "output_type": "execute_result"
    }
   ],
   "source": [
    "all_rhat_classifiers[0]['k=9'][0.5].predict_proba([galsim_test[0]])"
   ]
  },
  {
   "cell_type": "code",
   "execution_count": 49,
   "metadata": {},
   "outputs": [
    {
     "data": {
      "text/plain": [
       "array([[0.45222516, 0.54777484]])"
      ]
     },
     "execution_count": 49,
     "metadata": {},
     "output_type": "execute_result"
    }
   ],
   "source": [
    "all_rhat_classifiers[0]['k=9'][0.5].predict_proba([galsim_test[-2]])"
   ]
  },
  {
   "cell_type": "code",
   "execution_count": 50,
   "metadata": {
    "scrolled": false
   },
   "outputs": [
    {
     "data": {
      "text/html": [
       "<div>\n",
       "<style scoped>\n",
       "    .dataframe tbody tr th:only-of-type {\n",
       "        vertical-align: middle;\n",
       "    }\n",
       "\n",
       "    .dataframe tbody tr th {\n",
       "        vertical-align: top;\n",
       "    }\n",
       "\n",
       "    .dataframe thead th {\n",
       "        text-align: right;\n",
       "    }\n",
       "</style>\n",
       "<table border=\"1\" class=\"dataframe\">\n",
       "  <thead>\n",
       "    <tr style=\"text-align: right;\">\n",
       "      <th></th>\n",
       "      <th>k=9</th>\n",
       "    </tr>\n",
       "  </thead>\n",
       "  <tbody>\n",
       "    <tr>\n",
       "      <th>0</th>\n",
       "      <td>0.202</td>\n",
       "    </tr>\n",
       "    <tr>\n",
       "      <th>1</th>\n",
       "      <td>0.003</td>\n",
       "    </tr>\n",
       "    <tr>\n",
       "      <th>2</th>\n",
       "      <td>0.124</td>\n",
       "    </tr>\n",
       "    <tr>\n",
       "      <th>3</th>\n",
       "      <td>0.289</td>\n",
       "    </tr>\n",
       "    <tr>\n",
       "      <th>4</th>\n",
       "      <td>0.225</td>\n",
       "    </tr>\n",
       "    <tr>\n",
       "      <th>...</th>\n",
       "      <td>...</td>\n",
       "    </tr>\n",
       "    <tr>\n",
       "      <th>3995</th>\n",
       "      <td>0.599</td>\n",
       "    </tr>\n",
       "    <tr>\n",
       "      <th>3996</th>\n",
       "      <td>0.580</td>\n",
       "    </tr>\n",
       "    <tr>\n",
       "      <th>3997</th>\n",
       "      <td>0.008</td>\n",
       "    </tr>\n",
       "    <tr>\n",
       "      <th>3998</th>\n",
       "      <td>0.169</td>\n",
       "    </tr>\n",
       "    <tr>\n",
       "      <th>3999</th>\n",
       "      <td>0.653</td>\n",
       "    </tr>\n",
       "  </tbody>\n",
       "</table>\n",
       "<p>4000 rows × 1 columns</p>\n",
       "</div>"
      ],
      "text/plain": [
       "        k=9\n",
       "0     0.202\n",
       "1     0.003\n",
       "2     0.124\n",
       "3     0.289\n",
       "4     0.225\n",
       "...     ...\n",
       "3995  0.599\n",
       "3996  0.580\n",
       "3997  0.008\n",
       "3998  0.169\n",
       "3999  0.653\n",
       "\n",
       "[4000 rows x 1 columns]"
      ]
     },
     "execution_count": 50,
     "metadata": {},
     "output_type": "execute_result"
    }
   ],
   "source": [
    "all_pvalues = sum([1* (pd.DataFrame(Ti_values) < pd.DataFrame(all_unif_Ti_values[i]))\n",
    "                   for i in range(len(all_unif_Ti_values))]) / len(all_unif_Ti_values)\n",
    "all_pvalues"
   ]
  },
  {
   "cell_type": "code",
   "execution_count": 66,
   "metadata": {},
   "outputs": [
    {
     "data": {
      "text/plain": [
       "3625"
      ]
     },
     "execution_count": 66,
     "metadata": {},
     "output_type": "execute_result"
    }
   ],
   "source": [
    "(lambdas_test == 0.7).sum()"
   ]
  },
  {
   "cell_type": "code",
   "execution_count": 64,
   "metadata": {},
   "outputs": [
    {
     "data": {
      "image/png": "[encoded data removed]",
      "text/plain": [
       "<Figure size 432x288 with 1 Axes>"
      ]
     },
     "metadata": {
      "needs_background": "light"
     },
     "output_type": "display_data"
    }
   ],
   "source": [
    "all_pvalues[lambdas_test == 0.7].hist(bins=20)\n",
    "plt.title('$\\lambda=0.7$ population, goodness-of-fit p-values')\n",
    "plt.show()"
   ]
  },
  {
   "cell_type": "code",
   "execution_count": 65,
   "metadata": {},
   "outputs": [
    {
     "data": {
      "image/png": "[encoded data removed]",
      "text/plain": [
       "<Figure size 432x288 with 1 Axes>"
      ]
     },
     "metadata": {
      "needs_background": "light"
     },
     "output_type": "display_data"
    }
   ],
   "source": [
    "all_pvalues[lambdas_test == 0.1].hist(bins=20)\n",
    "plt.title('$\\lambda=0.1$ population, goodness-of-fit p-values')\n",
    "plt.show()"
   ]
  },
  {
   "cell_type": "markdown",
   "metadata": {},
   "source": [
    "# tSNE"
   ]
  },
  {
   "cell_type": "code",
   "execution_count": 125,
   "metadata": {},
   "outputs": [],
   "source": [
    "tSNE_galsim_test = TSNE(n_components=2, perplexity=20).fit_transform(galsim_test)"
   ]
  },
  {
   "cell_type": "code",
   "execution_count": 110,
   "metadata": {},
   "outputs": [
    {
     "data": {
      "image/png": "[encoded data removed]",
      "text/plain": [
       "<Figure size 432x288 with 1 Axes>"
      ]
     },
     "metadata": {
      "needs_background": "light"
     },
     "output_type": "display_data"
    }
   ],
   "source": [
    "plt.scatter(tSNE_galsim_test[lambdas_test == 0.7][:, 0], tSNE_galsim_test[lambdas_test == 0.7][:, 1], s=3, label='$\\lambda=0.7$')\n",
    "plt.scatter(tSNE_galsim_test[lambdas_test == 0.1][:, 0], tSNE_galsim_test[lambdas_test == 0.1][:, 1], s=3, label='$\\lambda=0.1$')\n",
    "plt.title(\"tSNE of GalSim, perplexity=10\", fontsize=20)\n",
    "plt.legbend(fontsize=16)\n",
    "plt.tick_params(axis='both', which='major', labelsize=12)"
   ]
  },
  {
   "cell_type": "code",
   "execution_count": 128,
   "metadata": {},
   "outputs": [
    {
     "data": {
      "image/png": "[encoded data removed]",
      "text/plain": [
       "<Figure size 576x432 with 1 Axes>"
      ]
     },
     "metadata": {
      "needs_background": "light"
     },
     "output_type": "display_data"
    }
   ],
   "source": [
    "plt.figure(figsize=(8,6))\n",
    "plt.scatter(tSNE_galsim_test[lambdas_test == 0.7][:, 0], tSNE_galsim_test[lambdas_test == 0.7][:, 1], s=3, label='$\\lambda=0.7$')\n",
    "plt.scatter(tSNE_galsim_test[lambdas_test == 0.1][:, 0], tSNE_galsim_test[lambdas_test == 0.1][:, 1], s=3, label='$\\lambda=0.1$')\n",
    "plt.title(\"tSNE of GalSim, perplexity=20\", fontsize=20)\n",
    "lgnd = plt.legend(fontsize=16)\n",
    "lgnd.legendHandles[0]._sizes = [100]\n",
    "lgnd.legendHandles[1]._sizes = [100]\n",
    "plt.tick_params(axis='both', which='major', labelsize=12)"
   ]
  },
  {
   "cell_type": "code",
   "execution_count": 101,
   "metadata": {},
   "outputs": [
    {
     "data": {
      "image/png": "[encoded data removed]",
      "text/plain": [
       "<Figure size 432x288 with 1 Axes>"
      ]
     },
     "metadata": {
      "needs_background": "light"
     },
     "output_type": "display_data"
    }
   ],
   "source": [
    "plt.scatter(tSNE_galsim_test[lambdas_test == 0.7][:, 0], tSNE_galsim_test[lambdas_test == 0.7][:, 1], s=3, label='$\\lambda=0.7$')\n",
    "plt.scatter(tSNE_galsim_test[lambdas_test == 0.1][:, 0], tSNE_galsim_test[lambdas_test == 0.1][:, 1], s=3, label='$\\lambda=0.1$')\n",
    "plt.title(\"tSNE of GalSim\", fontsize=20)\n",
    "plt.legend(fontsize=16)\n",
    "plt.tick_params(axis='both', which='major', labelsize=12)"
   ]
  },
  {
   "cell_type": "code",
   "execution_count": 112,
   "metadata": {},
   "outputs": [
    {
     "data": {
      "image/png": "[encoded data removed]",
      "text/plain": [
       "<Figure size 432x288 with 1 Axes>"
      ]
     },
     "metadata": {
      "needs_background": "light"
     },
     "output_type": "display_data"
    }
   ],
   "source": [
    "plt.scatter(tSNE_galsim_test[lambdas_test == 0.7][:, 0], tSNE_galsim_test[lambdas_test == 0.7][:, 1], s=3, label='$\\lambda=0.7$')\n",
    "plt.scatter(tSNE_galsim_test[lambdas_test == 0.1][:, 0], tSNE_galsim_test[lambdas_test == 0.1][:, 1], s=3, label='$\\lambda=0.1$')\n",
    "plt.title(\"tSNE of GalSim, perplexity=40\", fontsize=20)\n",
    "plt.legend(fontsize=16)\n",
    "plt.tick_params(axis='both', which='major', labelsize=12)"
   ]
  },
  {
   "cell_type": "code",
   "execution_count": 119,
   "metadata": {},
   "outputs": [
    {
     "data": {
      "image/png": "[encoded data removed]",
      "text/plain": [
       "<Figure size 432x288 with 1 Axes>"
      ]
     },
     "metadata": {
      "needs_background": "light"
     },
     "output_type": "display_data"
    }
   ],
   "source": [
    "plt.scatter(tSNE_galsim_test[lambdas_test == 0.7][:, 0], tSNE_galsim_test[lambdas_test == 0.7][:, 1], s=3, label='$\\lambda=0.7$')\n",
    "plt.scatter(tSNE_galsim_test[lambdas_test == 0.1][:, 0], tSNE_galsim_test[lambdas_test == 0.1][:, 1], s=3, label='$\\lambda=0.1$')\n",
    "plt.title(\"tSNE of GalSim, perplexity=50\", fontsize=20)\n",
    "plt.legend(fontsize=16)\n",
    "plt.tick_params(axis='both', which='major', labelsize=12)"
   ]
  },
  {
   "cell_type": "code",
   "execution_count": 124,
   "metadata": {},
   "outputs": [
    {
     "data": {
      "image/png": "[encoded data removed]",
      "text/plain": [
       "<Figure size 432x288 with 1 Axes>"
      ]
     },
     "metadata": {
      "needs_background": "light"
     },
     "output_type": "display_data"
    }
   ],
   "source": [
    "plt.figure()\n",
    "plt.scatter(tSNE_galsim_test[lambdas_test == 0.7][:, 0], tSNE_galsim_test[lambdas_test == 0.7][:, 1], s=3, label='$\\lambda=0.7$')\n",
    "plt.scatter(tSNE_galsim_test[lambdas_test == 0.1][:, 0], tSNE_galsim_test[lambdas_test == 0.1][:, 1], s=3, label='$\\lambda=0.1$')\n",
    "plt.title(\"tSNE of GalSim, perplexity=60\", fontsize=20)\n",
    "lgnd = plt.legend(fontsize=16)\n",
    "lgnd.legendHandles[0]._sizes = [100]\n",
    "lgnd.legendHandles[1]._sizes = [100]\n",
    "plt.tick_params(axis='both', which='major', labelsize=12)\n",
    "plt.show()"
   ]
  },
  {
   "cell_type": "markdown",
   "metadata": {},
   "source": [
    "# UMAP"
   ]
  },
  {
   "cell_type": "code",
   "execution_count": 81,
   "metadata": {},
   "outputs": [],
   "source": [
    "UMAP_galsim_test = umap.UMAP().fit_transform(galsim_test)"
   ]
  },
  {
   "cell_type": "code",
   "execution_count": 88,
   "metadata": {},
   "outputs": [
    {
     "data": {
      "text/plain": [
       "Text(0.5, 1.0, 'UMAP of GalSim')"
      ]
     },
     "execution_count": 88,
     "metadata": {},
     "output_type": "execute_result"
    },
    {
     "data": {
      "image/png": "[encoded data removed]",
      "text/plain": [
       "<Figure size 432x288 with 1 Axes>"
      ]
     },
     "metadata": {
      "needs_background": "light"
     },
     "output_type": "display_data"
    }
   ],
   "source": [
    "plt.scatter(UMAP_galsim_test[:, 0], UMAP_galsim_test[:, 1], s=0.1)\n",
    "plt.title(\"UMAP of GalSim\")"
   ]
  },
  {
   "cell_type": "code",
   "execution_count": 102,
   "metadata": {},
   "outputs": [
    {
     "data": {
      "image/png": "[encoded data removed]",
      "text/plain": [
       "<Figure size 432x288 with 1 Axes>"
      ]
     },
     "metadata": {
      "needs_background": "light"
     },
     "output_type": "display_data"
    }
   ],
   "source": [
    "plt.scatter(UMAP_galsim_test[lambdas_test == 0.7][:, 0], UMAP_galsim_test[lambdas_test == 0.7][:, 1], s=3, label='$\\lambda=0.7$')\n",
    "plt.scatter(UMAP_galsim_test[lambdas_test == 0.1][:, 0], UMAP_galsim_test[lambdas_test == 0.1][:, 1], s=3, label='$\\lambda=0.1$')\n",
    "plt.title(\"UMAP of GalSim\", fontsize=20)\n",
    "plt.legend(fontsize=16)\n",
    "plt.tick_params(axis='both', which='major', labelsize=12)"
   ]
  },
  {
   "cell_type": "code",
   "execution_count": null,
   "metadata": {},
   "outputs": [],
   "source": []
  },
  {
   "cell_type": "code",
   "execution_count": null,
   "metadata": {},
   "outputs": [],
   "source": []
  },
  {
   "cell_type": "code",
   "execution_count": null,
   "metadata": {},
   "outputs": [],
   "source": []
  }
 ],
 "metadata": {
  "kernelspec": {
   "display_name": "Python 3",
   "language": "python",
   "name": "python3"
  },
  "language_info": {
   "codemirror_mode": {
    "name": "ipython",
    "version": 3
   },
   "file_extension": ".py",
   "mimetype": "text/x-python",
   "name": "python",
   "nbconvert_exporter": "python",
   "pygments_lexer": "ipython3",
   "version": "3.7.3"
  }
 },
 "nbformat": 4,
 "nbformat_minor": 4
}
